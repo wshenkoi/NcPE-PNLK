{
 "cells": [
  {
   "cell_type": "code",
   "execution_count": 1,
   "id": "83b1a3b1",
   "metadata": {},
   "outputs": [
    {
     "name": "stdout",
     "output_type": "stream",
     "text": [
      "Jupyter environment detected. Enabling Open3D WebVisualizer.\n",
      "[Open3D INFO] WebRTCWindowSystem: HTTP handshake server disabled.\n"
     ]
    }
   ],
   "source": [
    "import argparse\n",
    "import os\n",
    "import sys\n",
    "import logging\n",
    "import time\n",
    "import numpy as np\n",
    "import torch\n",
    "import torch.utils.data\n",
    "import torchvision\n",
    "import open3d as o3d\n",
    "from scipy.spatial.transform import Rotation\n",
    "from sklearn.neighbors import KDTree\n",
    "\n",
    "sys.path.insert(0, os.path.abspath(os.path.join(os.path.dirname(os.path.realpath('__file__')), os.pardir)))\n",
    "import ptlk"
   ]
  },
  {
   "cell_type": "code",
   "execution_count": 2,
   "id": "a21ff77e",
   "metadata": {},
   "outputs": [],
   "source": [
    "def options(argv=None):\n",
    "    parser = argparse.ArgumentParser(description='PointNet-LK')\n",
    "\n",
    "    parser.add_argument('-i', '--dataset-path', default='D:/SDXX/ModelNet40', type=str,\n",
    "                        metavar='PATH', help='path to the input dataset') # like 'modelnet40_half2'\n",
    "    parser.add_argument('-c', '--categoryfile', default='./sampledata/different_test.txt', type=str,\n",
    "                        metavar='PATH', help='path to the categories to be tested') # eg. './sampledata/modelnet40_half1.txt'\n",
    "    parser.add_argument('-p', '--perturbations', default='./perturbations/different/pertur_40.csv', type=str,\n",
    "                        metavar='PATH', help='path to the perturbation file') # see. generate_perturbations.py\n",
    "\n",
    "    # settings for input data\n",
    "    parser.add_argument('--dataset-type', default='modelnet', choices=['modelnet'],\n",
    "                        metavar='DATASET', help='dataset type (default: modelnet)')\n",
    "    parser.add_argument('--format', default='wv', choices=['wv', 'wt'],\n",
    "                        help='perturbation format (default: wv (twist)) (wt: rotation and translation)') \n",
    "\n",
    "    # settings for PointNet-LK\n",
    "    parser.add_argument('--max-iter', default=30, type=int,\n",
    "                        metavar='N', help='max-iter on LK. (default: 20)')\n",
    "    parser.add_argument('--pretrained', default='model_best_model_best.pth', type=str,    #\n",
    "                        metavar='PATH', help='path to trained model file (default: null (no-use))')\n",
    "    parser.add_argument('--transfer-from', default='', type=str,\n",
    "                        metavar='PATH', help='path to classifier feature (default: null (no-use))')\n",
    "    parser.add_argument('--dim-k', default=1024, type=int,\n",
    "                        metavar='K', help='dim. of the feature vector (default: 1024)')\n",
    "    parser.add_argument('--symfn', default='max', choices=['max', 'avg'],\n",
    "                        help='symmetric function (default: max)')\n",
    "    parser.add_argument('--delta', default=1.0e-2, type=float,\n",
    "                        metavar='D', help='step size for approx. Jacobian (default: 1.0e-2)')\n",
    "\n",
    "    # settings for on testing\n",
    "    parser.add_argument('-l', '--logfile', default='', type=str,\n",
    "                        metavar='LOGNAME', help='path to logfile (default: null (no logging))')\n",
    "    parser.add_argument('-j', '--workers', default=4, type=int,\n",
    "                        metavar='N', help='number of data loading workers (default: 4)')\n",
    "    parser.add_argument('--device', default='cpu', type=str,\n",
    "                        metavar='DEVICE', help='use CUDA if available (default: cpu)')\n",
    "\n",
    "    args = parser.parse_args(argv)\n",
    "    return args"
   ]
  },
  {
   "cell_type": "code",
   "execution_count": 3,
   "id": "1c1f8655",
   "metadata": {},
   "outputs": [],
   "source": [
    "class Action:\n",
    "    def __init__(self, args):\n",
    "        # PointNet\n",
    "        self.transfer_from = args.transfer_from\n",
    "        self.dim_k = args.dim_k\n",
    "        self.sym_fn = None\n",
    "        if args.symfn == 'max':\n",
    "            self.sym_fn = ptlk.pointnet.symfn_max\n",
    "        elif args.symfn == 'avg':\n",
    "            self.sym_fn = ptlk.pointnet.symfn_avg\n",
    "        # LK\n",
    "        self.delta = args.delta\n",
    "        self.max_iter = args.max_iter\n",
    "        self.xtol = 1.0e-7\n",
    "        self.p0_zero_mean = True\n",
    "        self.p1_zero_mean = True\n",
    "\n",
    "    def create_model(self):\n",
    "        ptnet = self.create_pointnet_features()\n",
    "        return self.create_from_pointnet_features(ptnet)\n",
    "\n",
    "    def create_pointnet_features(self):\n",
    "        ptnet = ptlk.pointnet.PointNet_features(self.dim_k, use_tnet=False, sym_fn=self.sym_fn)\n",
    "        if self.transfer_from and os.path.isfile(self.transfer_from):\n",
    "            ptnet.load_state_dict(torch.load(self.transfer_from, map_location='cpu'))\n",
    "        return ptnet\n",
    "\n",
    "    def create_from_pointnet_features(self, ptnet):\n",
    "        return ptlk.pointlk.PointLK(ptnet, self.delta)\n",
    "    \n",
    "    def eval_1(self, model, device):\n",
    "        model.eval()\n",
    "        p0, p1 = self.read_ply(self.templatefile, self.sourcefile)\n",
    "        p0 = torch.tensor(p0).unsqueeze(0)\n",
    "        p1 = torch.tensor(p1).unsqueeze(0)\n",
    "#        p0, p1 = data_tensor\n",
    "        res = self.do_estimate(p0, p1, model, device)\n",
    "        g_hat = res.cpu().contiguous().view(-1, 4, 4)\n",
    "        est_trans_p1 = ptlk.se3.transform(g_hat.to(p0), p1)\n",
    "        \n",
    "        return est_trans_p1\n",
    "#                   \n",
    "    def do_estimate(self, p0, p1, model, device):\n",
    "        p0 = p0.to(device) # template (1, N, 3)\n",
    "        p1 = p1.to(device) # source (1, M, 3)\n",
    "        r  = ptlk.pointlk.PointLK.do_forward(model, p0, p1, self.max_iter, self.xtol,\\\n",
    "                                            self.p0_zero_mean, self.p1_zero_mean)\n",
    "\n",
    "        #r = model(p0, p1, self.max_iter)\n",
    "        est_g = model.g # (1, 4, 4)\n",
    "\n",
    "        return est_g, r"
   ]
  },
  {
   "cell_type": "code",
   "execution_count": 4,
   "id": "14169352",
   "metadata": {},
   "outputs": [
    {
     "data": {
      "text/plain": [
       "PointLK(\n",
       "  (ptnet): PointNet_features(\n",
       "    (h1): Sequential(\n",
       "      (0): Conv1d(3, 64, kernel_size=(1,), stride=(1,))\n",
       "      (1): BatchNorm1d(64, eps=1e-05, momentum=0.1, affine=True, track_running_stats=True)\n",
       "      (2): ReLU()\n",
       "      (3): Conv1d(64, 64, kernel_size=(1,), stride=(1,))\n",
       "      (4): BatchNorm1d(64, eps=1e-05, momentum=0.1, affine=True, track_running_stats=True)\n",
       "      (5): ReLU()\n",
       "    )\n",
       "    (h2): Sequential(\n",
       "      (0): Conv1d(64, 64, kernel_size=(1,), stride=(1,))\n",
       "      (1): BatchNorm1d(64, eps=1e-05, momentum=0.1, affine=True, track_running_stats=True)\n",
       "      (2): ReLU()\n",
       "      (3): Conv1d(64, 128, kernel_size=(1,), stride=(1,))\n",
       "      (4): BatchNorm1d(128, eps=1e-05, momentum=0.1, affine=True, track_running_stats=True)\n",
       "      (5): ReLU()\n",
       "      (6): Conv1d(128, 1024, kernel_size=(1,), stride=(1,))\n",
       "      (7): BatchNorm1d(1024, eps=1e-05, momentum=0.1, affine=True, track_running_stats=True)\n",
       "      (8): ReLU()\n",
       "    )\n",
       "  )\n",
       ")"
      ]
     },
     "execution_count": 4,
     "metadata": {},
     "output_type": "execute_result"
    }
   ],
   "source": [
    "args = options([])\n",
    "act = Action(args)\n",
    "model = act.create_model()\n",
    "if args.pretrained:\n",
    "    assert os.path.isfile(args.pretrained)\n",
    "    model.load_state_dict(torch.load(args.pretrained, map_location='cpu'))\n",
    "model.to(args.device)\n",
    "model.eval()"
   ]
  },
  {
   "cell_type": "markdown",
   "id": "b91b43c9",
   "metadata": {},
   "source": [
    "# Bunny"
   ]
  },
  {
   "cell_type": "code",
   "execution_count": 5,
   "id": "c7f9b685",
   "metadata": {},
   "outputs": [],
   "source": [
    "#sol = np.array([2.20761e-05, -3.34606e-05, -7.20881e-05, 0.000335889, -0.708202, 0.000602459, 0.706009])     #90\n",
    "sol = np.array([-0.0520211, -0.000383981, -0.0109223, 0.00548449, -0.294635, -0.0038555, 0.955586])         #45\n",
    "r = Rotation.from_quat(sol[3:])\n",
    "rot = r.as_matrix()\n",
    "trans = sol[:3]\n",
    "G = np.concatenate((rot.T, trans.reshape(3, -1)), axis = 1)\n",
    "G = np.concatenate((G, [[0.,0.,0.,1.]]), axis = 0)"
   ]
  },
  {
   "cell_type": "code",
   "execution_count": 6,
   "id": "551e2453",
   "metadata": {},
   "outputs": [
    {
     "data": {
      "text/plain": [
       "PointCloud with 40097 points."
      ]
     },
     "execution_count": 6,
     "metadata": {},
     "output_type": "execute_result"
    }
   ],
   "source": [
    "bun_pt = o3d.io.read_point_cloud(r'C:\\Users\\fcky\\Desktop\\3D\\bunny\\bunny\\data\\bun000.ply')\n",
    "bun_pt.paint_uniform_color([0.5, 0.5, 0.5])\n",
    "bun_pt_tree = o3d.geometry.KDTreeFlann(bun_pt)\n",
    "bun_ps = o3d.io.read_point_cloud(r'C:\\Users\\fcky\\Desktop\\3D\\bunny\\bunny\\data\\bun045.ply')\n",
    "bun_ps.paint_uniform_color([0.5, 0.5, 0.5])"
   ]
  },
  {
   "cell_type": "code",
   "execution_count": 7,
   "id": "46bdd000",
   "metadata": {},
   "outputs": [],
   "source": [
    "tgt = np.asarray(bun_pt.points)\n",
    "scr = np.asarray(bun_ps.points)"
   ]
  },
  {
   "cell_type": "code",
   "execution_count": 8,
   "id": "c54bc769",
   "metadata": {},
   "outputs": [],
   "source": [
    "tgt_sorted = np.array(sorted(tgt.tolist(), key=lambda x:(x[0], x[1])))\n",
    "scr_sorted = np.array(sorted(scr.tolist(), key=lambda x:(x[0], x[1])))"
   ]
  },
  {
   "cell_type": "code",
   "execution_count": 9,
   "id": "99a8b6f6",
   "metadata": {},
   "outputs": [],
   "source": [
    "pt = torch.tensor(tgt_sorted).unsqueeze(0).contiguous().to(torch.float32)\n",
    "ps = torch.tensor(scr_sorted).unsqueeze(0).contiguous().to(torch.float32)"
   ]
  },
  {
   "cell_type": "code",
   "execution_count": 10,
   "id": "12747e21",
   "metadata": {},
   "outputs": [],
   "source": [
    "# 原图像\n",
    "bun_pt.paint_uniform_color([255/255, 127/255, 39/255])\n",
    "bun_pt.estimate_normals(search_param=o3d.geometry.KDTreeSearchParamHybrid(radius=0.1, max_nn=30))\n",
    "bun_pt.orient_normals_to_align_with_direction()\n",
    "bun_ps.paint_uniform_color([160/255, 255/255, 249/255])\n",
    "bun_ps.estimate_normals(search_param=o3d.geometry.KDTreeSearchParamHybrid(radius=0.1, max_nn=30))\n",
    "bun_ps.orient_normals_to_align_with_direction()\n",
    "o3d.visualization.draw_geometries([bun_pt, bun_ps])"
   ]
  },
  {
   "cell_type": "code",
   "execution_count": 20,
   "id": "d1ead854",
   "metadata": {},
   "outputs": [],
   "source": [
    "bun_ps.transform(G)\n",
    "bun_ps_tree = o3d.geometry.KDTreeFlann(bun_ps)"
   ]
  },
  {
   "cell_type": "code",
   "execution_count": 21,
   "id": "faf8a18c",
   "metadata": {},
   "outputs": [
    {
     "data": {
      "text/plain": [
       "0.3504065308272162"
      ]
     },
     "execution_count": 21,
     "metadata": {},
     "output_type": "execute_result"
    }
   ],
   "source": [
    "count = 0\n",
    "idxs_pt = []\n",
    "idxs_ps = []\n",
    "for i in range(len(bun_ps.points)):\n",
    "    #[k, idx, dist] = bun00_tree.search_knn_vector_3d(bun45.points[int(ind1[i])], 3)\n",
    "    [k, idx, dist] = bun_pt_tree.search_radius_vector_3d(bun_ps.points[i], 0.0005)\n",
    "    if k!= 0:\n",
    "        count += 1\n",
    "        idxs_pt.append(idx[0])\n",
    "        idxs_ps.append(i)\n",
    "count/len(bun_ps.points)"
   ]
  },
  {
   "cell_type": "code",
   "execution_count": 11,
   "id": "346c2211",
   "metadata": {},
   "outputs": [],
   "source": [
    "np.asarray(bun_pt.colors)[idxs_pt[0:], :] = [255/255, 127/255, 39/255]\n",
    "np.asarray(bun_ps.colors)[idxs_ps[0:], :] = [160/255, 255/255, 249/255]\n",
    "o3d.visualization.draw_geometries([bun_pt, bun_ps])"
   ]
  },
  {
   "cell_type": "code",
   "execution_count": 32,
   "id": "b77e8aaa",
   "metadata": {},
   "outputs": [],
   "source": [
    "tgtidx = torch.tensor(np.random.randint(0,tgt.shape[0],1024), dtype = torch.long)\n",
    "scridx = torch.tensor(np.random.randint(0,scr.shape[0],1024), dtype = torch.long)"
   ]
  },
  {
   "cell_type": "code",
   "execution_count": 11,
   "id": "fa6c23a0",
   "metadata": {},
   "outputs": [],
   "source": [
    "pt_kwy = int(tgt.shape[0] / 1024)\n",
    "pt_num = np.random.randint(0, pt_kwy, 1)\n",
    "tgtidx = list(range(pt_num[0], tgt.shape[0], int(pt_kwy+1)))\n",
    "ps_kwy = int(scr.shape[0] / 1024)\n",
    "ps_num = np.random.randint(0, ps_kwy, 1)\n",
    "scridx = list(range(ps_num[0], scr.shape[0], int(ps_kwy+1)))"
   ]
  },
  {
   "cell_type": "code",
   "execution_count": 12,
   "id": "65d809fe",
   "metadata": {},
   "outputs": [],
   "source": [
    "sampt = pt[:,tgtidx,:]\n",
    "samps = ps[:,scridx,:]\n",
    "with torch.no_grad():\n",
    "    since = time.time()\n",
    "    bu_est_g, bu_r = act.do_estimate(sampt, samps, model, args.device)\n",
    "    time_elapsed = time.time() - since"
   ]
  },
  {
   "cell_type": "code",
   "execution_count": 20,
   "id": "ad81a771",
   "metadata": {},
   "outputs": [],
   "source": [
    "#no sampling\n",
    "with torch.no_grad():\n",
    "    since = time.time()\n",
    "    bu_est_g, bu_r, bu_f_series, bu_feas = act.do_estimate(pt, ps, model, args.device)\n",
    "    time_elapsed = time.time() - since"
   ]
  },
  {
   "cell_type": "code",
   "execution_count": 13,
   "id": "6e5bbb8e",
   "metadata": {},
   "outputs": [
    {
     "name": "stdout",
     "output_type": "stream",
     "text": [
      "time_elapsed: 0.5344\n"
     ]
    }
   ],
   "source": [
    "print( 'time_elapsed: %.4f' % time_elapsed)"
   ]
  },
  {
   "cell_type": "markdown",
   "id": "bbd03191",
   "metadata": {},
   "source": [
    "### 误差计算"
   ]
  },
  {
   "cell_type": "code",
   "execution_count": 15,
   "id": "0e6bdad0",
   "metadata": {},
   "outputs": [],
   "source": [
    "est_rot = bu_est_g[:, 0:3, 0:3].reshape(3, 3).numpy()\n",
    "est_trans = bu_est_g[:, 0:3, 3].reshape(3, 1).numpy()\n",
    "gt_rot = G[0:3, 0:3]\n",
    "gt_trans = G[0:3, 3].reshape(3, 1)"
   ]
  },
  {
   "cell_type": "code",
   "execution_count": 16,
   "id": "f59452b4",
   "metadata": {},
   "outputs": [],
   "source": [
    "test_r_mse = np.mean((gt_rot - est_rot) ** 2)\n",
    "test_r_rmse = np.sqrt(test_r_mse)\n",
    "test_r_mae = np.mean(np.abs(gt_rot - est_rot))\n",
    "test_t_mse = np.mean((gt_trans - est_trans) ** 2)\n",
    "test_t_rmse = np.sqrt(test_t_mse)\n",
    "test_t_mae = np.mean(np.abs(gt_trans - est_trans))"
   ]
  },
  {
   "cell_type": "code",
   "execution_count": 17,
   "id": "f8dd9ed6",
   "metadata": {},
   "outputs": [
    {
     "name": "stdout",
     "output_type": "stream",
     "text": [
      "test_r_mse:0.000083,test_r_rmse:0.009099,test_r_mae:0.007833 test_t_mse:0.000001,test_t_rmse:0.001017,test_t_mae:0.000895\n"
     ]
    }
   ],
   "source": [
    "message_r = 'test_r_mse:{:.6f},test_r_rmse:{:.6f},test_r_mae:{:.6f}'.format(test_r_mse, test_r_rmse, test_r_mae)\n",
    "message_t = 'test_t_mse:{:.6f},test_t_rmse:{:.6f},test_t_mae:{:.6f}'.format(test_t_mse, test_t_rmse, test_t_mae)\n",
    "print(message_r, message_t)"
   ]
  },
  {
   "cell_type": "markdown",
   "id": "d509e4f9",
   "metadata": {},
   "source": [
    "### 图像"
   ]
  },
  {
   "cell_type": "code",
   "execution_count": 18,
   "id": "ae5c9a52",
   "metadata": {},
   "outputs": [],
   "source": [
    "g_series = model.g_series"
   ]
  },
  {
   "cell_type": "code",
   "execution_count": 19,
   "id": "e6159768",
   "metadata": {},
   "outputs": [
    {
     "data": {
      "text/plain": [
       "(40097, 3)"
      ]
     },
     "execution_count": 19,
     "metadata": {},
     "output_type": "execute_result"
    }
   ],
   "source": [
    "g_hat = bu_est_g.cpu().contiguous().view(-1, 4, 4)\n",
    "est_trans_pc0 = ptlk.se3.transform(g_hat.to(ps), ps.transpose(1,2).contiguous()).transpose(1,2).contiguous()\n",
    "est_pc00 = est_trans_pc0[0].detach().numpy()\n",
    "est_pc00.shape"
   ]
  },
  {
   "cell_type": "code",
   "execution_count": 20,
   "id": "859ad307",
   "metadata": {},
   "outputs": [
    {
     "data": {
      "text/plain": [
       "PointCloud with 40097 points."
      ]
     },
     "execution_count": 20,
     "metadata": {},
     "output_type": "execute_result"
    }
   ],
   "source": [
    "est_bupt = o3d.geometry.PointCloud()\n",
    "est_bupt.points = o3d.utility.Vector3dVector(est_pc00.reshape(-1, 3))\n",
    "est_bupt.estimate_normals(search_param=o3d.geometry.KDTreeSearchParamHybrid(radius=0.1, max_nn=30))\n",
    "est_bupt.orient_normals_to_align_with_direction()\n",
    "#est_ptpcd.paint_uniform_color([0.5, 0.5, 0.5])\n",
    "#np.asarray(est_ptpcd.colors)[scridx[0:], :] = [160/255, 255/255, 249/255]\n",
    "est_bupt.paint_uniform_color([160/255, 255/255, 249/255])"
   ]
  },
  {
   "cell_type": "code",
   "execution_count": 22,
   "id": "46006218",
   "metadata": {},
   "outputs": [],
   "source": [
    "o3d.visualization.draw_geometries([bun_pt, est_bupt])"
   ]
  },
  {
   "cell_type": "code",
   "execution_count": 22,
   "id": "1174fd9f",
   "metadata": {},
   "outputs": [],
   "source": [
    "# writing files\n",
    "with open(r'est_pt.txt', 'w') as fout:\n",
    "    for i in range(est_pc00.shape[0]):\n",
    "        print(' '.join(map(str, est_pc00.reshape(-1, 3)[i])), file=fout)\n",
    "with open(r'pt.txt', 'w') as fout:\n",
    "    for i in range(tgt.shape[0]):\n",
    "        print(' '.join(map(str, tgt.reshape(-1, 3)[i])), file=fout)"
   ]
  },
  {
   "cell_type": "code",
   "execution_count": 20,
   "id": "a3543e4b",
   "metadata": {},
   "outputs": [],
   "source": [
    "centroid_pt = np.mean(tgt, axis=0).reshape(1,3)\n",
    "centroid_ps = np.mean(est_pc00, axis=0).reshape(1,3)\n",
    "centroid = (centroid_ps+centroid_pt)/2"
   ]
  },
  {
   "cell_type": "code",
   "execution_count": 21,
   "id": "a9f20693",
   "metadata": {},
   "outputs": [],
   "source": [
    "pts = np.concatenate((tgt, centroid), axis = 0)\n",
    "pss = np.concatenate((est_pc00, centroid), axis = 0)\n",
    "bun_pt.points = o3d.utility.Vector3dVector(pts.reshape(-1, 3))\n",
    "bun_ps.points = o3d.utility.Vector3dVector(pss.reshape(-1, 3))"
   ]
  },
  {
   "cell_type": "code",
   "execution_count": 22,
   "id": "2c0e8064",
   "metadata": {},
   "outputs": [],
   "source": [
    "bun_pt.paint_uniform_color([0.5, 0.5, 0.5])\n",
    "bun_ps.paint_uniform_color([0.5, 0.5, 0.5])\n",
    "bun_pt.colors[-1] = [255/255, 127/255, 39/255]\n",
    "bun_ps.colors[-1] = [160/255, 255/255, 249/255]\n",
    "o3d.visualization.draw_geometries([bun_pt, bun_ps])"
   ]
  },
  {
   "cell_type": "code",
   "execution_count": 26,
   "id": "6d418525",
   "metadata": {},
   "outputs": [],
   "source": [
    "est_bupt_tree = o3d.geometry.KDTreeFlann(est_bupt)\n",
    "ptnet = model.ptnet"
   ]
  },
  {
   "cell_type": "code",
   "execution_count": 93,
   "id": "aa14561e",
   "metadata": {},
   "outputs": [],
   "source": [
    "re_tgtidx = torch.tensor(np.random.randint(0,tgt.shape[0],100), dtype = torch.long)\n",
    "re_scridx = torch.tensor(np.random.randint(0,scr.shape[0],100), dtype = torch.long)\n",
    "re_pt = pt[:,re_tgtidx,:]\n",
    "re_ps = est_trans_pc0[:,re_scridx,:]"
   ]
  },
  {
   "cell_type": "code",
   "execution_count": 107,
   "id": "624aa815",
   "metadata": {},
   "outputs": [],
   "source": [
    "re_idxs =[]\n",
    "pt_indexs = []\n",
    "new_ptfeas = torch.zeros(100, 1024)\n",
    "for i in range(re_pt.shape[1]):\n",
    "    #[k, idx, dist] = bun_pt_tree.search_knn_vector_3d(re_pt[0][i].reshape(3, 1), 256)\n",
    "    [k, idx, dist] = bun_pt_tree.search_radius_vector_3d(re_pt[0][i].reshape(3, 1), 0.01)\n",
    "    t_pt = pt[:,idx,:]\n",
    "    new_ptfeas[i] =  ptnet(t_pt).reshape(1024)\n",
    "    pt_indexs.append(idx)\n",
    "    for j in range(len(idx)):\n",
    "        re_idxs.append(idx[j])\n",
    "#    break"
   ]
  },
  {
   "cell_type": "code",
   "execution_count": 130,
   "id": "9551d8c8",
   "metadata": {},
   "outputs": [],
   "source": [
    "bun_pt.paint_uniform_color([0.5, 0.5, 0.5])\n",
    "np.asarray(bun_pt.colors)[re_idxs[:], :] = [255/255, 127/255, 39/255]\n",
    "o3d.visualization.draw_geometries([bun_pt])"
   ]
  },
  {
   "cell_type": "code",
   "execution_count": 109,
   "id": "35df1939",
   "metadata": {},
   "outputs": [],
   "source": [
    "re_psidxs =[]\n",
    "ps_indexs = []\n",
    "new_psfeas = torch.zeros(100, 1024)\n",
    "for i in range(re_ps.shape[1]):\n",
    "    #[k, idx, dist] = est_bupt_tree.search_knn_vector_3d(re_ps[0][i].reshape(3, 1), 256)\n",
    "    [k, idx, dist] = est_bupt_tree.search_radius_vector_3d(re_ps[0][i].reshape(3, 1), 0.01)\n",
    "    t_ps = est_trans_pc0[:,idx,:]\n",
    "    new_psfeas[i] =  ptnet(t_ps).reshape(1024)\n",
    "    ps_indexs.append(idx)\n",
    "    for j in range(len(idx)):\n",
    "        re_psidxs.append(idx[j])\n",
    "#    break"
   ]
  },
  {
   "cell_type": "code",
   "execution_count": 129,
   "id": "3072919f",
   "metadata": {},
   "outputs": [],
   "source": [
    "est_bupt.paint_uniform_color([0.5, 0.5, 0.5])\n",
    "np.asarray(est_bupt.colors)[re_psidxs[:], :] = [255/255, 127/255, 39/255]\n",
    "o3d.visualization.draw_geometries([est_bupt])"
   ]
  },
  {
   "cell_type": "code",
   "execution_count": 111,
   "id": "ba652184",
   "metadata": {},
   "outputs": [],
   "source": [
    "#pt_feas, ps_feas = bu_feas['pt_feas'], bu_feas['ps_feas']\n",
    "ptfea_tree = KDTree(new_ptfeas.detach().numpy())"
   ]
  },
  {
   "cell_type": "code",
   "execution_count": 112,
   "id": "65710621",
   "metadata": {},
   "outputs": [],
   "source": [
    "correspond = []\n",
    "dists = []\n",
    "#K = 3\n",
    "for i, fea in enumerate(new_psfeas):\n",
    "    #idx = ptfea_tree.query_radius(fea.detach().numpy().reshape(1, -1), r=1)\n",
    "    dist, idx = ptfea_tree.query(fea.detach().numpy().reshape(1, -1), k=1) \n",
    "    # = tup[0], tup[1]\n",
    "    dists.append((i, dist, idx))\n",
    "#    for j in range(idx[0].shape[-1]):\n",
    "#        correspond.append([i, idx[0][j]])  #, dist[0][j]])"
   ]
  },
  {
   "cell_type": "code",
   "execution_count": 50,
   "id": "192f41b6",
   "metadata": {
    "collapsed": true
   },
   "outputs": [
    {
     "ename": "IndexError",
     "evalue": "too many indices for array: array is 1-dimensional, but 2 were indexed",
     "output_type": "error",
     "traceback": [
      "\u001b[1;31m---------------------------------------------------------------------------\u001b[0m",
      "\u001b[1;31mIndexError\u001b[0m                                Traceback (most recent call last)",
      "\u001b[1;32m<ipython-input-50-a580d9eab956>\u001b[0m in \u001b[0;36m<module>\u001b[1;34m()\u001b[0m\n\u001b[0;32m      1\u001b[0m \u001b[0mcorrespondences\u001b[0m \u001b[1;33m=\u001b[0m \u001b[0mnp\u001b[0m\u001b[1;33m.\u001b[0m\u001b[0marray\u001b[0m\u001b[1;33m(\u001b[0m\u001b[0mcorrespond\u001b[0m\u001b[1;33m)\u001b[0m\u001b[1;33m\u001b[0m\u001b[0m\n\u001b[1;32m----> 2\u001b[1;33m \u001b[0mps_idx\u001b[0m \u001b[1;33m=\u001b[0m \u001b[0mlist\u001b[0m\u001b[1;33m(\u001b[0m\u001b[0mset\u001b[0m\u001b[1;33m(\u001b[0m\u001b[0mcorrespondences\u001b[0m\u001b[1;33m[\u001b[0m\u001b[1;33m:\u001b[0m\u001b[1;33m,\u001b[0m\u001b[1;36m0\u001b[0m\u001b[1;33m]\u001b[0m\u001b[1;33m.\u001b[0m\u001b[0mtolist\u001b[0m\u001b[1;33m(\u001b[0m\u001b[1;33m)\u001b[0m\u001b[1;33m)\u001b[0m\u001b[1;33m)\u001b[0m\u001b[1;33m\u001b[0m\u001b[0m\n\u001b[0m\u001b[0;32m      3\u001b[0m \u001b[0mpt_idx\u001b[0m \u001b[1;33m=\u001b[0m \u001b[0mlist\u001b[0m\u001b[1;33m(\u001b[0m\u001b[0mset\u001b[0m\u001b[1;33m(\u001b[0m\u001b[0mcorrespondences\u001b[0m\u001b[1;33m[\u001b[0m\u001b[1;33m:\u001b[0m\u001b[1;33m,\u001b[0m\u001b[1;36m1\u001b[0m\u001b[1;33m]\u001b[0m\u001b[1;33m.\u001b[0m\u001b[0mtolist\u001b[0m\u001b[1;33m(\u001b[0m\u001b[1;33m)\u001b[0m\u001b[1;33m)\u001b[0m\u001b[1;33m)\u001b[0m\u001b[1;33m\u001b[0m\u001b[0m\n",
      "\u001b[1;31mIndexError\u001b[0m: too many indices for array: array is 1-dimensional, but 2 were indexed"
     ]
    }
   ],
   "source": [
    "correspondences = np.array(correspond)\n",
    "ps_idx = list(set(correspondences[:,0].tolist()))\n",
    "pt_idx = list(set(correspondences[:,1].tolist()))\n",
    "len(pt_idx), len(ps_idx)"
   ]
  },
  {
   "cell_type": "code",
   "execution_count": 76,
   "id": "62ad6afd",
   "metadata": {},
   "outputs": [],
   "source": [
    "bun_pt.paint_uniform_color([0.5, 0.5, 0.5])\n",
    "est_bupt.paint_uniform_color([0.5, 0.5, 0.5])\n",
    "np.asarray(bun_pt.colors)[pt_idx[:], :] = [1, 0, 0]\n",
    "np.asarray(est_bupt.colors)[ps_idx[:], :] = [0, 0, 1]\n",
    "o3d.visualization.draw_geometries([bun_pt, est_bupt])"
   ]
  },
  {
   "cell_type": "code",
   "execution_count": 22,
   "id": "075d9e7f",
   "metadata": {},
   "outputs": [],
   "source": [
    "esttgt = np.asarray(est_bupt.points)\n",
    "centroid_scr = np.mean(esttgt, axis=0).reshape(1,3)\n",
    "centroid_tgt = np.mean(tgt, axis=0).reshape(1,3)\n",
    "scrpoints = np.concatenate((esttgt, centroid_scr), axis = 0)\n",
    "tgtpoints = np.concatenate((tgt, centroid_tgt), axis = 0)\n",
    "est_bupt.points = o3d.utility.Vector3dVector(scrpoints.reshape(-1, 3))\n",
    "bun_pt.points = o3d.utility.Vector3dVector(tgtpoints.reshape(-1, 3))"
   ]
  },
  {
   "cell_type": "code",
   "execution_count": 24,
   "id": "eab99803",
   "metadata": {},
   "outputs": [],
   "source": [
    "bun_pt.paint_uniform_color([0.5, 0.5, 0.5])\n",
    "est_bupt.paint_uniform_color([0.5, 0.5, 0.5])\n",
    "bun_pt.colors[-1] = [1, 0, 0]\n",
    "est_bupt.colors[-1] = [0, 0, 1]\n",
    "o3d.visualization.draw_geometries([bun_pt, est_bupt])"
   ]
  },
  {
   "cell_type": "code",
   "execution_count": 74,
   "id": "f004419c",
   "metadata": {},
   "outputs": [],
   "source": [
    "sam_tgt = tgt[pt_idx[1], :]\n",
    "sam_tgt.reshape(1,3)\n",
    "#[k, idx, dist] = bun_pt_tree.search_knn_vector_3d(sam_tgt.reshape(3,1), 100)\n",
    "[k, ptid, dist] = bun_pt_tree.search_radius_vector_3d(sam_tgt.reshape(3,1), 0.01)"
   ]
  },
  {
   "cell_type": "code",
   "execution_count": 56,
   "id": "5878eedf",
   "metadata": {
    "collapsed": true
   },
   "outputs": [
    {
     "ename": "ValueError",
     "evalue": "cannot reshape array of size 1 into shape (1,3)",
     "output_type": "error",
     "traceback": [
      "\u001b[1;31m---------------------------------------------------------------------------\u001b[0m",
      "\u001b[1;31mValueError\u001b[0m                                Traceback (most recent call last)",
      "\u001b[1;32m<ipython-input-56-8093c7460563>\u001b[0m in \u001b[0;36m<module>\u001b[1;34m()\u001b[0m\n\u001b[0;32m      2\u001b[0m \u001b[0midxs_pt\u001b[0m \u001b[1;33m=\u001b[0m \u001b[1;33m[\u001b[0m\u001b[1;33m]\u001b[0m\u001b[1;33m\u001b[0m\u001b[0m\n\u001b[0;32m      3\u001b[0m \u001b[1;32mfor\u001b[0m \u001b[0mi\u001b[0m \u001b[1;32min\u001b[0m \u001b[0mrange\u001b[0m\u001b[1;33m(\u001b[0m\u001b[0msam_tgt\u001b[0m\u001b[1;33m.\u001b[0m\u001b[0mshape\u001b[0m\u001b[1;33m[\u001b[0m\u001b[1;36m0\u001b[0m\u001b[1;33m]\u001b[0m\u001b[1;33m)\u001b[0m\u001b[1;33m:\u001b[0m\u001b[1;33m\u001b[0m\u001b[0m\n\u001b[1;32m----> 4\u001b[1;33m     \u001b[1;33m[\u001b[0m\u001b[0mk\u001b[0m\u001b[1;33m,\u001b[0m \u001b[0midx\u001b[0m\u001b[1;33m,\u001b[0m \u001b[0mdist\u001b[0m\u001b[1;33m]\u001b[0m \u001b[1;33m=\u001b[0m \u001b[0mbun_pt_tree\u001b[0m\u001b[1;33m.\u001b[0m\u001b[0msearch_knn_vector_3d\u001b[0m\u001b[1;33m(\u001b[0m\u001b[0msam_tgt\u001b[0m\u001b[1;33m[\u001b[0m\u001b[0mi\u001b[0m\u001b[1;33m]\u001b[0m\u001b[1;33m.\u001b[0m\u001b[0mreshape\u001b[0m\u001b[1;33m(\u001b[0m\u001b[1;36m1\u001b[0m\u001b[1;33m,\u001b[0m\u001b[1;36m3\u001b[0m\u001b[1;33m)\u001b[0m\u001b[1;33m,\u001b[0m \u001b[1;36m100\u001b[0m\u001b[1;33m)\u001b[0m\u001b[1;33m\u001b[0m\u001b[0m\n\u001b[0m\u001b[0;32m      5\u001b[0m     \u001b[1;31m#[k, idx, dist] = bun_pt_tree.search_radius_vector_3d(sam_tgt[i], 0.01)\u001b[0m\u001b[1;33m\u001b[0m\u001b[1;33m\u001b[0m\u001b[0m\n\u001b[0;32m      6\u001b[0m     \u001b[1;32mfor\u001b[0m \u001b[0mj\u001b[0m \u001b[1;32min\u001b[0m \u001b[0mrange\u001b[0m\u001b[1;33m(\u001b[0m\u001b[0mlen\u001b[0m\u001b[1;33m(\u001b[0m\u001b[0midx\u001b[0m\u001b[1;33m)\u001b[0m\u001b[1;33m)\u001b[0m\u001b[1;33m:\u001b[0m\u001b[1;33m\u001b[0m\u001b[0m\n",
      "\u001b[1;31mValueError\u001b[0m: cannot reshape array of size 1 into shape (1,3)"
     ]
    }
   ],
   "source": [
    "sam_tgt = tgt[pt_idx[1], :]\n",
    "idxs_pt = []\n",
    "for i in range(sam_tgt.shape[0]):\n",
    "    #[k, idx, dist] = bun_pt_tree.search_knn_vector_3d(sam_tgt[i].reshape(1,3), 100)\n",
    "    [k, idx, dist] = bun_pt_tree.search_radius_vector_3d(sam_tgt[i], 0.01)\n",
    "    for j in range(len(idx)):\n",
    "        idxs_pt.append(idx[j])"
   ]
  },
  {
   "cell_type": "code",
   "execution_count": 70,
   "id": "c9e01211",
   "metadata": {},
   "outputs": [],
   "source": [
    "bun_pt.paint_uniform_color([0.5, 0.5, 0.5])\n",
    "np.asarray(bun_pt.colors)[idx[0:], :] = [255/255, 127/255, 39/255]\n",
    "o3d.visualization.draw_geometries([bun_pt])"
   ]
  },
  {
   "cell_type": "code",
   "execution_count": 75,
   "id": "1e9b5076",
   "metadata": {},
   "outputs": [],
   "source": [
    "sam_scr = scr[ps_idx[1], :]\n",
    "#[k, idx, dist] = bun_pt_tree.search_knn_vector_3d(sam_tgt.reshape(3,1), 100)\n",
    "[k, psid, dist] = bun_ps_tree.search_radius_vector_3d(sam_scr.reshape(3,1), 0.01)"
   ]
  },
  {
   "cell_type": "code",
   "execution_count": 48,
   "id": "05aecb3e",
   "metadata": {},
   "outputs": [],
   "source": [
    "sam_scr = scr[ps_idx, :]\n",
    "idxs_ps = []\n",
    "for i in range(sam_scr.shape[0]):\n",
    "    #[k, idx, dist] = bun_ps_tree.search_knn_vector_3d(sam_scr[i], 100)\n",
    "    [k, idx, dist] = bun_ps_tree.search_radius_vector_3d(sam_scr[i], 0.01)\n",
    "    for j in range(len(idx)):\n",
    "        idxs_ps.append(idx[j]) "
   ]
  },
  {
   "cell_type": "code",
   "execution_count": 72,
   "id": "94cc36e9",
   "metadata": {},
   "outputs": [],
   "source": [
    "bun_ps.paint_uniform_color([0.5, 0.5, 0.5])\n",
    "np.asarray(bun_ps.colors)[idxs_ps[0:], :] = [160/255, 255/255, 249/255]\n",
    "o3d.visualization.draw_geometries([bun_pt, bun_ps])"
   ]
  },
  {
   "cell_type": "code",
   "execution_count": 76,
   "id": "caf7a554",
   "metadata": {},
   "outputs": [],
   "source": [
    "tgtidx = torch.tensor(np.random.randint(0,tgt.shape[0],1024), dtype = torch.long)\n",
    "scridx = torch.tensor(np.random.randint(0,scr.shape[0],1024), dtype = torch.long)\n",
    "fi_pt = pt[:,ptid,:]\n",
    "fi_ps = est_trans_pc0[:,psid,:]"
   ]
  },
  {
   "cell_type": "code",
   "execution_count": 36,
   "id": "bdf9d19f",
   "metadata": {},
   "outputs": [],
   "source": [
    "with torch.no_grad():\n",
    "    fi_est_g, fi_r, fi_f_series, fi_feas = act.do_estimate(est_trans_pc0, pt, model, args.device)"
   ]
  },
  {
   "cell_type": "code",
   "execution_count": 79,
   "id": "17f29dfe",
   "metadata": {},
   "outputs": [],
   "source": [
    "with torch.no_grad():\n",
    "    fi_est_g, fi_r, fi_f_series, fi_feas = act.do_estimate(fi_pt, fi_ps, model, args.device)"
   ]
  },
  {
   "cell_type": "code",
   "execution_count": 80,
   "id": "dbfd5791",
   "metadata": {},
   "outputs": [
    {
     "data": {
      "text/plain": [
       "(tensor([[[ 0.6467, -0.3626, -0.6710,  0.0694],\n",
       "          [-0.0144,  0.8738, -0.4860,  0.0241],\n",
       "          [ 0.7626,  0.3240,  0.5599, -0.0264],\n",
       "          [ 0.0000,  0.0000,  0.0000,  1.0000]]]),\n",
       " tensor([[[ 3.2354e-02,  2.1286e-03,  9.9947e-01, -7.2638e-03],\n",
       "          [-7.1842e-02,  9.9742e-01,  2.0115e-04,  4.2045e-03],\n",
       "          [-9.9689e-01, -7.1811e-02,  3.2423e-02,  1.9119e-02],\n",
       "          [ 0.0000e+00,  0.0000e+00,  0.0000e+00,  1.0000e+00]]]),\n",
       " tensor([[[-3.1016e-03,  3.7493e-04,  1.0000e+00,  2.2076e-05],\n",
       "          [-1.3264e-03,  1.0000e+00, -3.7904e-04, -3.3461e-05],\n",
       "          [-9.9999e-01, -1.3276e-03, -3.1011e-03, -7.2088e-05],\n",
       "          [ 0.0000e+00,  0.0000e+00,  0.0000e+00,  1.0000e+00]]]))"
      ]
     },
     "execution_count": 80,
     "metadata": {},
     "output_type": "execute_result"
    }
   ],
   "source": [
    "g_gt = torch.tensor(G).unsqueeze(0).contiguous().to(fi_est_g)\n",
    "fi_est_g, bu_est_g, g_gt"
   ]
  },
  {
   "cell_type": "code",
   "execution_count": 32,
   "id": "eaf6133b",
   "metadata": {},
   "outputs": [
    {
     "data": {
      "text/plain": [
       "(tensor([[[ 8.7622e-01, -2.7298e-02,  4.8114e-01, -5.2650e-02],\n",
       "          [ 3.9770e-02,  9.9908e-01, -1.5744e-02, -9.2678e-07],\n",
       "          [-4.8027e-01,  3.2930e-02,  8.7650e-01, -1.8440e-02],\n",
       "          [ 0.0000e+00,  0.0000e+00,  0.0000e+00,  1.0000e+00]]]),\n",
       " tensor([[[ 0.8761, -0.0168,  0.4819, -0.0546],\n",
       "          [ 0.0257,  0.9996, -0.0119, -0.0013],\n",
       "          [-0.4815,  0.0228,  0.8761, -0.0160],\n",
       "          [ 0.0000,  0.0000,  0.0000,  1.0000]]]))"
      ]
     },
     "execution_count": 32,
     "metadata": {},
     "output_type": "execute_result"
    }
   ],
   "source": [
    "a = g_in.bmm(bu_est_g)\n",
    "b = bu_est_g.bmm(g_in)\n",
    "a,b"
   ]
  },
  {
   "cell_type": "code",
   "execution_count": 39,
   "id": "3914d8e4",
   "metadata": {},
   "outputs": [
    {
     "data": {
      "text/plain": [
       "tensor([[[ 9.9937e-01,  7.9793e-04,  3.5488e-02,  6.5995e-03],\n",
       "         [ 1.7069e-03,  9.9751e-01, -7.0501e-02, -2.8672e-03],\n",
       "         [-3.5456e-02,  7.0517e-02,  9.9688e-01, -1.9686e-02],\n",
       "         [ 0.0000e+00,  0.0000e+00,  0.0000e+00,  1.0000e+00]]])"
      ]
     },
     "execution_count": 39,
     "metadata": {},
     "output_type": "execute_result"
    }
   ],
   "source": [
    "est_in = ptlk.se3.inverse(bu_est_g)\n",
    "g_gt.bmm(est_in)"
   ]
  },
  {
   "cell_type": "code",
   "execution_count": 38,
   "id": "1f6f2ba8",
   "metadata": {},
   "outputs": [
    {
     "data": {
      "text/plain": [
       "tensor([[[ 0.9833,  0.1806, -0.0228, -0.0288],\n",
       "         [-0.1818,  0.9809, -0.0687, -0.0075],\n",
       "         [ 0.0100,  0.0717,  0.9974, -0.0166],\n",
       "         [ 0.0000,  0.0000,  0.0000,  1.0000]]])"
      ]
     },
     "execution_count": 38,
     "metadata": {},
     "output_type": "execute_result"
    }
   ],
   "source": [
    "g_in = ptlk.se3.inverse(fi_est_g)\n",
    "g_in"
   ]
  },
  {
   "cell_type": "code",
   "execution_count": 37,
   "id": "bfb65562",
   "metadata": {},
   "outputs": [
    {
     "data": {
      "text/plain": [
       "(40097, 3)"
      ]
     },
     "execution_count": 37,
     "metadata": {},
     "output_type": "execute_result"
    }
   ],
   "source": [
    "fi_g_hat = a.cpu().contiguous().view(-1, 4, 4)\n",
    "fi_est_trans_pt = ptlk.se3.transform(fi_g_hat.to(ps), ps.transpose(1,2).contiguous()).transpose(1,2).contiguous()\n",
    "fi_est_pt = fi_est_trans_pt[0].detach().numpy()\n",
    "fi_est_pt.shape"
   ]
  },
  {
   "cell_type": "code",
   "execution_count": 38,
   "id": "31f960bf",
   "metadata": {},
   "outputs": [
    {
     "data": {
      "text/plain": [
       "PointCloud with 40097 points."
      ]
     },
     "execution_count": 38,
     "metadata": {},
     "output_type": "execute_result"
    }
   ],
   "source": [
    "fiest_pt = o3d.geometry.PointCloud()\n",
    "fiest_pt.points = o3d.utility.Vector3dVector(fi_est_pt.reshape(-1, 3))\n",
    "fiest_pt.estimate_normals(search_param=o3d.geometry.KDTreeSearchParamHybrid(radius=0.1, max_nn=30))\n",
    "fiest_pt.orient_normals_to_align_with_direction()\n",
    "#est_ptpcd.paint_uniform_color([0.5, 0.5, 0.5])\n",
    "#np.asarray(est_ptpcd.colors)[scridx[0:], :] = [160/255, 255/255, 249/255]\n",
    "fiest_pt.paint_uniform_color([0, 0, 1])"
   ]
  },
  {
   "cell_type": "code",
   "execution_count": 95,
   "id": "c40fd70f",
   "metadata": {},
   "outputs": [
    {
     "ename": "NameError",
     "evalue": "name 'fiest_pt' is not defined",
     "output_type": "error",
     "traceback": [
      "\u001b[1;31m---------------------------------------------------------------------------\u001b[0m",
      "\u001b[1;31mNameError\u001b[0m                                 Traceback (most recent call last)",
      "\u001b[1;32m<ipython-input-95-b9964f877cbd>\u001b[0m in \u001b[0;36m<module>\u001b[1;34m()\u001b[0m\n\u001b[1;32m----> 1\u001b[1;33m \u001b[0mo3d\u001b[0m\u001b[1;33m.\u001b[0m\u001b[0mvisualization\u001b[0m\u001b[1;33m.\u001b[0m\u001b[0mdraw_geometries\u001b[0m\u001b[1;33m(\u001b[0m\u001b[1;33m[\u001b[0m\u001b[0mfiest_pt\u001b[0m\u001b[1;33m,\u001b[0m \u001b[0mest_ptpcd\u001b[0m\u001b[1;33m]\u001b[0m\u001b[1;33m)\u001b[0m\u001b[1;33m\u001b[0m\u001b[0m\n\u001b[0m",
      "\u001b[1;31mNameError\u001b[0m: name 'fiest_pt' is not defined"
     ]
    }
   ],
   "source": [
    "o3d.visualization.draw_geometries([fiest_pt, est_ptpcd])"
   ]
  },
  {
   "cell_type": "code",
   "execution_count": 41,
   "id": "9d7f5183",
   "metadata": {},
   "outputs": [],
   "source": [
    "o3d.visualization.draw_geometries([fiest_pt, bun_pt])"
   ]
  },
  {
   "cell_type": "markdown",
   "id": "ed257dbf",
   "metadata": {},
   "source": [
    "# dragonStand"
   ]
  },
  {
   "cell_type": "code",
   "execution_count": 28,
   "id": "03e9de0a",
   "metadata": {},
   "outputs": [],
   "source": [
    "sol = np.array([-0.0010015778, -3.7185848e-05, -0.00049660774, 0.00065300596, -0.40700561, 0.0014209391, 0.91342431])         #48\n",
    "#sol = np.array([-0.0011086911, -0.0001244843, 9.4951596e-05, 0.0009286101, -0.58797526, 0.0021693073, 0.8088755])         #72\n",
    "r = Rotation.from_quat(sol[3:])\n",
    "rot = r.as_matrix()\n",
    "trans = sol[:3]\n",
    "G = np.concatenate((rot.T, trans.reshape(3, -1)), axis = 1)\n",
    "G = np.concatenate((G, [[0.,0.,0.,1.]]), axis = 0)"
   ]
  },
  {
   "cell_type": "code",
   "execution_count": 29,
   "id": "e1613389",
   "metadata": {},
   "outputs": [],
   "source": [
    "DS_pt = o3d.io.read_point_cloud(r'C:\\Users\\fcky\\Desktop\\3D\\dragon_stand\\dragonStandRight_0.ply')\n",
    "DS_ps = o3d.io.read_point_cloud(r'C:\\Users\\fcky\\Desktop\\3D\\dragon_stand\\dragonStandRight_48.ply')\n",
    "tgt = np.asarray(DS_pt.points)\n",
    "scr = np.asarray(DS_ps.points)\n",
    "pt = torch.tensor(tgt).unsqueeze(0).contiguous().to(torch.float32)\n",
    "ps = torch.tensor(scr).unsqueeze(0).contiguous().to(torch.float32)\n",
    "DS_pt_tree = o3d.geometry.KDTreeFlann(DS_pt)"
   ]
  },
  {
   "cell_type": "code",
   "execution_count": 39,
   "id": "aaa01497",
   "metadata": {},
   "outputs": [],
   "source": [
    "# 原图像\n",
    "DS_pt.paint_uniform_color([255/255, 127/255, 39/255])\n",
    "DS_pt.estimate_normals(search_param=o3d.geometry.KDTreeSearchParamHybrid(radius=0.1, max_nn=30))\n",
    "DS_pt.orient_normals_to_align_with_direction()\n",
    "DS_ps.paint_uniform_color([160/255, 255/255, 249/255])\n",
    "DS_ps.estimate_normals(search_param=o3d.geometry.KDTreeSearchParamHybrid(radius=0.1, max_nn=30))\n",
    "DS_ps.orient_normals_to_align_with_direction()\n",
    "o3d.visualization.draw_geometries([DS_pt, DS_ps])"
   ]
  },
  {
   "cell_type": "code",
   "execution_count": 8,
   "id": "0f2d7cab",
   "metadata": {},
   "outputs": [
    {
     "data": {
      "text/plain": [
       "0.3927011223872572"
      ]
     },
     "execution_count": 8,
     "metadata": {},
     "output_type": "execute_result"
    }
   ],
   "source": [
    "DS_ps.transform(G)\n",
    "count = 0\n",
    "idxs_pt = []\n",
    "idxs_ps = []\n",
    "for i in range(len(DS_ps.points)):\n",
    "    #[k, idx, dist] = HS_pt_tree.search_knn_vector_3d(HS_ps.points[i], 1)\n",
    "    [k, idx, dist] = DS_pt_tree.search_radius_vector_3d(DS_ps.points[i], 0.005)\n",
    "    if k!= 0:\n",
    "        count += 1\n",
    "        idxs_pt.append(idx[0])\n",
    "        idxs_ps.append(i)\n",
    "count/len(DS_ps.points)\n",
    "#dist"
   ]
  },
  {
   "cell_type": "code",
   "execution_count": 48,
   "id": "7ce17d9c",
   "metadata": {},
   "outputs": [],
   "source": [
    "#sampling\n",
    "tgtidx = torch.tensor(np.random.randint(0,tgt.shape[0],1024), dtype = torch.long)\n",
    "scridx = torch.tensor(np.random.randint(0,scr.shape[0],1024), dtype = torch.long)\n",
    "sampt = pt[:,tgtidx,:]\n",
    "samps = ps[:,scridx,:]\n",
    "with torch.no_grad():\n",
    "    est_g, r, f_series, feas = act.do_estimate(sampt, samps, model, args.device)"
   ]
  },
  {
   "cell_type": "code",
   "execution_count": 31,
   "id": "72a3dfdb",
   "metadata": {},
   "outputs": [],
   "source": [
    "#no sampling\n",
    "with torch.no_grad():\n",
    "    ds_est_g, ds_r, ds_f_series, ds_feas = act.do_estimate(pt, ps, model, args.device)"
   ]
  },
  {
   "cell_type": "code",
   "execution_count": 32,
   "id": "a50824bf",
   "metadata": {},
   "outputs": [
    {
     "data": {
      "text/plain": [
       "(22092, 3)"
      ]
     },
     "execution_count": 32,
     "metadata": {},
     "output_type": "execute_result"
    }
   ],
   "source": [
    "g_hat = ds_est_g.cpu().contiguous().view(-1, 4, 4)\n",
    "est_trans_pt = ptlk.se3.transform(g_hat.to(ps), ps.transpose(1,2).contiguous()).transpose(1,2).contiguous()\n",
    "est_pt = est_trans_pt[0].detach().numpy()\n",
    "est_pt.shape"
   ]
  },
  {
   "cell_type": "code",
   "execution_count": 40,
   "id": "ddf54828",
   "metadata": {},
   "outputs": [
    {
     "data": {
      "text/plain": [
       "PointCloud with 22092 points."
      ]
     },
     "execution_count": 40,
     "metadata": {},
     "output_type": "execute_result"
    }
   ],
   "source": [
    "est_DSpt = o3d.geometry.PointCloud()\n",
    "est_DSpt.points = o3d.utility.Vector3dVector(est_pt.reshape(-1, 3))\n",
    "est_DSpt.estimate_normals(search_param=o3d.geometry.KDTreeSearchParamHybrid(radius=0.1, max_nn=30))\n",
    "est_DSpt.orient_normals_to_align_with_direction()\n",
    "est_DSpt.paint_uniform_color([160/255, 255/255, 249/255])"
   ]
  },
  {
   "cell_type": "code",
   "execution_count": 41,
   "id": "ae120108",
   "metadata": {},
   "outputs": [],
   "source": [
    "o3d.visualization.draw_geometries([DS_pt, est_DSpt])"
   ]
  },
  {
   "cell_type": "markdown",
   "id": "309e7d6e",
   "metadata": {},
   "source": [
    "### error"
   ]
  },
  {
   "cell_type": "code",
   "execution_count": 36,
   "id": "c4246213",
   "metadata": {},
   "outputs": [],
   "source": [
    "est_rot = ds_est_g[:, 0:3, 0:3].reshape(3, 3).numpy()\n",
    "est_trans = ds_est_g[:, 0:3, 3].reshape(3, 1).numpy()\n",
    "gt_rot = G[0:3, 0:3]\n",
    "gt_trans = G[0:3, 3].reshape(3, 1)"
   ]
  },
  {
   "cell_type": "code",
   "execution_count": 37,
   "id": "8928e78f",
   "metadata": {},
   "outputs": [],
   "source": [
    "test_r_mse = np.mean((gt_rot - est_rot) ** 2)\n",
    "test_r_rmse = np.sqrt(test_r_mse)\n",
    "test_r_mae = np.mean(np.abs(gt_rot - est_rot))\n",
    "test_t_mse = np.mean((gt_trans - est_trans) ** 2)\n",
    "test_t_rmse = np.sqrt(test_t_mse)\n",
    "test_t_mae = np.mean(np.abs(gt_trans - est_trans))"
   ]
  },
  {
   "cell_type": "code",
   "execution_count": 38,
   "id": "2c514920",
   "metadata": {},
   "outputs": [
    {
     "name": "stdout",
     "output_type": "stream",
     "text": [
      "test_r_mse:0.000298,test_r_rmse:0.017267,test_r_mae:0.011987 test_t_mse:0.000002,test_t_rmse:0.001337,test_t_mae:0.001037\n"
     ]
    }
   ],
   "source": [
    "message_r = 'test_r_mse:{:.6f},test_r_rmse:{:.6f},test_r_mae:{:.6f}'.format(test_r_mse, test_r_rmse, test_r_mae)\n",
    "message_t = 'test_t_mse:{:.6f},test_t_rmse:{:.6f},test_t_mae:{:.6f}'.format(test_t_mse, test_t_rmse, test_t_mae)\n",
    "print(message_r, message_t)"
   ]
  },
  {
   "cell_type": "markdown",
   "id": "13bfcb09",
   "metadata": {},
   "source": [
    "### fea"
   ]
  },
  {
   "cell_type": "code",
   "execution_count": 13,
   "id": "d936c705",
   "metadata": {},
   "outputs": [],
   "source": [
    "pt_feas, ps_feas = feas['pt_feas'], feas['ps_feas']\n",
    "ptfea_tree = KDTree(pt_feas[0])"
   ]
  },
  {
   "cell_type": "code",
   "execution_count": 14,
   "id": "b45338d5",
   "metadata": {},
   "outputs": [],
   "source": [
    "correspond = []\n",
    "dists = []\n",
    "for i, fea in enumerate(ps_feas[-1]):\n",
    "    idx = ptfea_tree.query_radius(fea.reshape(1, -1), r=0.1)\n",
    "#    dist, idx = ptfea_tree.query(fea.reshape(1, -1), k=1) \n",
    "#    dists.append(dist)\n",
    "    for j in range(idx[0].shape[-1]):\n",
    "        correspond.append([i, idx[0][j]])  #, dist[0][j]])\n",
    "#dists"
   ]
  },
  {
   "cell_type": "code",
   "execution_count": 15,
   "id": "479fa407",
   "metadata": {},
   "outputs": [],
   "source": [
    "correspondences = np.array(correspond)\n",
    "ps_idx = list(set(correspondences[:,0].tolist()))\n",
    "pt_idx = list(set(correspondences[:,1].tolist()))"
   ]
  },
  {
   "cell_type": "code",
   "execution_count": 16,
   "id": "aee8752e",
   "metadata": {},
   "outputs": [
    {
     "data": {
      "text/plain": [
       "(119, 178)"
      ]
     },
     "execution_count": 16,
     "metadata": {},
     "output_type": "execute_result"
    }
   ],
   "source": [
    "len(pt_idx), len(ps_idx)"
   ]
  },
  {
   "cell_type": "code",
   "execution_count": 17,
   "id": "6e33ca06",
   "metadata": {},
   "outputs": [],
   "source": [
    "DS_pt.paint_uniform_color([0.5, 0.5, 0.5])\n",
    "DS_ps.paint_uniform_color([0.5, 0.5, 0.5])\n",
    "np.asarray(DS_pt.colors)[pt_idx[0:], :] = [1, 0, 0]\n",
    "np.asarray(DS_ps.colors)[ps_idx[0:], :] = [0, 0, 1]"
   ]
  },
  {
   "cell_type": "code",
   "execution_count": 18,
   "id": "1746e2de",
   "metadata": {},
   "outputs": [],
   "source": [
    "o3d.visualization.draw_geometries([DS_pt, DS_ps])"
   ]
  },
  {
   "cell_type": "code",
   "execution_count": 84,
   "id": "a1fb1820",
   "metadata": {},
   "outputs": [],
   "source": [
    "est_pt_ten = torch.tensor(est_pt).unsqueeze(0).contiguous().to(torch.float32)\n",
    "fine_pt = pt[:,pt_idx,:]\n",
    "fine_ps = est_pt_ten[:,ps_idx,:]"
   ]
  },
  {
   "cell_type": "code",
   "execution_count": 85,
   "id": "400458cf",
   "metadata": {},
   "outputs": [],
   "source": [
    "with torch.no_grad():\n",
    "    fi_est_g, fi_r, fi_f_series, fi_feas = act.do_estimate(fine_ps, fine_pt, model, args.device)"
   ]
  },
  {
   "cell_type": "code",
   "execution_count": 86,
   "id": "d3bf8243",
   "metadata": {},
   "outputs": [
    {
     "data": {
      "text/plain": [
       "(41841, 3)"
      ]
     },
     "execution_count": 86,
     "metadata": {},
     "output_type": "execute_result"
    }
   ],
   "source": [
    "g_hat = fi_est_g.cpu().contiguous().view(-1, 4, 4)\n",
    "fi_est_trans_pt = ptlk.se3.transform(g_hat.to(pt), pt.transpose(1,2).contiguous()).transpose(1,2).contiguous()\n",
    "fi_est_pt = fi_est_trans_pt[0].detach().numpy()\n",
    "fi_est_pt.shape"
   ]
  },
  {
   "cell_type": "code",
   "execution_count": 90,
   "id": "b253494c",
   "metadata": {},
   "outputs": [
    {
     "data": {
      "text/plain": [
       "PointCloud with 41841 points."
      ]
     },
     "execution_count": 90,
     "metadata": {},
     "output_type": "execute_result"
    }
   ],
   "source": [
    "fi_est_DSpt = o3d.geometry.PointCloud()\n",
    "fi_est_DSpt.points = o3d.utility.Vector3dVector(fi_est_pt.reshape(-1, 3))\n",
    "fi_est_DSpt.estimate_normals(search_param=o3d.geometry.KDTreeSearchParamHybrid(radius=0.1, max_nn=30))\n",
    "fi_est_DSpt.orient_normals_to_align_with_direction()\n",
    "fi_est_DSpt.paint_uniform_color([1, 0, 0])"
   ]
  },
  {
   "cell_type": "code",
   "execution_count": 24,
   "id": "c84c4b0c",
   "metadata": {},
   "outputs": [
    {
     "ename": "NameError",
     "evalue": "name 'fi_est_DSpt' is not defined",
     "output_type": "error",
     "traceback": [
      "\u001b[1;31m---------------------------------------------------------------------------\u001b[0m",
      "\u001b[1;31mNameError\u001b[0m                                 Traceback (most recent call last)",
      "\u001b[1;32m<ipython-input-24-1a54f7393542>\u001b[0m in \u001b[0;36m<module>\u001b[1;34m()\u001b[0m\n\u001b[1;32m----> 1\u001b[1;33m \u001b[0mo3d\u001b[0m\u001b[1;33m.\u001b[0m\u001b[0mvisualization\u001b[0m\u001b[1;33m.\u001b[0m\u001b[0mdraw_geometries\u001b[0m\u001b[1;33m(\u001b[0m\u001b[1;33m[\u001b[0m\u001b[0mest_DSpt\u001b[0m\u001b[1;33m,\u001b[0m \u001b[0mfi_est_DSpt\u001b[0m\u001b[1;33m]\u001b[0m\u001b[1;33m)\u001b[0m\u001b[1;33m\u001b[0m\u001b[0m\n\u001b[0m",
      "\u001b[1;31mNameError\u001b[0m: name 'fi_est_DSpt' is not defined"
     ]
    }
   ],
   "source": [
    "o3d.visualization.draw_geometries([est_DSpt, fi_est_DSpt]) "
   ]
  },
  {
   "cell_type": "code",
   "execution_count": 74,
   "id": "38123315",
   "metadata": {},
   "outputs": [
    {
     "data": {
      "text/plain": [
       "(tensor([[[ 6.8651e-01,  1.7838e-02, -7.2690e-01,  3.8626e-04],\n",
       "          [-1.3697e-02,  9.9984e-01,  1.1600e-02, -2.7706e-04],\n",
       "          [ 7.2699e-01,  1.9922e-03,  6.8665e-01,  5.7666e-04],\n",
       "          [ 0.0000e+00,  0.0000e+00,  0.0000e+00,  1.0000e+00]]]),\n",
       " tensor([[[ 6.8862e-01, -1.4839e-02,  7.2497e-01, -5.2023e-04],\n",
       "          [ 1.9808e-02,  9.9980e-01,  1.6502e-03,  2.9764e-04],\n",
       "          [-7.2485e-01,  1.3224e-02,  6.8878e-01, -3.0219e-04],\n",
       "          [ 0.0000e+00,  0.0000e+00,  0.0000e+00,  1.0000e+00]]]),\n",
       " tensor([[ 6.6869e-01,  2.0643e-03,  7.4354e-01, -1.0016e-03],\n",
       "         [-3.1274e-03,  1.0000e+00,  3.6283e-05, -3.7186e-05],\n",
       "         [-7.4354e-01, -2.3496e-03,  6.6869e-01, -4.9661e-04],\n",
       "         [ 0.0000e+00,  0.0000e+00,  0.0000e+00,  1.0000e+00]],\n",
       "        dtype=torch.float64))"
      ]
     },
     "execution_count": 74,
     "metadata": {},
     "output_type": "execute_result"
    }
   ],
   "source": [
    "fi_est_g, est_g, torch.tensor(G)"
   ]
  },
  {
   "cell_type": "code",
   "execution_count": 66,
   "id": "5bfd5ecc",
   "metadata": {},
   "outputs": [
    {
     "data": {
      "text/plain": [
       "tensor([[[ 1.0000e+00,  5.3354e-04,  1.4336e-03, -4.5032e-06],\n",
       "         [-5.3390e-04,  1.0000e+00,  2.2867e-04, -5.3837e-05],\n",
       "         [-1.4335e-03, -2.2943e-04,  1.0000e+00,  5.9187e-05],\n",
       "         [ 0.0000e+00,  0.0000e+00,  0.0000e+00,  1.0000e+00]]])"
      ]
     },
     "execution_count": 66,
     "metadata": {},
     "output_type": "execute_result"
    }
   ],
   "source": [
    "g_in = ptlk.se3.inverse(fi_est_g)\n",
    "g_in"
   ]
  },
  {
   "cell_type": "code",
   "execution_count": 68,
   "id": "94f8fda6",
   "metadata": {},
   "outputs": [
    {
     "data": {
      "text/plain": [
       "tensor([[[ 6.8759e-01, -1.4638e-02,  7.2595e-01, -4.7963e-04],\n",
       "         [ 1.9272e-02,  9.9981e-01,  1.9072e-03,  2.4382e-04],\n",
       "         [-7.2584e-01,  1.2679e-02,  6.8775e-01, -2.5887e-04],\n",
       "         [ 0.0000e+00,  0.0000e+00,  0.0000e+00,  1.0000e+00]]])"
      ]
     },
     "execution_count": 68,
     "metadata": {},
     "output_type": "execute_result"
    }
   ],
   "source": [
    "est_g.bmm(g_in)"
   ]
  },
  {
   "cell_type": "markdown",
   "id": "c2ded5a6",
   "metadata": {},
   "source": [
    "# ModelNet40"
   ]
  },
  {
   "cell_type": "code",
   "execution_count": 5,
   "id": "f6e1e2ea",
   "metadata": {},
   "outputs": [],
   "source": [
    "import h5py\n",
    "import glob"
   ]
  },
  {
   "cell_type": "code",
   "execution_count": 6,
   "id": "1001caa6",
   "metadata": {},
   "outputs": [],
   "source": [
    "def load_data(partition):\n",
    "    BASE_DIR = r'D:\\SDXX\\data'\n",
    "    all_data = []\n",
    "    all_label = []\n",
    "    for h5_name in glob.glob(os.path.join(BASE_DIR, 'modelnet40_ply_hdf5_2048', 'ply_data_%s*.h5' % partition)):\n",
    "        f = h5py.File(h5_name)\n",
    "        data = f['data'][:].astype('float32')\n",
    "        label = f['label'][:].astype('int64')\n",
    "        f.close()\n",
    "        all_data.append(data)\n",
    "        all_label.append(label)\n",
    "    all_data = np.concatenate(all_data, axis=0)\n",
    "    all_label = np.concatenate(all_label, axis=0)\n",
    "    return all_data, all_label"
   ]
  },
  {
   "cell_type": "code",
   "execution_count": 7,
   "id": "6367d37d",
   "metadata": {},
   "outputs": [],
   "source": [
    "def uniform_2_sphere(num: int = None):\n",
    "    if num is not None:\n",
    "        phi = np.random.uniform(0.0, 2 * np.pi, num)\n",
    "        cos_theta = np.random.uniform(-1.0, 1.0, num)\n",
    "    else:\n",
    "        phi = np.random.uniform(0.0, 2 * np.pi)\n",
    "        cos_theta = np.random.uniform(-1.0, 1.0)\n",
    "\n",
    "    theta = np.arccos(cos_theta)\n",
    "    x = np.sin(theta) * np.cos(phi)\n",
    "    y = np.sin(theta) * np.sin(phi)\n",
    "    z = np.cos(theta)\n",
    "\n",
    "    return np.stack((x, y, z), axis=-1)\n",
    "\n",
    "def crop(points, p_keep):\n",
    "    rand_xyz = uniform_2_sphere()\n",
    "    centroid = np.mean(points[:, :3], axis=0)\n",
    "    points_centered = points[:, :3] - centroid\n",
    "\n",
    "    dist_from_plane = np.dot(points_centered, rand_xyz)\n",
    "    if p_keep == 0.5:\n",
    "        mask = dist_from_plane > 0\n",
    "    else:\n",
    "        mask = dist_from_plane > np.percentile(dist_from_plane, (1.0 - p_keep) * 100)\n",
    "\n",
    "    return points[mask, :]"
   ]
  },
  {
   "cell_type": "code",
   "execution_count": 8,
   "id": "eeca32f1",
   "metadata": {},
   "outputs": [],
   "source": [
    "class ModelNet40(torch.utils.data.Dataset):\n",
    "    def __init__(self, partition='train', crop_type=True, gaussian_noise=False, unseen=False, factor=4):\n",
    "        self.data, self.label = load_data(partition)\n",
    "        self.partition = partition\n",
    "        self.gaussian_noise = gaussian_noise\n",
    "        self.unseen = unseen\n",
    "        self.label = self.label.squeeze()\n",
    "        self.factor = factor\n",
    "        self.crop_type = crop_type\n",
    "        if self.unseen:\n",
    "            if self.partition == 'test':\n",
    "                self.data = self.data[self.label>=20]\n",
    "                self.label = self.label[self.label>=20]\n",
    "            elif self.partition == 'train':\n",
    "                self.data = self.data[self.label<20]\n",
    "                self.label = self.label[self.label<20]\n",
    "\n",
    "    def __getitem__(self, item):\n",
    "        pointcloud = self.data[item][:1024]\n",
    "        if self.partition != 'train':\n",
    "            np.random.seed(item)\n",
    "        if self.gaussian_noise:\n",
    "            pointcloud = jitter_pointcloud(pointcloud)\n",
    "        anglex = np.random.uniform() * np.pi / self.factor\n",
    "        angley = np.random.uniform() * np.pi / self.factor\n",
    "        anglez = np.random.uniform() * np.pi / self.factor\n",
    "\n",
    "        cosx = np.cos(anglex)\n",
    "        cosy = np.cos(angley)\n",
    "        cosz = np.cos(anglez)\n",
    "        sinx = np.sin(anglex)\n",
    "        siny = np.sin(angley)\n",
    "        sinz = np.sin(anglez)\n",
    "        Rx = np.array([[1, 0, 0],\n",
    "                 [0, cosx, -sinx],\n",
    "                 [0, sinx, cosx]])\n",
    "        Ry = np.array([[cosy, 0, siny],\n",
    "                 [0, 1, 0],\n",
    "                 [-siny, 0, cosy]])\n",
    "        Rz = np.array([[cosz, -sinz, 0],\n",
    "                 [sinz, cosz, 0],\n",
    "                 [0, 0, 1]])\n",
    "        R = Rx.dot(Ry).dot(Rz)\n",
    "        translation = np.array([np.random.uniform(-0.5, 0.5), np.random.uniform(-0.5, 0.5),\n",
    "                                   np.random.uniform(-0.5, 0.5)])\n",
    "\n",
    "        scr = pointcloud\n",
    "\n",
    "        rotation = Rotation.from_euler('zyx', [anglez, angley, anglex])\n",
    "        tgt = rotation.apply(scr) + translation\n",
    "\n",
    "        if self.crop_type:\n",
    "            scr = crop(scr, 0.8)\n",
    "            tgt = crop(tgt, 0.8)\n",
    "\n",
    "        return scr.astype('float32'), tgt.astype('float32'), R.astype('float32'), \\\n",
    "               translation.astype('float32')\n",
    "\n",
    "    def __len__(self):\n",
    "        return self.data.shape[0]"
   ]
  },
  {
   "cell_type": "markdown",
   "id": "1c36d53c",
   "metadata": {},
   "source": [
    "## 重叠率100%"
   ]
  },
  {
   "cell_type": "code",
   "execution_count": 9,
   "id": "707e8e5b",
   "metadata": {},
   "outputs": [],
   "source": [
    "testdata = ModelNet40(partition='test', crop_type=False, unseen=True)\n",
    "test_loader = torch.utils.data.DataLoader(\n",
    "        testdata,\n",
    "        batch_size=1, shuffle=False, num_workers=0)"
   ]
  },
  {
   "cell_type": "code",
   "execution_count": 10,
   "id": "ded59123",
   "metadata": {},
   "outputs": [],
   "source": [
    "rotations_est = []\n",
    "translations_est = []\n",
    "rotations_ab = []\n",
    "translations_ab = []\n",
    "with torch.no_grad():\n",
    "    for i, datasets in enumerate(test_loader):\n",
    "        srcpcd, tgtpcd, rotation_ab, translation_ab = datasets\n",
    "        est_g, r = act.do_estimate(tgtpcd, srcpcd, model, args.device)\n",
    "        rotations_est.append(est_g[:, 0:3, 0:3])\n",
    "        translations_est.append(est_g[:, 0:3, 3])\n",
    "        rotations_ab.append(rotation_ab)\n",
    "        translations_ab.append(translation_ab)    "
   ]
  },
  {
   "cell_type": "code",
   "execution_count": 11,
   "id": "da0c28ae",
   "metadata": {},
   "outputs": [],
   "source": [
    "rot_est = np.concatenate(rotations_est, axis=0)\n",
    "trans_est = np.concatenate(translations_est, axis=0)\n",
    "rot_ab = np.concatenate(rotations_ab, axis=0)\n",
    "trans_ab = np.concatenate(translations_ab, axis=0)"
   ]
  },
  {
   "cell_type": "code",
   "execution_count": 12,
   "id": "f1495499",
   "metadata": {},
   "outputs": [],
   "source": [
    "test_r_mse = np.mean((rot_ab - rot_est) ** 2)\n",
    "test_r_rmse = np.sqrt(test_r_mse)\n",
    "test_r_mae = np.mean(np.abs(rot_ab - rot_est))\n",
    "test_t_mse = np.mean((trans_ab - trans_est) ** 2)\n",
    "test_t_rmse = np.sqrt(test_t_mse)\n",
    "test_t_mae = np.mean(np.abs(trans_ab - trans_est))"
   ]
  },
  {
   "cell_type": "code",
   "execution_count": 13,
   "id": "bff3406b",
   "metadata": {},
   "outputs": [
    {
     "name": "stdout",
     "output_type": "stream",
     "text": [
      "test_r_mse:0.011676,test_r_rmse:0.108055,test_r_mae:0.015296 test_t_mse:0.000258,test_t_rmse:0.016065,test_t_mae:0.001834\n"
     ]
    }
   ],
   "source": [
    "message_r = 'test_r_mse:{:.6f},test_r_rmse:{:.6f},test_r_mae:{:.6f}'.format(test_r_mse, test_r_rmse, test_r_mae)\n",
    "message_t = 'test_t_mse:{:.6f},test_t_rmse:{:.6f},test_t_mae:{:.6f}'.format(test_t_mse, test_t_rmse, test_t_mae)\n",
    "print(message_r, message_t)"
   ]
  },
  {
   "cell_type": "markdown",
   "id": "55a9e035",
   "metadata": {},
   "source": [
    "## 重叠率<100%"
   ]
  },
  {
   "cell_type": "code",
   "execution_count": 9,
   "id": "a4502f41",
   "metadata": {},
   "outputs": [],
   "source": [
    "pat_testdata = ModelNet40(partition='test', crop_type=True, unseen=True)\n",
    "par_testloader = torch.utils.data.DataLoader(\n",
    "        pat_testdata,\n",
    "        batch_size=1, shuffle=False, num_workers=0)"
   ]
  },
  {
   "cell_type": "code",
   "execution_count": 10,
   "id": "a2374da5",
   "metadata": {},
   "outputs": [],
   "source": [
    "rotations_est = []\n",
    "translations_est = []\n",
    "rotations_ab = []\n",
    "translations_ab = []\n",
    "with torch.no_grad():\n",
    "    for i, datasets in enumerate(par_testloader):\n",
    "        srcpcd, tgtpcd, rotation_ab, translation_ab = datasets\n",
    "        est_g, r = act.do_estimate(tgtpcd, srcpcd, model, args.device)\n",
    "        rotations_est.append(est_g[:, 0:3, 0:3])\n",
    "        translations_est.append(est_g[:, 0:3, 3])\n",
    "        rotations_ab.append(rotation_ab)\n",
    "        translations_ab.append(translation_ab) "
   ]
  },
  {
   "cell_type": "code",
   "execution_count": 11,
   "id": "19bfa5c1",
   "metadata": {},
   "outputs": [],
   "source": [
    "rot_est = np.concatenate(rotations_est, axis=0)\n",
    "trans_est = np.concatenate(translations_est, axis=0)\n",
    "rot_ab = np.concatenate(rotations_ab, axis=0)\n",
    "trans_ab = np.concatenate(translations_ab, axis=0)"
   ]
  },
  {
   "cell_type": "code",
   "execution_count": 12,
   "id": "6d94e3ad",
   "metadata": {},
   "outputs": [],
   "source": [
    "test_r_mse = np.mean((rot_ab - rot_est) ** 2)\n",
    "test_r_rmse = np.sqrt(test_r_mse)\n",
    "test_r_mae = np.mean(np.abs(rot_ab - rot_est))\n",
    "test_t_mse = np.mean((trans_ab - trans_est) ** 2)\n",
    "test_t_rmse = np.sqrt(test_t_mse)\n",
    "test_t_mae = np.mean(np.abs(trans_ab - trans_est))"
   ]
  },
  {
   "cell_type": "code",
   "execution_count": 13,
   "id": "c3dc7f88",
   "metadata": {},
   "outputs": [
    {
     "name": "stdout",
     "output_type": "stream",
     "text": [
      "test_r_mse:0.142071,test_r_rmse:0.376924,test_r_mae:0.213825 test_t_mse:0.011836,test_t_rmse:0.108792,test_t_mae:0.075862\n"
     ]
    }
   ],
   "source": [
    "message_r = 'test_r_mse:{:.6f},test_r_rmse:{:.6f},test_r_mae:{:.6f}'.format(test_r_mse, test_r_rmse, test_r_mae)\n",
    "message_t = 'test_t_mse:{:.6f},test_t_rmse:{:.6f},test_t_mae:{:.6f}'.format(test_t_mse, test_t_rmse, test_t_mae)\n",
    "print(message_r, message_t)"
   ]
  },
  {
   "cell_type": "code",
   "execution_count": 92,
   "id": "908271e2",
   "metadata": {},
   "outputs": [
    {
     "data": {
      "text/plain": [
       "0.7496947496947497"
      ]
     },
     "execution_count": 92,
     "metadata": {},
     "output_type": "execute_result"
    }
   ],
   "source": [
    "pt_tree = o3d.geometry.KDTreeFlann(ptpcd)\n",
    "pspcd.transform(G)\n",
    "count = 0\n",
    "idxs_pt = []\n",
    "idxs_ps = []\n",
    "dists = []\n",
    "for i in range(len(pspcd.points)):\n",
    "    #[k, idx, dist] = bun00_tree.search_knn_vector_3d(bun45.points[int(ind1[i])], 3)\n",
    "    [k, idx, dist] = pt_tree.search_radius_vector_3d(pspcd.points[i], 0.001)\n",
    "    if k!= 0:\n",
    "        count += 1\n",
    "        idxs_pt.append(idx[0])\n",
    "        idxs_ps.append(i)\n",
    "        dists.append(dist[0])\n",
    "count/len(pspcd.points)"
   ]
  },
  {
   "cell_type": "code",
   "execution_count": 44,
   "id": "4ef84f43",
   "metadata": {},
   "outputs": [],
   "source": [
    "ptpcd = o3d.geometry.PointCloud()\n",
    "ptpcd.points = o3d.utility.Vector3dVector(tgt.reshape(-1, 3))\n",
    "#ptpcd.estimate_normals(search_param=o3d.geometry.KDTreeSearchParamHybrid(radius=0.1, max_nn=30))\n",
    "#ptpcd.orient_normals_to_align_with_direction()\n",
    "ptpcd.paint_uniform_color([1, 0, 0])\n",
    "\n",
    "pspcd = o3d.geometry.PointCloud()\n",
    "pspcd.points = o3d.utility.Vector3dVector(src.reshape(-1, 3))\n",
    "#pspcd.estimate_normals(search_param=o3d.geometry.KDTreeSearchParamHybrid(radius=0.1, max_nn=30))\n",
    "#pspcd.orient_normals_to_align_with_direction()\n",
    "pspcd.paint_uniform_color([0, 0, 1])\n",
    "\n",
    "o3d.visualization.draw_geometries([ptpcd, pspcd])"
   ]
  },
  {
   "cell_type": "code",
   "execution_count": 40,
   "id": "00a0c8b5",
   "metadata": {},
   "outputs": [],
   "source": [
    "rot = rotation_ab.numpy().reshape(3, 3)\n",
    "trans = translation_ab.numpy()\n",
    "G = np.concatenate((rot, trans.reshape(3, -1)), axis = 1)\n",
    "G = np.concatenate((G, [[0.,0.,0.,1.]]), axis = 0)"
   ]
  },
  {
   "cell_type": "code",
   "execution_count": 17,
   "id": "a433f8bb",
   "metadata": {},
   "outputs": [],
   "source": [
    "#显示真实对应的点\n",
    "ptpcd.paint_uniform_color([0.5, 0.5, 0.5])\n",
    "pspcd.paint_uniform_color([0.5, 0.5, 0.5])\n",
    "np.asarray(ptpcd.colors)[idxs_pt[0:], :] = [255/255, 127/255, 39/255]\n",
    "np.asarray(pspcd.colors)[idxs_ps[0:], :] = [160/255, 255/255, 249/255]\n",
    "o3d.visualization.draw_geometries([ptpcd, pspcd])"
   ]
  },
  {
   "cell_type": "code",
   "execution_count": 36,
   "id": "3ad84e39",
   "metadata": {},
   "outputs": [
    {
     "data": {
      "text/plain": [
       "(torch.Size([1, 1638, 3]), torch.Size([1, 1638, 3]))"
      ]
     },
     "execution_count": 36,
     "metadata": {},
     "output_type": "execute_result"
    }
   ],
   "source": [
    "try_pt = torch.tensor(tgt).unsqueeze(0).contiguous().to(torch.float32)\n",
    "try_ps = torch.tensor(src).unsqueeze(0).contiguous().to(torch.float32)\n",
    "try_pt.shape, try_ps.shape"
   ]
  },
  {
   "cell_type": "markdown",
   "id": "b4f007ab",
   "metadata": {},
   "source": [
    "### no sampling"
   ]
  },
  {
   "cell_type": "code",
   "execution_count": 37,
   "id": "a0566c21",
   "metadata": {},
   "outputs": [],
   "source": [
    "with torch.no_grad():\n",
    "    est_g, r, f_series, feas = act.do_estimate(try_pt, try_ps, model, args.device)"
   ]
  },
  {
   "cell_type": "code",
   "execution_count": 38,
   "id": "47321fbe",
   "metadata": {},
   "outputs": [],
   "source": [
    "g_series = model.g_series"
   ]
  },
  {
   "cell_type": "code",
   "execution_count": 41,
   "id": "26644ebc",
   "metadata": {},
   "outputs": [
    {
     "data": {
      "text/plain": [
       "(tensor([[[ 0.4037, -0.1294,  0.9057,  0.0459],\n",
       "          [ 0.5931,  0.7908, -0.1514,  0.1883],\n",
       "          [-0.6966,  0.5983,  0.3960,  0.0151],\n",
       "          [ 0.0000,  0.0000,  0.0000,  1.0000]]]),\n",
       " tensor([[[ 0.7512, -0.1052,  0.6516,  0.1032],\n",
       "          [ 0.4259,  0.8315, -0.3568,  0.1865],\n",
       "          [-0.5043,  0.5456,  0.6694,  0.0353],\n",
       "          [ 0.0000,  0.0000,  0.0000,  1.0000]]]),\n",
       " array([[ 0.75326449, -0.38586897,  0.53263289,  0.04488318],\n",
       "        [ 0.6122871 ,  0.70714998, -0.35361478, -0.0763452 ],\n",
       "        [-0.24020238,  0.59248966,  0.76893353,  0.14589411],\n",
       "        [ 0.        ,  0.        ,  0.        ,  1.        ]]))"
      ]
     },
     "execution_count": 41,
     "metadata": {},
     "output_type": "execute_result"
    }
   ],
   "source": [
    "est_g, g_series[9], G"
   ]
  },
  {
   "cell_type": "code",
   "execution_count": 45,
   "id": "864c7254",
   "metadata": {},
   "outputs": [
    {
     "data": {
      "text/plain": [
       "PointCloud with 1638 points."
      ]
     },
     "execution_count": 45,
     "metadata": {},
     "output_type": "execute_result"
    }
   ],
   "source": [
    "pspcd.transform(g_series[9].numpy().reshape(4,4))"
   ]
  },
  {
   "cell_type": "code",
   "execution_count": 46,
   "id": "1c2fbe8a",
   "metadata": {},
   "outputs": [],
   "source": [
    "o3d.visualization.draw_geometries([ptpcd, pspcd])"
   ]
  },
  {
   "cell_type": "code",
   "execution_count": 77,
   "id": "fa8536ec",
   "metadata": {},
   "outputs": [],
   "source": [
    "o3d.visualization.draw_geometries([ptpcd, est_ptpcd])"
   ]
  },
  {
   "cell_type": "code",
   "execution_count": 63,
   "id": "8bcbd376",
   "metadata": {},
   "outputs": [
    {
     "data": {
      "text/plain": [
       "(array([[ 2.38428076e-07, -9.24305869e-08,  2.64178347e-07]]),\n",
       " array([[ 0.04488338, -0.07634532,  0.1458944 ]]))"
      ]
     },
     "execution_count": 63,
     "metadata": {},
     "output_type": "execute_result"
    }
   ],
   "source": [
    "ps_points = np.asarray(pspcd.points)\n",
    "pt_points = np.asarray(ptpcd.points)\n",
    "centroid_ps = np.mean(ps_points, axis=0).reshape(1,3)\n",
    "centroid_pt = np.mean(pt_points, axis=0).reshape(1,3)\n",
    "centroid_ps, centroid_pt"
   ]
  },
  {
   "cell_type": "code",
   "execution_count": 65,
   "id": "456c599a",
   "metadata": {},
   "outputs": [
    {
     "data": {
      "text/plain": [
       "array([ 2.38428076e-07, -9.24305869e-08,  2.64178347e-07])"
      ]
     },
     "execution_count": 65,
     "metadata": {},
     "output_type": "execute_result"
    }
   ],
   "source": [
    "pts = np.concatenate((pt_points, centroid_pt), axis = 0)\n",
    "pss = np.concatenate((ps_points, centroid_ps), axis = 0)\n",
    "ptpcd.points = o3d.utility.Vector3dVector(pts.reshape(-1, 3))\n",
    "pspcd.points = o3d.utility.Vector3dVector(pss.reshape(-1, 3))\n",
    "np.asarray(pspcd.points)[-1]"
   ]
  },
  {
   "cell_type": "code",
   "execution_count": 66,
   "id": "699d8f9d",
   "metadata": {},
   "outputs": [],
   "source": [
    "ptpcd.paint_uniform_color([0.5, 0.5, 0.5])\n",
    "pspcd.paint_uniform_color([0.5, 0.5, 0.5])\n",
    "ptpcd.colors[-1] = [255/255, 127/255, 39/255]\n",
    "pspcd.colors[-1] = [160/255, 255/255, 249/255]\n",
    "o3d.visualization.draw_geometries([ptpcd, pspcd])"
   ]
  },
  {
   "cell_type": "code",
   "execution_count": null,
   "id": "352ca20a",
   "metadata": {},
   "outputs": [],
   "source": [
    "A_F = model.ptnet(centroid_A)\n",
    "B_F = model.ptnet(centroid_B)"
   ]
  },
  {
   "cell_type": "code",
   "execution_count": 60,
   "id": "e7e27225",
   "metadata": {},
   "outputs": [],
   "source": [
    "points = np.asarray(ptpcd.points)\n",
    "points = torch.tensor(points).unsqueeze(0).contiguous().to(torch.float32)\n",
    "points_F = model.ptnet(points)\n",
    "points_feas = model.ptnet.features"
   ]
  },
  {
   "cell_type": "markdown",
   "id": "949d0e0e",
   "metadata": {},
   "source": [
    "## imaging"
   ]
  },
  {
   "cell_type": "code",
   "execution_count": 56,
   "id": "aa43ca38",
   "metadata": {},
   "outputs": [
    {
     "ename": "NameError",
     "evalue": "name 'try_ps' is not defined",
     "output_type": "error",
     "traceback": [
      "\u001b[1;31m---------------------------------------------------------------------------\u001b[0m",
      "\u001b[1;31mNameError\u001b[0m                                 Traceback (most recent call last)",
      "\u001b[1;32m<ipython-input-56-7da0c195d736>\u001b[0m in \u001b[0;36m<module>\u001b[1;34m()\u001b[0m\n\u001b[0;32m      1\u001b[0m \u001b[0mg_hat\u001b[0m \u001b[1;33m=\u001b[0m \u001b[0mest_g\u001b[0m\u001b[1;33m.\u001b[0m\u001b[0mcpu\u001b[0m\u001b[1;33m(\u001b[0m\u001b[1;33m)\u001b[0m\u001b[1;33m.\u001b[0m\u001b[0mcontiguous\u001b[0m\u001b[1;33m(\u001b[0m\u001b[1;33m)\u001b[0m\u001b[1;33m.\u001b[0m\u001b[0mview\u001b[0m\u001b[1;33m(\u001b[0m\u001b[1;33m-\u001b[0m\u001b[1;36m1\u001b[0m\u001b[1;33m,\u001b[0m \u001b[1;36m4\u001b[0m\u001b[1;33m,\u001b[0m \u001b[1;36m4\u001b[0m\u001b[1;33m)\u001b[0m\u001b[1;33m\u001b[0m\u001b[0m\n\u001b[1;32m----> 2\u001b[1;33m \u001b[0mest_trans_pt\u001b[0m \u001b[1;33m=\u001b[0m \u001b[0mptlk\u001b[0m\u001b[1;33m.\u001b[0m\u001b[0mse3\u001b[0m\u001b[1;33m.\u001b[0m\u001b[0mtransform\u001b[0m\u001b[1;33m(\u001b[0m\u001b[0mg_hat\u001b[0m\u001b[1;33m.\u001b[0m\u001b[0mto\u001b[0m\u001b[1;33m(\u001b[0m\u001b[0mtry_ps\u001b[0m\u001b[1;33m)\u001b[0m\u001b[1;33m,\u001b[0m \u001b[0mtry_ps\u001b[0m\u001b[1;33m.\u001b[0m\u001b[0mtranspose\u001b[0m\u001b[1;33m(\u001b[0m\u001b[1;36m1\u001b[0m\u001b[1;33m,\u001b[0m\u001b[1;36m2\u001b[0m\u001b[1;33m)\u001b[0m\u001b[1;33m.\u001b[0m\u001b[0mcontiguous\u001b[0m\u001b[1;33m(\u001b[0m\u001b[1;33m)\u001b[0m\u001b[1;33m)\u001b[0m\u001b[1;33m.\u001b[0m\u001b[0mtranspose\u001b[0m\u001b[1;33m(\u001b[0m\u001b[1;36m1\u001b[0m\u001b[1;33m,\u001b[0m\u001b[1;36m2\u001b[0m\u001b[1;33m)\u001b[0m\u001b[1;33m.\u001b[0m\u001b[0mcontiguous\u001b[0m\u001b[1;33m(\u001b[0m\u001b[1;33m)\u001b[0m\u001b[1;33m\u001b[0m\u001b[0m\n\u001b[0m\u001b[0;32m      3\u001b[0m \u001b[0mest_pt\u001b[0m \u001b[1;33m=\u001b[0m \u001b[0mest_trans_pt\u001b[0m\u001b[1;33m[\u001b[0m\u001b[1;36m0\u001b[0m\u001b[1;33m]\u001b[0m\u001b[1;33m.\u001b[0m\u001b[0mdetach\u001b[0m\u001b[1;33m(\u001b[0m\u001b[1;33m)\u001b[0m\u001b[1;33m.\u001b[0m\u001b[0mnumpy\u001b[0m\u001b[1;33m(\u001b[0m\u001b[1;33m)\u001b[0m\u001b[1;33m\u001b[0m\u001b[0m\n\u001b[0;32m      4\u001b[0m \u001b[0mest_pt\u001b[0m\u001b[1;33m.\u001b[0m\u001b[0mshape\u001b[0m\u001b[1;33m\u001b[0m\u001b[0m\n",
      "\u001b[1;31mNameError\u001b[0m: name 'try_ps' is not defined"
     ]
    }
   ],
   "source": [
    "g_hat = est_g.cpu().contiguous().view(-1, 4, 4)\n",
    "est_trans_pt = ptlk.se3.transform(g_hat.to(try_ps), try_ps.transpose(1,2).contiguous()).transpose(1,2).contiguous()\n",
    "est_pt = est_trans_pt[0].detach().numpy()\n",
    "est_pt.shape"
   ]
  },
  {
   "cell_type": "code",
   "execution_count": 55,
   "id": "293e4e19",
   "metadata": {},
   "outputs": [
    {
     "ename": "NameError",
     "evalue": "name 'est_pt' is not defined",
     "output_type": "error",
     "traceback": [
      "\u001b[1;31m---------------------------------------------------------------------------\u001b[0m",
      "\u001b[1;31mNameError\u001b[0m                                 Traceback (most recent call last)",
      "\u001b[1;32m<ipython-input-55-1e6553b0d88b>\u001b[0m in \u001b[0;36m<module>\u001b[1;34m()\u001b[0m\n\u001b[0;32m      1\u001b[0m \u001b[0mest_ptpcd\u001b[0m \u001b[1;33m=\u001b[0m \u001b[0mo3d\u001b[0m\u001b[1;33m.\u001b[0m\u001b[0mgeometry\u001b[0m\u001b[1;33m.\u001b[0m\u001b[0mPointCloud\u001b[0m\u001b[1;33m(\u001b[0m\u001b[1;33m)\u001b[0m\u001b[1;33m\u001b[0m\u001b[0m\n\u001b[1;32m----> 2\u001b[1;33m \u001b[0mest_ptpcd\u001b[0m\u001b[1;33m.\u001b[0m\u001b[0mpoints\u001b[0m \u001b[1;33m=\u001b[0m \u001b[0mo3d\u001b[0m\u001b[1;33m.\u001b[0m\u001b[0mutility\u001b[0m\u001b[1;33m.\u001b[0m\u001b[0mVector3dVector\u001b[0m\u001b[1;33m(\u001b[0m\u001b[0mest_pt\u001b[0m\u001b[1;33m.\u001b[0m\u001b[0mreshape\u001b[0m\u001b[1;33m(\u001b[0m\u001b[1;33m-\u001b[0m\u001b[1;36m1\u001b[0m\u001b[1;33m,\u001b[0m \u001b[1;36m3\u001b[0m\u001b[1;33m)\u001b[0m\u001b[1;33m)\u001b[0m\u001b[1;33m\u001b[0m\u001b[0m\n\u001b[0m\u001b[0;32m      3\u001b[0m \u001b[1;31m#est_ptpcd.estimate_normals(search_param=o3d.geometry.KDTreeSearchParamHybrid(radius=0.1, max_nn=30))\u001b[0m\u001b[1;33m\u001b[0m\u001b[1;33m\u001b[0m\u001b[0m\n\u001b[0;32m      4\u001b[0m \u001b[1;31m#est_ptpcd.orient_normals_to_align_with_direction()\u001b[0m\u001b[1;33m\u001b[0m\u001b[1;33m\u001b[0m\u001b[0m\n\u001b[0;32m      5\u001b[0m \u001b[0mest_ptpcd\u001b[0m\u001b[1;33m.\u001b[0m\u001b[0mpaint_uniform_color\u001b[0m\u001b[1;33m(\u001b[0m\u001b[1;33m[\u001b[0m\u001b[1;36m0\u001b[0m\u001b[1;33m,\u001b[0m \u001b[1;36m0\u001b[0m\u001b[1;33m,\u001b[0m \u001b[1;36m1\u001b[0m\u001b[1;33m]\u001b[0m\u001b[1;33m)\u001b[0m\u001b[1;33m\u001b[0m\u001b[0m\n",
      "\u001b[1;31mNameError\u001b[0m: name 'est_pt' is not defined"
     ]
    }
   ],
   "source": [
    "est_ptpcd = o3d.geometry.PointCloud()\n",
    "est_ptpcd.points = o3d.utility.Vector3dVector(est_pt.reshape(-1, 3))\n",
    "#est_ptpcd.estimate_normals(search_param=o3d.geometry.KDTreeSearchParamHybrid(radius=0.1, max_nn=30))\n",
    "#est_ptpcd.orient_normals_to_align_with_direction()\n",
    "est_ptpcd.paint_uniform_color([0, 0, 1])"
   ]
  },
  {
   "cell_type": "code",
   "execution_count": 54,
   "id": "bed6ec3b",
   "metadata": {},
   "outputs": [],
   "source": [
    "o3d.visualization.draw_geometries([ptpcd, est_ptpcd])"
   ]
  },
  {
   "cell_type": "markdown",
   "id": "074f8ad1",
   "metadata": {},
   "source": [
    "## error"
   ]
  },
  {
   "cell_type": "code",
   "execution_count": 23,
   "id": "cbc6eca2",
   "metadata": {},
   "outputs": [],
   "source": [
    "est_rot = est_g[:, 0:3, 0:3].reshape(3, 3).numpy()\n",
    "est_trans = est_g[:, 0:3, 3].reshape(3, 1).numpy()\n",
    "gt_rot = G[0:3, 0:3]\n",
    "gt_trans = G[0:3, 3].reshape(3, 1)"
   ]
  },
  {
   "cell_type": "code",
   "execution_count": 24,
   "id": "a235cfc9",
   "metadata": {},
   "outputs": [],
   "source": [
    "test_r_mse = np.mean((gt_rot - est_rot) ** 2)\n",
    "test_r_rmse = np.sqrt(test_r_mse)\n",
    "test_r_mae = np.mean(np.abs(gt_rot - est_rot))\n",
    "test_t_mse = np.mean((gt_trans - est_trans) ** 2)\n",
    "test_t_rmse = np.sqrt(test_t_mse)\n",
    "test_t_mae = np.mean(np.abs(gt_trans - est_trans))"
   ]
  },
  {
   "cell_type": "code",
   "execution_count": 25,
   "id": "dc33f45f",
   "metadata": {},
   "outputs": [
    {
     "name": "stdout",
     "output_type": "stream",
     "text": [
      "test_r_mse:0.080324,test_r_rmse:0.283415,test_r_mae:0.235490 test_t_mse:0.026601,test_t_rmse:0.163097,test_t_mae:0.153965\n"
     ]
    }
   ],
   "source": [
    "message_r = 'test_r_mse:{:.6f},test_r_rmse:{:.6f},test_r_mae:{:.6f}'.format(test_r_mse, test_r_rmse, test_r_mae)\n",
    "message_t = 'test_t_mse:{:.6f},test_t_rmse:{:.6f},test_t_mae:{:.6f}'.format(test_t_mse, test_t_rmse, test_t_mae)\n",
    "print(message_r, message_t)"
   ]
  },
  {
   "cell_type": "markdown",
   "id": "ddb59d35",
   "metadata": {},
   "source": [
    "### features"
   ]
  },
  {
   "cell_type": "code",
   "execution_count": 23,
   "id": "bdb43b31",
   "metadata": {},
   "outputs": [
    {
     "data": {
      "text/plain": [
       "tensor([[0.0000, 0.0000, 0.1645,  ..., 0.0000, 2.3249, 1.8158],\n",
       "        [0.7780, 0.0000, 0.0000,  ..., 0.0000, 0.0000, 0.0000],\n",
       "        [0.9656, 0.0000, 0.0000,  ..., 0.0000, 1.1518, 1.3219],\n",
       "        ...,\n",
       "        [1.1753, 0.4132, 0.0000,  ..., 0.8117, 0.0000, 0.0466],\n",
       "        [0.0000, 0.0000, 0.0000,  ..., 0.0000, 0.0000, 0.7720],\n",
       "        [1.4908, 1.0571, 0.0000,  ..., 0.0000, 0.5977, 1.1924]])"
      ]
     },
     "execution_count": 23,
     "metadata": {},
     "output_type": "execute_result"
    }
   ],
   "source": [
    "ptfeas, psfeas = feas['pt_feas'], feas['ps_feas']\n",
    "fea_tree = KDTree(ptfeas[0])"
   ]
  },
  {
   "cell_type": "code",
   "execution_count": 23,
   "id": "bffdf21f",
   "metadata": {},
   "outputs": [],
   "source": [
    "mo_correspond = []\n",
    "dists = []\n",
    "#K = 3\n",
    "for i, fea in enumerate(psfeas[0]):\n",
    "    idx = fea_tree.query_radius(fea.reshape(1, -1), r=1)\n",
    "#    dist, idx = fea_tree.query(fea.reshape(1, -1), k=1) \n",
    "    #if K is not None:\n",
    "    #    idx = idx[0][:K]\n",
    "    # = tup[0], tup[1]\n",
    "#    dists.append(dist)\n",
    "    for j in range(idx[0].shape[-1]):\n",
    "        mo_correspond.append([i, idx[0][j]])  #, dist[0][j]])\n",
    "    #for j in idx:\n",
    "    #    correspondences.append([i, j]) "
   ]
  },
  {
   "cell_type": "code",
   "execution_count": 25,
   "id": "70dccf96",
   "metadata": {},
   "outputs": [
    {
     "data": {
      "text/plain": [
       "(29, 25)"
      ]
     },
     "execution_count": 25,
     "metadata": {},
     "output_type": "execute_result"
    }
   ],
   "source": [
    "mo_correspond = np.array(mo_correspond)\n",
    "psidx = list(set(mo_correspond[:,0].tolist()))\n",
    "ptidx = list(set(mo_correspond[:,1].tolist()))\n",
    "len(ptidx), len(psidx)"
   ]
  },
  {
   "cell_type": "code",
   "execution_count": 26,
   "id": "21d922f1",
   "metadata": {},
   "outputs": [],
   "source": [
    "ptpcd.paint_uniform_color([0.5, 0.5, 0.5])\n",
    "pspcd.paint_uniform_color([0.5, 0.5, 0.5])\n",
    "np.asarray(ptpcd.colors)[ptidx[0:], :] = [1, 0, 0]\n",
    "np.asarray(pspcd.colors)[psidx[0:], :] = [0, 0, 1]\n",
    "o3d.visualization.draw_geometries([ptpcd, pspcd])"
   ]
  },
  {
   "cell_type": "code",
   "execution_count": 5,
   "id": "deeef7b5",
   "metadata": {},
   "outputs": [],
   "source": [
    "def get_datasets(args):\n",
    "\n",
    "    cinfo = None\n",
    "    if args.categoryfile:\n",
    "        #categories = numpy.loadtxt(args.categoryfile, dtype=str, delimiter=\"\\n\").tolist()\n",
    "        categories = [line.rstrip('\\n') for line in open(args.categoryfile)]\n",
    "        categories.sort()\n",
    "        c_to_idx = {categories[i]: i for i in range(len(categories))}\n",
    "        cinfo = (categories, c_to_idx)\n",
    "\n",
    "    perturbations = None\n",
    "    fmt_trans = False\n",
    "    if args.perturbations:\n",
    "        perturbations = np.loadtxt(args.perturbations, delimiter=',')\n",
    "    if args.format == 'wt':\n",
    "        fmt_trans = True\n",
    "\n",
    "    if args.dataset_type == 'modelnet':\n",
    "        transform = torchvision.transforms.Compose([\\\n",
    "                ptlk.data.transforms.Mesh2Points(),\\\n",
    "                ptlk.data.transforms.OnUnitCube(),\\\n",
    "            ])\n",
    "\n",
    "        testdata = ptlk.data.datasets.ModelNet(args.dataset_path, train=0, transform=transform, classinfo=cinfo)\n",
    "\n",
    "        testset = ptlk.data.datasets.CADset4tracking_fixed_perturbation(testdata,\\\n",
    "                        perturbations, fmt_trans=fmt_trans)\n",
    "\n",
    "    return testset"
   ]
  },
  {
   "cell_type": "code",
   "execution_count": 6,
   "id": "1d4c4cb1",
   "metadata": {},
   "outputs": [],
   "source": [
    "testset = get_datasets(args)\n",
    "testloader = torch.utils.data.DataLoader(\n",
    "    testset,\n",
    "    batch_size=1, shuffle=False, num_workers=args.workers)"
   ]
  },
  {
   "cell_type": "code",
   "execution_count": 7,
   "id": "ff69c641",
   "metadata": {},
   "outputs": [],
   "source": [
    "for i, datasets in enumerate(testloader):\n",
    "    tgtpcd, srcpcd, igt = datasets\n",
    "    break"
   ]
  },
  {
   "cell_type": "code",
   "execution_count": 8,
   "id": "f40dde5d",
   "metadata": {},
   "outputs": [
    {
     "data": {
      "text/plain": [
       "(torch.Size([1, 1187, 3]), torch.Size([1, 1187, 3]), torch.Size([1, 4, 4]))"
      ]
     },
     "execution_count": 8,
     "metadata": {},
     "output_type": "execute_result"
    }
   ],
   "source": [
    "tgtpcd.shape, srcpcd.shape, igt.shape"
   ]
  },
  {
   "cell_type": "code",
   "execution_count": 9,
   "id": "67026cfb",
   "metadata": {},
   "outputs": [],
   "source": [
    "ptpcd = o3d.geometry.PointCloud()\n",
    "ptpcd.points = o3d.utility.Vector3dVector(tgtpcd.numpy().reshape(-1, 3))\n",
    "#ptpcd.estimate_normals(search_param=o3d.geometry.KDTreeSearchParamHybrid(radius=0.1, max_nn=30))\n",
    "#ptpcd.orient_normals_to_align_with_direction()\n",
    "ptpcd.paint_uniform_color([1, 0, 0])\n",
    "\n",
    "pspcd = o3d.geometry.PointCloud()\n",
    "pspcd.points = o3d.utility.Vector3dVector(srcpcd.numpy().reshape(-1, 3))\n",
    "#pspcd.estimate_normals(search_param=o3d.geometry.KDTreeSearchParamHybrid(radius=0.1, max_nn=30))\n",
    "#pspcd.orient_normals_to_align_with_direction()\n",
    "pspcd.paint_uniform_color([0, 0, 1])\n",
    "\n",
    "o3d.visualization.draw_geometries([ptpcd, pspcd])"
   ]
  },
  {
   "cell_type": "code",
   "execution_count": 10,
   "id": "ac621b34",
   "metadata": {},
   "outputs": [],
   "source": [
    "with torch.no_grad():\n",
    "    est_g, r, f_series, feas = act.do_estimate(tgtpcd, srcpcd, model, args.device)"
   ]
  },
  {
   "cell_type": "code",
   "execution_count": 11,
   "id": "66859553",
   "metadata": {},
   "outputs": [
    {
     "data": {
      "text/plain": [
       "(1187, 3)"
      ]
     },
     "execution_count": 11,
     "metadata": {},
     "output_type": "execute_result"
    }
   ],
   "source": [
    "g_hat = est_g.cpu().contiguous().view(-1, 4, 4)\n",
    "est_trans_pt = ptlk.se3.transform(g_hat.to(srcpcd), srcpcd.transpose(1,2).contiguous()).transpose(1,2).contiguous()\n",
    "est_pt = est_trans_pt[0].detach().numpy()\n",
    "est_pt.shape"
   ]
  },
  {
   "cell_type": "code",
   "execution_count": 12,
   "id": "af349f09",
   "metadata": {},
   "outputs": [
    {
     "data": {
      "text/plain": [
       "PointCloud with 1187 points."
      ]
     },
     "execution_count": 12,
     "metadata": {},
     "output_type": "execute_result"
    }
   ],
   "source": [
    "est_ptpcd = o3d.geometry.PointCloud()\n",
    "est_ptpcd.points = o3d.utility.Vector3dVector(est_pt.reshape(-1, 3))\n",
    "#est_ptpcd.estimate_normals(search_param=o3d.geometry.KDTreeSearchParamHybrid(radius=0.1, max_nn=30))\n",
    "#est_ptpcd.orient_normals_to_align_with_direction()\n",
    "est_ptpcd.paint_uniform_color([0, 0, 1])"
   ]
  },
  {
   "cell_type": "code",
   "execution_count": 41,
   "id": "d9bcef00",
   "metadata": {},
   "outputs": [
    {
     "name": "stdout",
     "output_type": "stream",
     "text": [
      "[Open3D WARNING] [ViewControl] SetViewPoint() failed because window height and width are not set.\n",
      "[Open3D WARNING] [ViewControl] SetViewPoint() failed because window height and width are not set.\n",
      "[Open3D WARNING] [ViewControl] SetViewPoint() failed because window height and width are not set.\n",
      "[Open3D WARNING] [ViewControl] SetViewPoint() failed because window height and width are not set.\n",
      "[Open3D WARNING] [ViewControl] SetViewPoint() failed because window height and width are not set.\n",
      "[Open3D WARNING] [ViewControl] SetViewPoint() failed because window height and width are not set.\n",
      "[Open3D WARNING] [ViewControl] SetViewPoint() failed because window height and width are not set.\n"
     ]
    }
   ],
   "source": [
    "o3d.visualization.draw_geometries([ptpcd, est_ptpcd])"
   ]
  },
  {
   "cell_type": "markdown",
   "id": "f6f5570f",
   "metadata": {},
   "source": [
    "# t-SNE"
   ]
  },
  {
   "cell_type": "code",
   "execution_count": 24,
   "id": "40bb562d",
   "metadata": {},
   "outputs": [],
   "source": [
    "import matplotlib.pyplot as plt\n",
    "from sklearn.manifold import TSNE"
   ]
  },
  {
   "cell_type": "code",
   "execution_count": 25,
   "id": "a2eb7843",
   "metadata": {},
   "outputs": [],
   "source": [
    "#tsne_2D = TSNE(n_components=2, init='pca', random_state=42)\n",
    "tsne_2D = TSNE(n_components=2, random_state=150)"
   ]
  },
  {
   "cell_type": "code",
   "execution_count": 34,
   "id": "5998c7f1",
   "metadata": {},
   "outputs": [],
   "source": [
    "#pt0 = np.concatenate((feas['pt_feas'][0].numpy(), f_series['pt_feas'][0].numpy().reshape(1, -1)), axis = 0)\n",
    "pt0 = feas['pt_feas'][0].numpy()\n",
    "pt0_2d = tsne_2D.fit_transform(pt0)"
   ]
  },
  {
   "cell_type": "code",
   "execution_count": 35,
   "id": "ea365495",
   "metadata": {},
   "outputs": [],
   "source": [
    "#ps0 = np.concatenate((feas['ps_feas'][1].numpy(), f_series['ps_feas'][1].numpy().reshape(1, -1)), axis = 0)\n",
    "ps0 = feas['ps_feas'][0].numpy()\n",
    "ps0_2d = tsne_2D.fit_transform(ps0)"
   ]
  },
  {
   "cell_type": "code",
   "execution_count": 36,
   "id": "2628b079",
   "metadata": {},
   "outputs": [
    {
     "data": {
      "text/plain": [
       "<matplotlib.collections.PathCollection at 0x1e63baa3b38>"
      ]
     },
     "execution_count": 36,
     "metadata": {},
     "output_type": "execute_result"
    },
    {
     "data": {
      "image/png": "[encoded data removed]",
      "text/plain": [
       "<Figure size 432x288 with 1 Axes>"
      ]
     },
     "metadata": {},
     "output_type": "display_data"
    }
   ],
   "source": [
    "plt.figure\n",
    "plt.scatter(pt0_2d[:, 0], pt0_2d[:, 1], c='cyan', alpha=0.6)\n",
    "plt.scatter(ps0_2d[:, 0], ps0_2d[:, 1], c='green', alpha=0.6)"
   ]
  },
  {
   "cell_type": "code",
   "execution_count": 86,
   "id": "b68d71ad",
   "metadata": {},
   "outputs": [
    {
     "data": {
      "text/plain": [
       "<matplotlib.collections.PathCollection at 0x1e63b55a1d0>"
      ]
     },
     "execution_count": 86,
     "metadata": {},
     "output_type": "execute_result"
    },
    {
     "data": {
      "image/png": "[encoded data removed]",
      "text/plain": [
       "<Figure size 432x288 with 1 Axes>"
      ]
     },
     "metadata": {},
     "output_type": "display_data"
    }
   ],
   "source": [
    "#ps2 = np.concatenate((feas['ps_feas'][10].numpy(), f_series['ps_feas'][10].numpy().reshape(1, -1)), axis = 0)\n",
    "ps2 = feas['ps_feas'][9].numpy()\n",
    "ps2_2d = tsne_2D.fit_transform(ps2)\n",
    "plt.figure\n",
    "plt.scatter(pt0_2d[:, 0], pt0_2d[:, 1], c='cyan', alpha=0.6)\n",
    "plt.scatter(ps2_2d[:, 0], ps2_2d[:, 1], c='green', alpha=0.6)"
   ]
  },
  {
   "cell_type": "code",
   "execution_count": 38,
   "id": "c3485682",
   "metadata": {},
   "outputs": [
    {
     "data": {
      "text/plain": [
       "<matplotlib.collections.PathCollection at 0x1e63b99e828>"
      ]
     },
     "execution_count": 38,
     "metadata": {},
     "output_type": "execute_result"
    },
    {
     "data": {
      "image/png": "[encoded data removed]",
      "text/plain": [
       "<Figure size 432x288 with 1 Axes>"
      ]
     },
     "metadata": {},
     "output_type": "display_data"
    }
   ],
   "source": [
    "#psfl = np.concatenate((feas['ps_feas'][-1].numpy(), f_series['ps_feas'][-1].numpy().reshape(1, -1)), axis = 0)\n",
    "psfl = feas['ps_feas'][-1].numpy()\n",
    "psfl_2d = tsne_2D.fit_transform(psfl)\n",
    "plt.figure\n",
    "plt.scatter(pt0_2d[:, 0], pt0_2d[:, 1], c='cyan', alpha=0.6)\n",
    "plt.scatter(psfl_2d[:, 0], psfl_2d[:, 1], c='green', alpha=0.6)"
   ]
  },
  {
   "cell_type": "code",
   "execution_count": 94,
   "id": "fdb0e2f2",
   "metadata": {},
   "outputs": [],
   "source": [
    "fea_tree = KDTree(pt0_2d)\n",
    "mo_correspond = []\n",
    "dists = []\n",
    "#K = 3\n",
    "for i, fea in enumerate(ps2_2d):\n",
    "    idx = fea_tree.query_radius(fea.reshape(1, -1), r=0.1)\n",
    "#    dist, idx = fea_tree.query(fea.reshape(1, -1), k=1) \n",
    "    #if K is not None:\n",
    "    #    idx = idx[0][:K]\n",
    "    # = tup[0], tup[1]\n",
    "#    dists.append(dist)\n",
    "    for j in range(idx[0].shape[-1]):\n",
    "        mo_correspond.append([i, idx[0][j]])  #, dist[0][j]])\n",
    "    #for j in idx:\n",
    "    #    correspondences.append([i, j]) "
   ]
  },
  {
   "cell_type": "code",
   "execution_count": 95,
   "id": "b11b4dd9",
   "metadata": {},
   "outputs": [
    {
     "data": {
      "text/plain": [
       "(9, 9)"
      ]
     },
     "execution_count": 95,
     "metadata": {},
     "output_type": "execute_result"
    }
   ],
   "source": [
    "mo_correspond = np.array(mo_correspond)\n",
    "psidx = list(set(mo_correspond[:,0].tolist()))\n",
    "ptidx = list(set(mo_correspond[:,1].tolist()))\n",
    "len(ptidx), len(psidx)"
   ]
  },
  {
   "cell_type": "code",
   "execution_count": 96,
   "id": "406ec552",
   "metadata": {},
   "outputs": [],
   "source": [
    "ptpcd.paint_uniform_color([0.5, 0.5, 0.5])\n",
    "pspcd.paint_uniform_color([0.5, 0.5, 0.5])\n",
    "np.asarray(ptpcd.colors)[ptidx[0:], :] = [1, 0, 0]\n",
    "np.asarray(pspcd.colors)[psidx[0:], :] = [0, 0, 1]\n",
    "o3d.visualization.draw_geometries([ptpcd, pspcd])"
   ]
  },
  {
   "cell_type": "code",
   "execution_count": 63,
   "id": "da006dfb",
   "metadata": {},
   "outputs": [
    {
     "data": {
      "text/plain": [
       "<matplotlib.collections.PathCollection at 0x1e63b3e0198>"
      ]
     },
     "execution_count": 63,
     "metadata": {},
     "output_type": "execute_result"
    },
    {
     "data": {
      "image/png": "[encoded data removed]",
      "text/plain": [
       "<Figure size 432x288 with 1 Axes>"
      ]
     },
     "metadata": {},
     "output_type": "display_data"
    }
   ],
   "source": [
    "points_2d = tsne_2D.fit_transform(points_feas[0].detach().numpy())\n",
    "plt.figure\n",
    "plt.scatter(points_2d[:, 0], points_2d[:, 1], c='cyan', alpha=0.6)"
   ]
  },
  {
   "cell_type": "code",
   "execution_count": 87,
   "id": "0c0c3376",
   "metadata": {},
   "outputs": [
    {
     "data": {
      "text/plain": [
       "<matplotlib.collections.PathCollection at 0x1e63b5b7160>"
      ]
     },
     "execution_count": 87,
     "metadata": {},
     "output_type": "execute_result"
    },
    {
     "data": {
      "image/png": "[encoded data removed]",
      "text/plain": [
       "<Figure size 432x288 with 1 Axes>"
      ]
     },
     "metadata": {},
     "output_type": "display_data"
    }
   ],
   "source": [
    "plt.figure\n",
    "plt.scatter(points_2d[:, 0], points_2d[:, 1], c='cyan', alpha=0.6)\n",
    "plt.scatter(ps0_2d[:, 0], ps0_2d[:, 1], c='green', alpha=0.6)"
   ]
  },
  {
   "cell_type": "code",
   "execution_count": null,
   "id": "80be79f0",
   "metadata": {},
   "outputs": [],
   "source": []
  }
 ],
 "metadata": {
  "kernelspec": {
   "display_name": "python3",
   "language": "python",
   "name": "python3"
  },
  "language_info": {
   "codemirror_mode": {
    "name": "ipython",
    "version": 3
   },
   "file_extension": ".py",
   "mimetype": "text/x-python",
   "name": "python",
   "nbconvert_exporter": "python",
   "pygments_lexer": "ipython3",
   "version": "3.6.5"
  }
 },
 "nbformat": 4,
 "nbformat_minor": 5
}
