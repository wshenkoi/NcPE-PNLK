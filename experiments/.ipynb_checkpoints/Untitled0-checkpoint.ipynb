{
 "cells": [
  {
   "cell_type": "code",
   "execution_count": 2,
   "metadata": {
    "colab": {
     "base_uri": "https://localhost:8080/"
    },
    "executionInfo": {
     "elapsed": 13531,
     "status": "ok",
     "timestamp": 1678237936441,
     "user": {
      "displayName": "sykk W",
      "userId": "02320879820340904308"
     },
     "user_tz": -480
    },
    "id": "lg5gKg7HJO-m",
    "outputId": "c52bb292-2484-4396-8eed-fadb8deb6b55"
   },
   "outputs": [
    {
     "name": "stdout",
     "output_type": "stream",
     "text": [
      "Mounted at /content/drive/\n"
     ]
    }
   ],
   "source": [
    "from google.colab import drive\n",
    "drive.mount('/content/drive/')"
   ]
  },
  {
   "cell_type": "code",
   "execution_count": 3,
   "metadata": {
    "executionInfo": {
     "elapsed": 425,
     "status": "ok",
     "timestamp": 1678237939928,
     "user": {
      "displayName": "sykk W",
      "userId": "02320879820340904308"
     },
     "user_tz": -480
    },
    "id": "2B_Q-99gM0an"
   },
   "outputs": [],
   "source": [
    "import os\n",
    "os.chdir(\"/content/drive/MyDrive/ori_PointNetLK-master/experiments\")"
   ]
  },
  {
   "cell_type": "code",
   "execution_count": null,
   "metadata": {
    "colab": {
     "base_uri": "https://localhost:8080/"
    },
    "id": "WbbxMxx2NEgk",
    "outputId": "28bb4aeb-c935-4eef-d82a-5b9ff316bd48"
   },
   "outputs": [
    {
     "name": "stdout",
     "output_type": "stream",
     "text": [
      "DEBUG:/content/drive/MyDrive/ori_PointNetLK-master/logf/train/r_g9_log.log, 2023-03-07 10:30:11,608, Training (PID=1718), Namespace(batch_size=32, categoryfile='./sampledata/modelnet40_half1.txt', crop=0.9, dataset_path='/content/drive/MyDrive/model40', dataset_type='modelnet', delta=0.01, device='cuda:0', dim_k=1024, epochs=100, learn_delta=False, logfile='/content/drive/MyDrive/ori_PointNetLK-master/logf/train/r_g9_log.log', mag=0.8, max_iter=10, num_points=1024, optimizer='Adam', outfile='r_g9', pointnet='tune', pretrained='', resume='./r_g9_snap_last.pth', start_epoch=0, symfn='max', transfer_from='', workers=4)\n",
      "/usr/local/lib/python3.8/dist-packages/torch/utils/data/dataloader.py:554: UserWarning: This DataLoader will create 4 worker processes in total. Our suggested max number of worker in current system is 2, which is smaller than what this DataLoader is going to create. Please be aware that excessive worker creation might get DataLoader running slow or even freeze, lower the worker number to avoid potential slowness/freeze if necessary.\n",
      "  warnings.warn(_create_warning_msg(\n",
      "DEBUG:/content/drive/MyDrive/ori_PointNetLK-master/logf/train/r_g9_log.log, 2023-03-07 10:30:53,965, train, begin\n",
      "  0% 0/115 [00:00<?, ?it/s]/usr/local/lib/python3.8/dist-packages/torch/nn/_reduction.py:42: UserWarning: size_average and reduce args will be deprecated, please use reduction='mean' instead.\n",
      "  warnings.warn(warning.format(ret))\n",
      "/usr/local/lib/python3.8/dist-packages/torch/nn/_reduction.py:42: UserWarning: size_average and reduce args will be deprecated, please use reduction='sum' instead.\n",
      "  warnings.warn(warning.format(ret))\n",
      "current g_loss: 0.019(ave_gloss: 0.082): 100% 115/115 [25:30<00:00, 13.30s/it]\n",
      "100% 23/23 [05:06<00:00, 13.32s/it]\n",
      "INFO:/content/drive/MyDrive/ori_PointNetLK-master/logf/train/r_g9_log.log, 2023-03-07 11:01:30,498, epoch, 0004, overlap, 0.909813, 911.628955, 940.273180, 0.081971, 0.095596\n",
      "current g_loss: 0.029(ave_gloss: 0.086): 100% 115/115 [22:01<00:00, 11.49s/it]\n",
      "100% 23/23 [04:14<00:00, 11.08s/it]\n",
      "INFO:/content/drive/MyDrive/ori_PointNetLK-master/logf/train/r_g9_log.log, 2023-03-07 11:27:47,300, epoch, 0005, overlap, 0.909124, 827.691669, 686.159153, 0.086432, 0.086306\n",
      "current g_loss: 0.722(ave_gloss: 0.130): 100% 115/115 [21:39<00:00, 11.30s/it]\n",
      "100% 23/23 [04:10<00:00, 10.88s/it]\n",
      "INFO:/content/drive/MyDrive/ori_PointNetLK-master/logf/train/r_g9_log.log, 2023-03-07 11:53:39,067, epoch, 0006, overlap, 0.910568, 949.586187, 1045.199337, 0.129599, 0.221653\n",
      "current g_loss: 0.184(ave_gloss: 0.188): 100% 115/115 [21:33<00:00, 11.25s/it]\n",
      "100% 23/23 [04:10<00:00, 10.88s/it]\n",
      "INFO:/content/drive/MyDrive/ori_PointNetLK-master/logf/train/r_g9_log.log, 2023-03-07 12:19:22,990, epoch, 0007, overlap, 0.910313, 1057.100437, 930.747069, 0.187724, 0.228783\n",
      "current g_loss: 0.125(ave_gloss: 0.211):  47% 54/115 [11:45<08:40,  8.54s/it]"
     ]
    }
   ],
   "source": [
    "!python train_pointlk.py -o='r_g9' -i='/content/drive/MyDrive/model40' -c='./sampledata/modelnet40_half1.txt' --crop=0.9\\\n",
    "              -l='/content/drive/MyDrive/ori_PointNetLK-master/logf/train/r_g9_log.log' --resume='./r_g9_snap_last.pth'"
   ]
  },
  {
   "cell_type": "code",
   "execution_count": 12,
   "metadata": {
    "colab": {
     "base_uri": "https://localhost:8080/"
    },
    "executionInfo": {
     "elapsed": 1263091,
     "status": "ok",
     "timestamp": 1678248510613,
     "user": {
      "displayName": "sykk W",
      "userId": "02320879820340904308"
     },
     "user_tz": -480
    },
    "id": "Q8cJIOaFCs3y",
    "outputId": "15bd844f-c87f-4ae6-8f49-19224bd7d277"
   },
   "outputs": [
    {
     "name": "stdout",
     "output_type": "stream",
     "text": [
      "DEBUG:/content/drive/MyDrive/ori_PointNetLK-master/logf/test/over_9.log, 2023-03-08 03:47:31,369, Testing (PID=38854), Namespace(categoryfile='./sampledata/test.txt', crop=0.9, dataset_path='/content/drive/MyDrive/model40', dataset_type='modelnet', delta=0.01, device='cpu', dim_k=1024, format='wv', logfile='/content/drive/MyDrive/ori_PointNetLK-master/logf/test/over_9.log', max_iter=20, outfile='test_res.csv', perturbations='./perturbations.csv', pretrained='./r_g9_model_best.pth', symfn='max', transfer_from='', workers=4)\n",
      "/usr/local/lib/python3.8/dist-packages/torch/utils/data/dataloader.py:554: UserWarning: This DataLoader will create 4 worker processes in total. Our suggested max number of worker in current system is 2, which is smaller than what this DataLoader is going to create. Please be aware that excessive worker creation might get DataLoader running slow or even freeze, lower the worker number to avoid potential slowness/freeze if necessary.\n",
      "  warnings.warn(_create_warning_msg(\n",
      "DEBUG:/content/drive/MyDrive/ori_PointNetLK-master/logf/test/over_9.log, 2023-03-08 03:47:31,429, tests, begin\n",
      "INFO:/content/drive/MyDrive/ori_PointNetLK-master/logf/test/over_9.log, 2023-03-08 03:47:36,955, test, 0/340, 0.126952\n",
      "INFO:/content/drive/MyDrive/ori_PointNetLK-master/logf/test/over_9.log, 2023-03-08 03:47:38,065, test, 1/340, 0.074554\n",
      "INFO:/content/drive/MyDrive/ori_PointNetLK-master/logf/test/over_9.log, 2023-03-08 03:47:39,694, test, 2/340, 0.116667\n",
      "INFO:/content/drive/MyDrive/ori_PointNetLK-master/logf/test/over_9.log, 2023-03-08 03:47:40,127, test, 3/340, 0.116398\n",
      "INFO:/content/drive/MyDrive/ori_PointNetLK-master/logf/test/over_9.log, 2023-03-08 03:47:42,523, test, 4/340, 0.348836\n",
      "INFO:/content/drive/MyDrive/ori_PointNetLK-master/logf/test/over_9.log, 2023-03-08 03:47:47,803, test, 5/340, 0.060055\n",
      "INFO:/content/drive/MyDrive/ori_PointNetLK-master/logf/test/over_9.log, 2023-03-08 03:47:51,023, test, 6/340, 0.057695\n",
      "INFO:/content/drive/MyDrive/ori_PointNetLK-master/logf/test/over_9.log, 2023-03-08 03:47:54,045, test, 7/340, 0.128049\n",
      "INFO:/content/drive/MyDrive/ori_PointNetLK-master/logf/test/over_9.log, 2023-03-08 03:47:54,234, test, 8/340, 0.224130\n",
      "INFO:/content/drive/MyDrive/ori_PointNetLK-master/logf/test/over_9.log, 2023-03-08 03:47:54,507, test, 9/340, 0.091065\n",
      "INFO:/content/drive/MyDrive/ori_PointNetLK-master/logf/test/over_9.log, 2023-03-08 03:48:00,079, test, 10/340, 0.112049\n",
      "INFO:/content/drive/MyDrive/ori_PointNetLK-master/logf/test/over_9.log, 2023-03-08 03:48:02,281, test, 11/340, 0.066662\n",
      "INFO:/content/drive/MyDrive/ori_PointNetLK-master/logf/test/over_9.log, 2023-03-08 03:48:05,507, test, 12/340, 0.118234\n",
      "INFO:/content/drive/MyDrive/ori_PointNetLK-master/logf/test/over_9.log, 2023-03-08 03:48:06,833, test, 13/340, 0.145882\n",
      "INFO:/content/drive/MyDrive/ori_PointNetLK-master/logf/test/over_9.log, 2023-03-08 03:48:10,506, test, 14/340, 0.408776\n",
      "INFO:/content/drive/MyDrive/ori_PointNetLK-master/logf/test/over_9.log, 2023-03-08 03:48:13,017, test, 15/340, 0.336739\n",
      "INFO:/content/drive/MyDrive/ori_PointNetLK-master/logf/test/over_9.log, 2023-03-08 03:48:16,159, test, 16/340, 0.027476\n",
      "INFO:/content/drive/MyDrive/ori_PointNetLK-master/logf/test/over_9.log, 2023-03-08 03:48:17,090, test, 17/340, 0.024136\n",
      "INFO:/content/drive/MyDrive/ori_PointNetLK-master/logf/test/over_9.log, 2023-03-08 03:48:17,586, test, 18/340, 0.155719\n",
      "INFO:/content/drive/MyDrive/ori_PointNetLK-master/logf/test/over_9.log, 2023-03-08 03:48:21,177, test, 19/340, 0.410141\n",
      "INFO:/content/drive/MyDrive/ori_PointNetLK-master/logf/test/over_9.log, 2023-03-08 03:48:24,546, test, 20/340, 0.445320\n",
      "INFO:/content/drive/MyDrive/ori_PointNetLK-master/logf/test/over_9.log, 2023-03-08 03:48:34,063, test, 21/340, 0.029684\n",
      "INFO:/content/drive/MyDrive/ori_PointNetLK-master/logf/test/over_9.log, 2023-03-08 03:48:44,188, test, 22/340, 0.076228\n",
      "INFO:/content/drive/MyDrive/ori_PointNetLK-master/logf/test/over_9.log, 2023-03-08 03:48:54,001, test, 23/340, 0.136601\n",
      "INFO:/content/drive/MyDrive/ori_PointNetLK-master/logf/test/over_9.log, 2023-03-08 03:49:04,002, test, 24/340, 0.085224\n",
      "INFO:/content/drive/MyDrive/ori_PointNetLK-master/logf/test/over_9.log, 2023-03-08 03:49:14,874, test, 25/340, 0.061320\n",
      "INFO:/content/drive/MyDrive/ori_PointNetLK-master/logf/test/over_9.log, 2023-03-08 03:49:15,837, test, 26/340, 0.267155\n",
      "INFO:/content/drive/MyDrive/ori_PointNetLK-master/logf/test/over_9.log, 2023-03-08 03:49:18,234, test, 27/340, 0.045450\n",
      "INFO:/content/drive/MyDrive/ori_PointNetLK-master/logf/test/over_9.log, 2023-03-08 03:49:24,078, test, 28/340, 0.385368\n",
      "INFO:/content/drive/MyDrive/ori_PointNetLK-master/logf/test/over_9.log, 2023-03-08 03:49:25,974, test, 29/340, 0.078322\n",
      "INFO:/content/drive/MyDrive/ori_PointNetLK-master/logf/test/over_9.log, 2023-03-08 03:49:29,088, test, 30/340, 0.087239\n",
      "INFO:/content/drive/MyDrive/ori_PointNetLK-master/logf/test/over_9.log, 2023-03-08 03:49:42,914, test, 31/340, 0.156280\n",
      "INFO:/content/drive/MyDrive/ori_PointNetLK-master/logf/test/over_9.log, 2023-03-08 03:49:52,388, test, 32/340, 0.043709\n",
      "INFO:/content/drive/MyDrive/ori_PointNetLK-master/logf/test/over_9.log, 2023-03-08 03:50:01,824, test, 33/340, 0.043058\n",
      "INFO:/content/drive/MyDrive/ori_PointNetLK-master/logf/test/over_9.log, 2023-03-08 03:50:04,815, test, 34/340, 0.434002\n",
      "INFO:/content/drive/MyDrive/ori_PointNetLK-master/logf/test/over_9.log, 2023-03-08 03:50:05,669, test, 35/340, 0.828945\n",
      "INFO:/content/drive/MyDrive/ori_PointNetLK-master/logf/test/over_9.log, 2023-03-08 03:50:09,921, test, 36/340, 0.336046\n",
      "INFO:/content/drive/MyDrive/ori_PointNetLK-master/logf/test/over_9.log, 2023-03-08 03:50:13,604, test, 37/340, 0.166590\n",
      "INFO:/content/drive/MyDrive/ori_PointNetLK-master/logf/test/over_9.log, 2023-03-08 03:50:14,395, test, 38/340, 0.027554\n",
      "INFO:/content/drive/MyDrive/ori_PointNetLK-master/logf/test/over_9.log, 2023-03-08 03:50:18,823, test, 39/340, 0.058331\n",
      "INFO:/content/drive/MyDrive/ori_PointNetLK-master/logf/test/over_9.log, 2023-03-08 03:50:30,024, test, 40/340, 0.104400\n",
      "INFO:/content/drive/MyDrive/ori_PointNetLK-master/logf/test/over_9.log, 2023-03-08 03:50:41,750, test, 41/340, 0.064929\n",
      "INFO:/content/drive/MyDrive/ori_PointNetLK-master/logf/test/over_9.log, 2023-03-08 03:50:44,579, test, 42/340, 0.092665\n",
      "INFO:/content/drive/MyDrive/ori_PointNetLK-master/logf/test/over_9.log, 2023-03-08 03:50:51,325, test, 43/340, 0.036802\n",
      "INFO:/content/drive/MyDrive/ori_PointNetLK-master/logf/test/over_9.log, 2023-03-08 03:50:56,293, test, 44/340, 1.910287\n",
      "INFO:/content/drive/MyDrive/ori_PointNetLK-master/logf/test/over_9.log, 2023-03-08 03:50:56,964, test, 45/340, 0.180354\n",
      "INFO:/content/drive/MyDrive/ori_PointNetLK-master/logf/test/over_9.log, 2023-03-08 03:50:59,193, test, 46/340, 0.093101\n",
      "INFO:/content/drive/MyDrive/ori_PointNetLK-master/logf/test/over_9.log, 2023-03-08 03:51:05,789, test, 47/340, 0.108898\n",
      "INFO:/content/drive/MyDrive/ori_PointNetLK-master/logf/test/over_9.log, 2023-03-08 03:51:06,240, test, 48/340, 1.011015\n",
      "INFO:/content/drive/MyDrive/ori_PointNetLK-master/logf/test/over_9.log, 2023-03-08 03:51:09,463, test, 49/340, 0.057744\n",
      "INFO:/content/drive/MyDrive/ori_PointNetLK-master/logf/test/over_9.log, 2023-03-08 03:51:10,971, test, 50/340, 0.155501\n",
      "INFO:/content/drive/MyDrive/ori_PointNetLK-master/logf/test/over_9.log, 2023-03-08 03:51:21,057, test, 51/340, 0.052524\n",
      "INFO:/content/drive/MyDrive/ori_PointNetLK-master/logf/test/over_9.log, 2023-03-08 03:51:25,893, test, 52/340, 0.127250\n",
      "INFO:/content/drive/MyDrive/ori_PointNetLK-master/logf/test/over_9.log, 2023-03-08 03:51:34,807, test, 53/340, 0.017671\n",
      "INFO:/content/drive/MyDrive/ori_PointNetLK-master/logf/test/over_9.log, 2023-03-08 03:51:35,687, test, 54/340, 0.053186\n",
      "INFO:/content/drive/MyDrive/ori_PointNetLK-master/logf/test/over_9.log, 2023-03-08 03:51:48,830, test, 55/340, 0.050234\n",
      "INFO:/content/drive/MyDrive/ori_PointNetLK-master/logf/test/over_9.log, 2023-03-08 03:52:57,979, test, 56/340, 0.378392\n",
      "INFO:/content/drive/MyDrive/ori_PointNetLK-master/logf/test/over_9.log, 2023-03-08 03:52:58,548, test, 57/340, 0.119377\n",
      "INFO:/content/drive/MyDrive/ori_PointNetLK-master/logf/test/over_9.log, 2023-03-08 03:52:59,190, test, 58/340, 0.058629\n",
      "INFO:/content/drive/MyDrive/ori_PointNetLK-master/logf/test/over_9.log, 2023-03-08 03:53:15,461, test, 59/340, 0.145138\n",
      "INFO:/content/drive/MyDrive/ori_PointNetLK-master/logf/test/over_9.log, 2023-03-08 03:53:18,582, test, 60/340, 0.086887\n",
      "INFO:/content/drive/MyDrive/ori_PointNetLK-master/logf/test/over_9.log, 2023-03-08 03:53:28,604, test, 61/340, 0.075969\n",
      "INFO:/content/drive/MyDrive/ori_PointNetLK-master/logf/test/over_9.log, 2023-03-08 03:53:31,021, test, 62/340, 0.074479\n",
      "INFO:/content/drive/MyDrive/ori_PointNetLK-master/logf/test/over_9.log, 2023-03-08 03:53:32,039, test, 63/340, 0.189143\n",
      "INFO:/content/drive/MyDrive/ori_PointNetLK-master/logf/test/over_9.log, 2023-03-08 03:53:42,573, test, 64/340, 0.050941\n",
      "INFO:/content/drive/MyDrive/ori_PointNetLK-master/logf/test/over_9.log, 2023-03-08 03:53:43,432, test, 65/340, 0.327754\n",
      "INFO:/content/drive/MyDrive/ori_PointNetLK-master/logf/test/over_9.log, 2023-03-08 03:53:45,800, test, 66/340, 0.137221\n",
      "INFO:/content/drive/MyDrive/ori_PointNetLK-master/logf/test/over_9.log, 2023-03-08 03:53:48,629, test, 67/340, 0.134689\n",
      "INFO:/content/drive/MyDrive/ori_PointNetLK-master/logf/test/over_9.log, 2023-03-08 03:54:00,466, test, 68/340, 0.099760\n",
      "INFO:/content/drive/MyDrive/ori_PointNetLK-master/logf/test/over_9.log, 2023-03-08 03:54:12,801, test, 69/340, 0.110970\n",
      "INFO:/content/drive/MyDrive/ori_PointNetLK-master/logf/test/over_9.log, 2023-03-08 03:54:16,098, test, 70/340, 0.076354\n",
      "INFO:/content/drive/MyDrive/ori_PointNetLK-master/logf/test/over_9.log, 2023-03-08 03:54:27,923, test, 71/340, 0.057002\n",
      "INFO:/content/drive/MyDrive/ori_PointNetLK-master/logf/test/over_9.log, 2023-03-08 03:54:28,414, test, 72/340, 0.095074\n",
      "INFO:/content/drive/MyDrive/ori_PointNetLK-master/logf/test/over_9.log, 2023-03-08 03:54:32,276, test, 73/340, 0.348107\n",
      "INFO:/content/drive/MyDrive/ori_PointNetLK-master/logf/test/over_9.log, 2023-03-08 03:54:40,817, test, 74/340, 0.085187\n",
      "INFO:/content/drive/MyDrive/ori_PointNetLK-master/logf/test/over_9.log, 2023-03-08 03:54:44,060, test, 75/340, 0.059068\n",
      "INFO:/content/drive/MyDrive/ori_PointNetLK-master/logf/test/over_9.log, 2023-03-08 03:54:51,280, test, 76/340, 0.069879\n",
      "INFO:/content/drive/MyDrive/ori_PointNetLK-master/logf/test/over_9.log, 2023-03-08 03:55:02,192, test, 77/340, 0.004318\n",
      "INFO:/content/drive/MyDrive/ori_PointNetLK-master/logf/test/over_9.log, 2023-03-08 03:55:03,877, test, 78/340, 0.130386\n",
      "INFO:/content/drive/MyDrive/ori_PointNetLK-master/logf/test/over_9.log, 2023-03-08 03:55:05,319, test, 79/340, 0.046652\n",
      "INFO:/content/drive/MyDrive/ori_PointNetLK-master/logf/test/over_9.log, 2023-03-08 03:55:08,357, test, 80/340, 0.297423\n",
      "INFO:/content/drive/MyDrive/ori_PointNetLK-master/logf/test/over_9.log, 2023-03-08 03:55:18,964, test, 81/340, 0.097645\n",
      "INFO:/content/drive/MyDrive/ori_PointNetLK-master/logf/test/over_9.log, 2023-03-08 03:55:27,233, test, 82/340, 0.102307\n",
      "INFO:/content/drive/MyDrive/ori_PointNetLK-master/logf/test/over_9.log, 2023-03-08 03:55:38,902, test, 83/340, 0.124439\n",
      "INFO:/content/drive/MyDrive/ori_PointNetLK-master/logf/test/over_9.log, 2023-03-08 03:55:49,909, test, 84/340, 0.091635\n",
      "INFO:/content/drive/MyDrive/ori_PointNetLK-master/logf/test/over_9.log, 2023-03-08 03:55:50,298, test, 85/340, 0.048476\n",
      "INFO:/content/drive/MyDrive/ori_PointNetLK-master/logf/test/over_9.log, 2023-03-08 03:55:53,462, test, 86/340, 0.100108\n",
      "INFO:/content/drive/MyDrive/ori_PointNetLK-master/logf/test/over_9.log, 2023-03-08 03:55:55,509, test, 87/340, 0.224559\n",
      "INFO:/content/drive/MyDrive/ori_PointNetLK-master/logf/test/over_9.log, 2023-03-08 03:56:02,931, test, 88/340, 0.104045\n",
      "INFO:/content/drive/MyDrive/ori_PointNetLK-master/logf/test/over_9.log, 2023-03-08 03:56:03,469, test, 89/340, 0.267042\n",
      "INFO:/content/drive/MyDrive/ori_PointNetLK-master/logf/test/over_9.log, 2023-03-08 03:56:05,289, test, 90/340, 0.170862\n",
      "INFO:/content/drive/MyDrive/ori_PointNetLK-master/logf/test/over_9.log, 2023-03-08 03:56:17,469, test, 91/340, 0.112972\n",
      "INFO:/content/drive/MyDrive/ori_PointNetLK-master/logf/test/over_9.log, 2023-03-08 03:56:17,790, test, 92/340, 0.226121\n",
      "INFO:/content/drive/MyDrive/ori_PointNetLK-master/logf/test/over_9.log, 2023-03-08 03:56:18,625, test, 93/340, 0.067605\n",
      "INFO:/content/drive/MyDrive/ori_PointNetLK-master/logf/test/over_9.log, 2023-03-08 03:56:25,535, test, 94/340, 0.107490\n",
      "INFO:/content/drive/MyDrive/ori_PointNetLK-master/logf/test/over_9.log, 2023-03-08 03:56:35,932, test, 95/340, 0.012393\n",
      "INFO:/content/drive/MyDrive/ori_PointNetLK-master/logf/test/over_9.log, 2023-03-08 03:56:46,373, test, 96/340, 0.057788\n",
      "INFO:/content/drive/MyDrive/ori_PointNetLK-master/logf/test/over_9.log, 2023-03-08 03:56:56,199, test, 97/340, 0.064057\n",
      "INFO:/content/drive/MyDrive/ori_PointNetLK-master/logf/test/over_9.log, 2023-03-08 03:57:06,339, test, 98/340, 0.104197\n",
      "INFO:/content/drive/MyDrive/ori_PointNetLK-master/logf/test/over_9.log, 2023-03-08 03:57:17,079, test, 99/340, 0.030487\n",
      "INFO:/content/drive/MyDrive/ori_PointNetLK-master/logf/test/over_9.log, 2023-03-08 03:57:19,444, test, 100/340, 0.032300\n",
      "INFO:/content/drive/MyDrive/ori_PointNetLK-master/logf/test/over_9.log, 2023-03-08 03:57:31,240, test, 101/340, 0.632466\n",
      "INFO:/content/drive/MyDrive/ori_PointNetLK-master/logf/test/over_9.log, 2023-03-08 03:57:31,387, test, 102/340, 0.182189\n",
      "INFO:/content/drive/MyDrive/ori_PointNetLK-master/logf/test/over_9.log, 2023-03-08 03:57:32,426, test, 103/340, 1.038093\n",
      "INFO:/content/drive/MyDrive/ori_PointNetLK-master/logf/test/over_9.log, 2023-03-08 03:57:32,748, test, 104/340, 0.032414\n",
      "INFO:/content/drive/MyDrive/ori_PointNetLK-master/logf/test/over_9.log, 2023-03-08 03:57:36,572, test, 105/340, 0.225346\n",
      "INFO:/content/drive/MyDrive/ori_PointNetLK-master/logf/test/over_9.log, 2023-03-08 03:57:42,349, test, 106/340, 0.062220\n",
      "INFO:/content/drive/MyDrive/ori_PointNetLK-master/logf/test/over_9.log, 2023-03-08 03:58:11,940, test, 107/340, 0.111980\n",
      "INFO:/content/drive/MyDrive/ori_PointNetLK-master/logf/test/over_9.log, 2023-03-08 03:58:14,350, test, 108/340, 0.103330\n",
      "INFO:/content/drive/MyDrive/ori_PointNetLK-master/logf/test/over_9.log, 2023-03-08 03:58:15,348, test, 109/340, 0.050395\n",
      "INFO:/content/drive/MyDrive/ori_PointNetLK-master/logf/test/over_9.log, 2023-03-08 03:58:15,458, test, 110/340, 0.359931\n",
      "INFO:/content/drive/MyDrive/ori_PointNetLK-master/logf/test/over_9.log, 2023-03-08 03:58:15,742, test, 111/340, 0.052649\n",
      "INFO:/content/drive/MyDrive/ori_PointNetLK-master/logf/test/over_9.log, 2023-03-08 03:58:17,084, test, 112/340, 0.118859\n",
      "INFO:/content/drive/MyDrive/ori_PointNetLK-master/logf/test/over_9.log, 2023-03-08 03:58:17,566, test, 113/340, 0.031090\n",
      "INFO:/content/drive/MyDrive/ori_PointNetLK-master/logf/test/over_9.log, 2023-03-08 03:58:17,670, test, 114/340, 0.077187\n",
      "INFO:/content/drive/MyDrive/ori_PointNetLK-master/logf/test/over_9.log, 2023-03-08 03:58:17,946, test, 115/340, 0.039922\n",
      "INFO:/content/drive/MyDrive/ori_PointNetLK-master/logf/test/over_9.log, 2023-03-08 03:58:18,223, test, 116/340, 0.113509\n",
      "INFO:/content/drive/MyDrive/ori_PointNetLK-master/logf/test/over_9.log, 2023-03-08 03:58:18,497, test, 117/340, 0.113062\n",
      "INFO:/content/drive/MyDrive/ori_PointNetLK-master/logf/test/over_9.log, 2023-03-08 03:58:18,681, test, 118/340, 0.118829\n",
      "INFO:/content/drive/MyDrive/ori_PointNetLK-master/logf/test/over_9.log, 2023-03-08 03:58:18,950, test, 119/340, 0.036126\n",
      "INFO:/content/drive/MyDrive/ori_PointNetLK-master/logf/test/over_9.log, 2023-03-08 03:58:19,371, test, 120/340, 0.061957\n",
      "INFO:/content/drive/MyDrive/ori_PointNetLK-master/logf/test/over_9.log, 2023-03-08 03:58:19,555, test, 121/340, 0.029043\n",
      "INFO:/content/drive/MyDrive/ori_PointNetLK-master/logf/test/over_9.log, 2023-03-08 03:58:19,979, test, 122/340, 1.198376\n",
      "INFO:/content/drive/MyDrive/ori_PointNetLK-master/logf/test/over_9.log, 2023-03-08 03:58:21,490, test, 123/340, 0.132795\n",
      "INFO:/content/drive/MyDrive/ori_PointNetLK-master/logf/test/over_9.log, 2023-03-08 03:58:21,860, test, 124/340, 0.267083\n",
      "INFO:/content/drive/MyDrive/ori_PointNetLK-master/logf/test/over_9.log, 2023-03-08 03:58:22,093, test, 125/340, 0.009711\n",
      "INFO:/content/drive/MyDrive/ori_PointNetLK-master/logf/test/over_9.log, 2023-03-08 03:58:22,628, test, 126/340, 0.105182\n",
      "INFO:/content/drive/MyDrive/ori_PointNetLK-master/logf/test/over_9.log, 2023-03-08 03:58:25,702, test, 127/340, 0.105018\n",
      "INFO:/content/drive/MyDrive/ori_PointNetLK-master/logf/test/over_9.log, 2023-03-08 03:58:25,947, test, 128/340, 0.110015\n",
      "INFO:/content/drive/MyDrive/ori_PointNetLK-master/logf/test/over_9.log, 2023-03-08 03:58:36,682, test, 129/340, 0.096550\n",
      "INFO:/content/drive/MyDrive/ori_PointNetLK-master/logf/test/over_9.log, 2023-03-08 03:58:37,357, test, 130/340, 0.254927\n",
      "INFO:/content/drive/MyDrive/ori_PointNetLK-master/logf/test/over_9.log, 2023-03-08 03:58:37,484, test, 131/340, 0.136447\n",
      "INFO:/content/drive/MyDrive/ori_PointNetLK-master/logf/test/over_9.log, 2023-03-08 03:58:37,758, test, 132/340, 0.290449\n",
      "INFO:/content/drive/MyDrive/ori_PointNetLK-master/logf/test/over_9.log, 2023-03-08 03:58:38,216, test, 133/340, 0.037017\n",
      "INFO:/content/drive/MyDrive/ori_PointNetLK-master/logf/test/over_9.log, 2023-03-08 03:58:38,703, test, 134/340, 0.036545\n",
      "INFO:/content/drive/MyDrive/ori_PointNetLK-master/logf/test/over_9.log, 2023-03-08 03:58:40,860, test, 135/340, 0.333865\n",
      "INFO:/content/drive/MyDrive/ori_PointNetLK-master/logf/test/over_9.log, 2023-03-08 03:58:41,132, test, 136/340, 0.056055\n",
      "INFO:/content/drive/MyDrive/ori_PointNetLK-master/logf/test/over_9.log, 2023-03-08 03:58:42,535, test, 137/340, 0.106133\n",
      "INFO:/content/drive/MyDrive/ori_PointNetLK-master/logf/test/over_9.log, 2023-03-08 03:58:42,764, test, 138/340, 0.017182\n",
      "INFO:/content/drive/MyDrive/ori_PointNetLK-master/logf/test/over_9.log, 2023-03-08 03:58:43,258, test, 139/340, 0.069541\n",
      "INFO:/content/drive/MyDrive/ori_PointNetLK-master/logf/test/over_9.log, 2023-03-08 03:58:43,829, test, 140/340, 0.111327\n",
      "INFO:/content/drive/MyDrive/ori_PointNetLK-master/logf/test/over_9.log, 2023-03-08 03:58:44,247, test, 141/340, 0.126638\n",
      "INFO:/content/drive/MyDrive/ori_PointNetLK-master/logf/test/over_9.log, 2023-03-08 03:58:44,594, test, 142/340, 0.004317\n",
      "INFO:/content/drive/MyDrive/ori_PointNetLK-master/logf/test/over_9.log, 2023-03-08 03:58:52,333, test, 143/340, 0.102602\n",
      "INFO:/content/drive/MyDrive/ori_PointNetLK-master/logf/test/over_9.log, 2023-03-08 03:58:52,699, test, 144/340, 0.113719\n",
      "INFO:/content/drive/MyDrive/ori_PointNetLK-master/logf/test/over_9.log, 2023-03-08 03:58:52,865, test, 145/340, 0.022132\n",
      "INFO:/content/drive/MyDrive/ori_PointNetLK-master/logf/test/over_9.log, 2023-03-08 03:58:53,227, test, 146/340, 0.069074\n",
      "INFO:/content/drive/MyDrive/ori_PointNetLK-master/logf/test/over_9.log, 2023-03-08 03:58:53,408, test, 147/340, 0.036525\n",
      "INFO:/content/drive/MyDrive/ori_PointNetLK-master/logf/test/over_9.log, 2023-03-08 03:58:58,228, test, 148/340, 0.073804\n",
      "INFO:/content/drive/MyDrive/ori_PointNetLK-master/logf/test/over_9.log, 2023-03-08 03:59:01,336, test, 149/340, 0.055411\n",
      "INFO:/content/drive/MyDrive/ori_PointNetLK-master/logf/test/over_9.log, 2023-03-08 03:59:01,644, test, 150/340, 0.042883\n",
      "INFO:/content/drive/MyDrive/ori_PointNetLK-master/logf/test/over_9.log, 2023-03-08 03:59:01,852, test, 151/340, 0.033228\n",
      "INFO:/content/drive/MyDrive/ori_PointNetLK-master/logf/test/over_9.log, 2023-03-08 03:59:02,331, test, 152/340, 0.057066\n",
      "INFO:/content/drive/MyDrive/ori_PointNetLK-master/logf/test/over_9.log, 2023-03-08 03:59:02,487, test, 153/340, 0.045061\n",
      "INFO:/content/drive/MyDrive/ori_PointNetLK-master/logf/test/over_9.log, 2023-03-08 03:59:02,690, test, 154/340, 0.060044\n",
      "INFO:/content/drive/MyDrive/ori_PointNetLK-master/logf/test/over_9.log, 2023-03-08 03:59:05,429, test, 155/340, 1.034718\n",
      "INFO:/content/drive/MyDrive/ori_PointNetLK-master/logf/test/over_9.log, 2023-03-08 03:59:09,385, test, 156/340, 0.001553\n",
      "INFO:/content/drive/MyDrive/ori_PointNetLK-master/logf/test/over_9.log, 2023-03-08 03:59:33,312, test, 157/340, 0.169884\n",
      "INFO:/content/drive/MyDrive/ori_PointNetLK-master/logf/test/over_9.log, 2023-03-08 03:59:33,713, test, 158/340, 0.020513\n",
      "INFO:/content/drive/MyDrive/ori_PointNetLK-master/logf/test/over_9.log, 2023-03-08 03:59:33,977, test, 159/340, 0.035317\n",
      "INFO:/content/drive/MyDrive/ori_PointNetLK-master/logf/test/over_9.log, 2023-03-08 03:59:34,151, test, 160/340, 0.149767\n",
      "INFO:/content/drive/MyDrive/ori_PointNetLK-master/logf/test/over_9.log, 2023-03-08 03:59:34,381, test, 161/340, 0.743603\n",
      "INFO:/content/drive/MyDrive/ori_PointNetLK-master/logf/test/over_9.log, 2023-03-08 03:59:34,510, test, 162/340, 0.984190\n",
      "INFO:/content/drive/MyDrive/ori_PointNetLK-master/logf/test/over_9.log, 2023-03-08 03:59:34,841, test, 163/340, 0.130947\n",
      "INFO:/content/drive/MyDrive/ori_PointNetLK-master/logf/test/over_9.log, 2023-03-08 03:59:35,369, test, 164/340, 0.121233\n",
      "INFO:/content/drive/MyDrive/ori_PointNetLK-master/logf/test/over_9.log, 2023-03-08 03:59:36,255, test, 165/340, 0.062963\n",
      "INFO:/content/drive/MyDrive/ori_PointNetLK-master/logf/test/over_9.log, 2023-03-08 03:59:36,378, test, 166/340, 0.000000\n",
      "INFO:/content/drive/MyDrive/ori_PointNetLK-master/logf/test/over_9.log, 2023-03-08 03:59:36,599, test, 167/340, 0.031515\n",
      "INFO:/content/drive/MyDrive/ori_PointNetLK-master/logf/test/over_9.log, 2023-03-08 03:59:36,916, test, 168/340, 0.097334\n",
      "INFO:/content/drive/MyDrive/ori_PointNetLK-master/logf/test/over_9.log, 2023-03-08 03:59:37,075, test, 169/340, 0.257958\n",
      "INFO:/content/drive/MyDrive/ori_PointNetLK-master/logf/test/over_9.log, 2023-03-08 03:59:37,214, test, 170/340, 0.311356\n",
      "INFO:/content/drive/MyDrive/ori_PointNetLK-master/logf/test/over_9.log, 2023-03-08 03:59:40,381, test, 171/340, 0.097877\n",
      "INFO:/content/drive/MyDrive/ori_PointNetLK-master/logf/test/over_9.log, 2023-03-08 03:59:40,720, test, 172/340, 0.108331\n",
      "INFO:/content/drive/MyDrive/ori_PointNetLK-master/logf/test/over_9.log, 2023-03-08 03:59:45,417, test, 173/340, 0.106284\n",
      "INFO:/content/drive/MyDrive/ori_PointNetLK-master/logf/test/over_9.log, 2023-03-08 03:59:46,803, test, 174/340, 0.362659\n",
      "INFO:/content/drive/MyDrive/ori_PointNetLK-master/logf/test/over_9.log, 2023-03-08 03:59:47,187, test, 175/340, 0.133493\n",
      "INFO:/content/drive/MyDrive/ori_PointNetLK-master/logf/test/over_9.log, 2023-03-08 03:59:47,760, test, 176/340, 0.109986\n",
      "INFO:/content/drive/MyDrive/ori_PointNetLK-master/logf/test/over_9.log, 2023-03-08 03:59:48,899, test, 177/340, 0.045282\n",
      "INFO:/content/drive/MyDrive/ori_PointNetLK-master/logf/test/over_9.log, 2023-03-08 03:59:49,150, test, 178/340, 0.442088\n",
      "INFO:/content/drive/MyDrive/ori_PointNetLK-master/logf/test/over_9.log, 2023-03-08 03:59:49,479, test, 179/340, 0.136860\n",
      "INFO:/content/drive/MyDrive/ori_PointNetLK-master/logf/test/over_9.log, 2023-03-08 03:59:50,351, test, 180/340, 0.122943\n",
      "INFO:/content/drive/MyDrive/ori_PointNetLK-master/logf/test/over_9.log, 2023-03-08 04:00:01,190, test, 181/340, 0.112427\n",
      "INFO:/content/drive/MyDrive/ori_PointNetLK-master/logf/test/over_9.log, 2023-03-08 04:00:02,357, test, 182/340, 0.068061\n",
      "INFO:/content/drive/MyDrive/ori_PointNetLK-master/logf/test/over_9.log, 2023-03-08 04:00:11,940, test, 183/340, 0.002472\n",
      "INFO:/content/drive/MyDrive/ori_PointNetLK-master/logf/test/over_9.log, 2023-03-08 04:00:12,280, test, 184/340, 0.111066\n",
      "INFO:/content/drive/MyDrive/ori_PointNetLK-master/logf/test/over_9.log, 2023-03-08 04:00:12,516, test, 185/340, 0.044103\n",
      "INFO:/content/drive/MyDrive/ori_PointNetLK-master/logf/test/over_9.log, 2023-03-08 04:00:13,113, test, 186/340, 0.525778\n",
      "INFO:/content/drive/MyDrive/ori_PointNetLK-master/logf/test/over_9.log, 2023-03-08 04:00:13,442, test, 187/340, 0.142413\n",
      "INFO:/content/drive/MyDrive/ori_PointNetLK-master/logf/test/over_9.log, 2023-03-08 04:00:16,458, test, 188/340, 0.108631\n",
      "INFO:/content/drive/MyDrive/ori_PointNetLK-master/logf/test/over_9.log, 2023-03-08 04:00:19,931, test, 189/340, 0.092808\n",
      "INFO:/content/drive/MyDrive/ori_PointNetLK-master/logf/test/over_9.log, 2023-03-08 04:00:20,174, test, 190/340, 0.109401\n",
      "INFO:/content/drive/MyDrive/ori_PointNetLK-master/logf/test/over_9.log, 2023-03-08 04:00:23,190, test, 191/340, 0.024511\n",
      "INFO:/content/drive/MyDrive/ori_PointNetLK-master/logf/test/over_9.log, 2023-03-08 04:00:24,005, test, 192/340, 0.063225\n",
      "INFO:/content/drive/MyDrive/ori_PointNetLK-master/logf/test/over_9.log, 2023-03-08 04:00:24,354, test, 193/340, 0.145822\n",
      "INFO:/content/drive/MyDrive/ori_PointNetLK-master/logf/test/over_9.log, 2023-03-08 04:00:25,493, test, 194/340, 0.061365\n",
      "INFO:/content/drive/MyDrive/ori_PointNetLK-master/logf/test/over_9.log, 2023-03-08 04:00:27,745, test, 195/340, 0.177608\n",
      "INFO:/content/drive/MyDrive/ori_PointNetLK-master/logf/test/over_9.log, 2023-03-08 04:00:28,152, test, 196/340, 0.083916\n",
      "INFO:/content/drive/MyDrive/ori_PointNetLK-master/logf/test/over_9.log, 2023-03-08 04:00:34,617, test, 197/340, 0.085083\n",
      "INFO:/content/drive/MyDrive/ori_PointNetLK-master/logf/test/over_9.log, 2023-03-08 04:00:35,165, test, 198/340, 0.492248\n",
      "INFO:/content/drive/MyDrive/ori_PointNetLK-master/logf/test/over_9.log, 2023-03-08 04:00:35,594, test, 199/340, 0.099323\n",
      "INFO:/content/drive/MyDrive/ori_PointNetLK-master/logf/test/over_9.log, 2023-03-08 04:00:36,418, test, 200/340, 0.690588\n",
      "INFO:/content/drive/MyDrive/ori_PointNetLK-master/logf/test/over_9.log, 2023-03-08 04:00:37,871, test, 201/340, 0.277896\n",
      "INFO:/content/drive/MyDrive/ori_PointNetLK-master/logf/test/over_9.log, 2023-03-08 04:00:39,678, test, 202/340, 0.579885\n",
      "INFO:/content/drive/MyDrive/ori_PointNetLK-master/logf/test/over_9.log, 2023-03-08 04:00:41,140, test, 203/340, 0.268292\n",
      "INFO:/content/drive/MyDrive/ori_PointNetLK-master/logf/test/over_9.log, 2023-03-08 04:00:41,547, test, 204/340, 0.323489\n",
      "INFO:/content/drive/MyDrive/ori_PointNetLK-master/logf/test/over_9.log, 2023-03-08 04:00:41,808, test, 205/340, 0.039253\n",
      "INFO:/content/drive/MyDrive/ori_PointNetLK-master/logf/test/over_9.log, 2023-03-08 04:00:42,099, test, 206/340, 0.866726\n",
      "INFO:/content/drive/MyDrive/ori_PointNetLK-master/logf/test/over_9.log, 2023-03-08 04:00:42,716, test, 207/340, 0.016417\n",
      "INFO:/content/drive/MyDrive/ori_PointNetLK-master/logf/test/over_9.log, 2023-03-08 04:00:43,743, test, 208/340, 0.414158\n",
      "INFO:/content/drive/MyDrive/ori_PointNetLK-master/logf/test/over_9.log, 2023-03-08 04:01:21,733, test, 209/340, 0.159758\n",
      "INFO:/content/drive/MyDrive/ori_PointNetLK-master/logf/test/over_9.log, 2023-03-08 04:01:23,386, test, 210/340, 0.234671\n",
      "INFO:/content/drive/MyDrive/ori_PointNetLK-master/logf/test/over_9.log, 2023-03-08 04:01:25,163, test, 211/340, 0.543040\n",
      "INFO:/content/drive/MyDrive/ori_PointNetLK-master/logf/test/over_9.log, 2023-03-08 04:01:26,461, test, 212/340, 0.449178\n",
      "INFO:/content/drive/MyDrive/ori_PointNetLK-master/logf/test/over_9.log, 2023-03-08 04:01:27,237, test, 213/340, 0.286571\n",
      "INFO:/content/drive/MyDrive/ori_PointNetLK-master/logf/test/over_9.log, 2023-03-08 04:01:27,612, test, 214/340, 0.288050\n",
      "INFO:/content/drive/MyDrive/ori_PointNetLK-master/logf/test/over_9.log, 2023-03-08 04:01:33,105, test, 215/340, 0.839458\n",
      "INFO:/content/drive/MyDrive/ori_PointNetLK-master/logf/test/over_9.log, 2023-03-08 04:01:36,698, test, 216/340, 0.270769\n",
      "INFO:/content/drive/MyDrive/ori_PointNetLK-master/logf/test/over_9.log, 2023-03-08 04:01:36,980, test, 217/340, 0.269776\n",
      "INFO:/content/drive/MyDrive/ori_PointNetLK-master/logf/test/over_9.log, 2023-03-08 04:01:49,338, test, 218/340, 0.245915\n",
      "INFO:/content/drive/MyDrive/ori_PointNetLK-master/logf/test/over_9.log, 2023-03-08 04:01:53,411, test, 219/340, 0.030243\n",
      "INFO:/content/drive/MyDrive/ori_PointNetLK-master/logf/test/over_9.log, 2023-03-08 04:01:57,538, test, 220/340, 0.145195\n",
      "INFO:/content/drive/MyDrive/ori_PointNetLK-master/logf/test/over_9.log, 2023-03-08 04:01:58,120, test, 221/340, 0.533379\n",
      "INFO:/content/drive/MyDrive/ori_PointNetLK-master/logf/test/over_9.log, 2023-03-08 04:01:58,754, test, 222/340, 0.279885\n",
      "INFO:/content/drive/MyDrive/ori_PointNetLK-master/logf/test/over_9.log, 2023-03-08 04:01:58,890, test, 223/340, 0.017791\n",
      "INFO:/content/drive/MyDrive/ori_PointNetLK-master/logf/test/over_9.log, 2023-03-08 04:02:00,289, test, 224/340, 0.097562\n",
      "INFO:/content/drive/MyDrive/ori_PointNetLK-master/logf/test/over_9.log, 2023-03-08 04:02:00,895, test, 225/340, 0.524236\n",
      "INFO:/content/drive/MyDrive/ori_PointNetLK-master/logf/test/over_9.log, 2023-03-08 04:02:01,657, test, 226/340, 0.803762\n",
      "INFO:/content/drive/MyDrive/ori_PointNetLK-master/logf/test/over_9.log, 2023-03-08 04:02:03,874, test, 227/340, 0.552191\n",
      "INFO:/content/drive/MyDrive/ori_PointNetLK-master/logf/test/over_9.log, 2023-03-08 04:02:04,483, test, 228/340, 0.170836\n",
      "INFO:/content/drive/MyDrive/ori_PointNetLK-master/logf/test/over_9.log, 2023-03-08 04:02:04,910, test, 229/340, 0.525379\n",
      "INFO:/content/drive/MyDrive/ori_PointNetLK-master/logf/test/over_9.log, 2023-03-08 04:02:05,707, test, 230/340, 0.113169\n",
      "INFO:/content/drive/MyDrive/ori_PointNetLK-master/logf/test/over_9.log, 2023-03-08 04:02:06,614, test, 231/340, 0.134652\n",
      "INFO:/content/drive/MyDrive/ori_PointNetLK-master/logf/test/over_9.log, 2023-03-08 04:02:07,307, test, 232/340, 0.248547\n",
      "INFO:/content/drive/MyDrive/ori_PointNetLK-master/logf/test/over_9.log, 2023-03-08 04:02:10,954, test, 233/340, 0.544025\n",
      "INFO:/content/drive/MyDrive/ori_PointNetLK-master/logf/test/over_9.log, 2023-03-08 04:02:14,122, test, 234/340, 0.131574\n",
      "INFO:/content/drive/MyDrive/ori_PointNetLK-master/logf/test/over_9.log, 2023-03-08 04:02:16,719, test, 235/340, 0.115943\n",
      "INFO:/content/drive/MyDrive/ori_PointNetLK-master/logf/test/over_9.log, 2023-03-08 04:02:18,874, test, 236/340, 0.076598\n",
      "INFO:/content/drive/MyDrive/ori_PointNetLK-master/logf/test/over_9.log, 2023-03-08 04:02:34,148, test, 237/340, 0.265283\n",
      "INFO:/content/drive/MyDrive/ori_PointNetLK-master/logf/test/over_9.log, 2023-03-08 04:02:43,034, test, 238/340, 0.521800\n",
      "INFO:/content/drive/MyDrive/ori_PointNetLK-master/logf/test/over_9.log, 2023-03-08 04:02:43,700, test, 239/340, 0.075604\n",
      "INFO:/content/drive/MyDrive/ori_PointNetLK-master/logf/test/over_9.log, 2023-03-08 04:03:06,813, test, 240/340, 0.068183\n",
      "INFO:/content/drive/MyDrive/ori_PointNetLK-master/logf/test/over_9.log, 2023-03-08 04:03:07,642, test, 241/340, 0.279412\n",
      "INFO:/content/drive/MyDrive/ori_PointNetLK-master/logf/test/over_9.log, 2023-03-08 04:03:08,035, test, 242/340, 0.519937\n",
      "INFO:/content/drive/MyDrive/ori_PointNetLK-master/logf/test/over_9.log, 2023-03-08 04:03:08,924, test, 243/340, 0.066504\n",
      "INFO:/content/drive/MyDrive/ori_PointNetLK-master/logf/test/over_9.log, 2023-03-08 04:03:18,433, test, 244/340, 0.651482\n",
      "INFO:/content/drive/MyDrive/ori_PointNetLK-master/logf/test/over_9.log, 2023-03-08 04:03:19,182, test, 245/340, 0.581650\n",
      "INFO:/content/drive/MyDrive/ori_PointNetLK-master/logf/test/over_9.log, 2023-03-08 04:03:19,523, test, 246/340, 0.866069\n",
      "INFO:/content/drive/MyDrive/ori_PointNetLK-master/logf/test/over_9.log, 2023-03-08 04:03:22,258, test, 247/340, 0.619568\n",
      "INFO:/content/drive/MyDrive/ori_PointNetLK-master/logf/test/over_9.log, 2023-03-08 04:03:24,972, test, 248/340, 0.454386\n",
      "INFO:/content/drive/MyDrive/ori_PointNetLK-master/logf/test/over_9.log, 2023-03-08 04:03:30,250, test, 249/340, 0.636721\n",
      "INFO:/content/drive/MyDrive/ori_PointNetLK-master/logf/test/over_9.log, 2023-03-08 04:03:31,100, test, 250/340, 0.594205\n",
      "INFO:/content/drive/MyDrive/ori_PointNetLK-master/logf/test/over_9.log, 2023-03-08 04:03:31,462, test, 251/340, 0.101927\n",
      "INFO:/content/drive/MyDrive/ori_PointNetLK-master/logf/test/over_9.log, 2023-03-08 04:03:32,445, test, 252/340, 0.541998\n",
      "INFO:/content/drive/MyDrive/ori_PointNetLK-master/logf/test/over_9.log, 2023-03-08 04:03:33,264, test, 253/340, 0.470306\n",
      "INFO:/content/drive/MyDrive/ori_PointNetLK-master/logf/test/over_9.log, 2023-03-08 04:03:45,812, test, 254/340, 0.045771\n",
      "INFO:/content/drive/MyDrive/ori_PointNetLK-master/logf/test/over_9.log, 2023-03-08 04:03:46,103, test, 255/340, 0.336747\n",
      "INFO:/content/drive/MyDrive/ori_PointNetLK-master/logf/test/over_9.log, 2023-03-08 04:03:48,723, test, 256/340, 0.188554\n",
      "INFO:/content/drive/MyDrive/ori_PointNetLK-master/logf/test/over_9.log, 2023-03-08 04:03:50,342, test, 257/340, 0.253505\n",
      "INFO:/content/drive/MyDrive/ori_PointNetLK-master/logf/test/over_9.log, 2023-03-08 04:03:50,505, test, 258/340, 0.442173\n",
      "INFO:/content/drive/MyDrive/ori_PointNetLK-master/logf/test/over_9.log, 2023-03-08 04:03:51,139, test, 259/340, 0.310547\n",
      "INFO:/content/drive/MyDrive/ori_PointNetLK-master/logf/test/over_9.log, 2023-03-08 04:03:51,500, test, 260/340, 0.522987\n",
      "INFO:/content/drive/MyDrive/ori_PointNetLK-master/logf/test/over_9.log, 2023-03-08 04:03:52,630, test, 261/340, 0.376183\n",
      "INFO:/content/drive/MyDrive/ori_PointNetLK-master/logf/test/over_9.log, 2023-03-08 04:03:53,128, test, 262/340, 1.281866\n",
      "INFO:/content/drive/MyDrive/ori_PointNetLK-master/logf/test/over_9.log, 2023-03-08 04:03:53,405, test, 263/340, 0.826684\n",
      "INFO:/content/drive/MyDrive/ori_PointNetLK-master/logf/test/over_9.log, 2023-03-08 04:03:55,640, test, 264/340, 0.144931\n",
      "INFO:/content/drive/MyDrive/ori_PointNetLK-master/logf/test/over_9.log, 2023-03-08 04:03:57,037, test, 265/340, 0.191268\n",
      "INFO:/content/drive/MyDrive/ori_PointNetLK-master/logf/test/over_9.log, 2023-03-08 04:04:00,354, test, 266/340, 0.527205\n",
      "INFO:/content/drive/MyDrive/ori_PointNetLK-master/logf/test/over_9.log, 2023-03-08 04:04:01,715, test, 267/340, 0.113409\n",
      "INFO:/content/drive/MyDrive/ori_PointNetLK-master/logf/test/over_9.log, 2023-03-08 04:04:02,730, test, 268/340, 0.540222\n",
      "INFO:/content/drive/MyDrive/ori_PointNetLK-master/logf/test/over_9.log, 2023-03-08 04:04:18,402, test, 269/340, 0.107171\n",
      "INFO:/content/drive/MyDrive/ori_PointNetLK-master/logf/test/over_9.log, 2023-03-08 04:04:19,495, test, 270/340, 0.453697\n",
      "INFO:/content/drive/MyDrive/ori_PointNetLK-master/logf/test/over_9.log, 2023-03-08 04:04:22,444, test, 271/340, 0.650989\n",
      "INFO:/content/drive/MyDrive/ori_PointNetLK-master/logf/test/over_9.log, 2023-03-08 04:04:22,751, test, 272/340, 0.490919\n",
      "INFO:/content/drive/MyDrive/ori_PointNetLK-master/logf/test/over_9.log, 2023-03-08 04:04:23,668, test, 273/340, 0.110206\n",
      "INFO:/content/drive/MyDrive/ori_PointNetLK-master/logf/test/over_9.log, 2023-03-08 04:04:25,319, test, 274/340, 0.247073\n",
      "INFO:/content/drive/MyDrive/ori_PointNetLK-master/logf/test/over_9.log, 2023-03-08 04:04:25,688, test, 275/340, 0.068065\n",
      "INFO:/content/drive/MyDrive/ori_PointNetLK-master/logf/test/over_9.log, 2023-03-08 04:04:26,880, test, 276/340, 0.102035\n",
      "INFO:/content/drive/MyDrive/ori_PointNetLK-master/logf/test/over_9.log, 2023-03-08 04:04:27,979, test, 277/340, 0.529992\n",
      "INFO:/content/drive/MyDrive/ori_PointNetLK-master/logf/test/over_9.log, 2023-03-08 04:04:29,257, test, 278/340, 0.495973\n",
      "INFO:/content/drive/MyDrive/ori_PointNetLK-master/logf/test/over_9.log, 2023-03-08 04:04:29,734, test, 279/340, 0.303771\n",
      "INFO:/content/drive/MyDrive/ori_PointNetLK-master/logf/test/over_9.log, 2023-03-08 04:04:33,501, test, 280/340, 0.031748\n",
      "INFO:/content/drive/MyDrive/ori_PointNetLK-master/logf/test/over_9.log, 2023-03-08 04:04:33,800, test, 281/340, 0.050228\n",
      "INFO:/content/drive/MyDrive/ori_PointNetLK-master/logf/test/over_9.log, 2023-03-08 04:04:33,927, test, 282/340, 0.019849\n",
      "INFO:/content/drive/MyDrive/ori_PointNetLK-master/logf/test/over_9.log, 2023-03-08 04:04:39,381, test, 283/340, 0.040532\n",
      "INFO:/content/drive/MyDrive/ori_PointNetLK-master/logf/test/over_9.log, 2023-03-08 04:04:39,534, test, 284/340, 0.088126\n",
      "INFO:/content/drive/MyDrive/ori_PointNetLK-master/logf/test/over_9.log, 2023-03-08 04:04:40,364, test, 285/340, 0.414481\n",
      "INFO:/content/drive/MyDrive/ori_PointNetLK-master/logf/test/over_9.log, 2023-03-08 04:05:12,566, test, 286/340, 0.254212\n",
      "INFO:/content/drive/MyDrive/ori_PointNetLK-master/logf/test/over_9.log, 2023-03-08 04:05:14,735, test, 287/340, 0.098346\n",
      "INFO:/content/drive/MyDrive/ori_PointNetLK-master/logf/test/over_9.log, 2023-03-08 04:05:16,807, test, 288/340, 0.248104\n",
      "INFO:/content/drive/MyDrive/ori_PointNetLK-master/logf/test/over_9.log, 2023-03-08 04:05:17,356, test, 289/340, 0.527457\n",
      "INFO:/content/drive/MyDrive/ori_PointNetLK-master/logf/test/over_9.log, 2023-03-08 04:05:17,734, test, 290/340, 0.061386\n",
      "INFO:/content/drive/MyDrive/ori_PointNetLK-master/logf/test/over_9.log, 2023-03-08 04:05:30,243, test, 291/340, 0.151996\n",
      "INFO:/content/drive/MyDrive/ori_PointNetLK-master/logf/test/over_9.log, 2023-03-08 04:05:37,705, test, 292/340, 0.402749\n",
      "INFO:/content/drive/MyDrive/ori_PointNetLK-master/logf/test/over_9.log, 2023-03-08 04:05:37,878, test, 293/340, 0.040536\n",
      "INFO:/content/drive/MyDrive/ori_PointNetLK-master/logf/test/over_9.log, 2023-03-08 04:05:38,685, test, 294/340, 0.329312\n",
      "INFO:/content/drive/MyDrive/ori_PointNetLK-master/logf/test/over_9.log, 2023-03-08 04:05:39,677, test, 295/340, 0.179878\n",
      "INFO:/content/drive/MyDrive/ori_PointNetLK-master/logf/test/over_9.log, 2023-03-08 04:05:39,952, test, 296/340, 0.182544\n",
      "INFO:/content/drive/MyDrive/ori_PointNetLK-master/logf/test/over_9.log, 2023-03-08 04:05:40,890, test, 297/340, 0.628982\n",
      "INFO:/content/drive/MyDrive/ori_PointNetLK-master/logf/test/over_9.log, 2023-03-08 04:05:41,485, test, 298/340, 0.021598\n",
      "INFO:/content/drive/MyDrive/ori_PointNetLK-master/logf/test/over_9.log, 2023-03-08 04:05:41,992, test, 299/340, 0.790988\n",
      "INFO:/content/drive/MyDrive/ori_PointNetLK-master/logf/test/over_9.log, 2023-03-08 04:05:42,143, test, 300/340, 0.000122\n",
      "INFO:/content/drive/MyDrive/ori_PointNetLK-master/logf/test/over_9.log, 2023-03-08 04:05:42,589, test, 301/340, 0.113384\n",
      "INFO:/content/drive/MyDrive/ori_PointNetLK-master/logf/test/over_9.log, 2023-03-08 04:05:42,758, test, 302/340, 0.124266\n",
      "INFO:/content/drive/MyDrive/ori_PointNetLK-master/logf/test/over_9.log, 2023-03-08 04:05:50,065, test, 303/340, 0.209552\n",
      "INFO:/content/drive/MyDrive/ori_PointNetLK-master/logf/test/over_9.log, 2023-03-08 04:05:50,561, test, 304/340, 0.125853\n",
      "INFO:/content/drive/MyDrive/ori_PointNetLK-master/logf/test/over_9.log, 2023-03-08 04:05:50,998, test, 305/340, 0.021826\n",
      "INFO:/content/drive/MyDrive/ori_PointNetLK-master/logf/test/over_9.log, 2023-03-08 04:05:51,148, test, 306/340, 0.651811\n",
      "INFO:/content/drive/MyDrive/ori_PointNetLK-master/logf/test/over_9.log, 2023-03-08 04:05:51,559, test, 307/340, 0.194974\n",
      "INFO:/content/drive/MyDrive/ori_PointNetLK-master/logf/test/over_9.log, 2023-03-08 04:05:52,311, test, 308/340, 0.109151\n",
      "INFO:/content/drive/MyDrive/ori_PointNetLK-master/logf/test/over_9.log, 2023-03-08 04:05:52,710, test, 309/340, 1.825832\n",
      "INFO:/content/drive/MyDrive/ori_PointNetLK-master/logf/test/over_9.log, 2023-03-08 04:05:52,865, test, 310/340, 0.096590\n",
      "INFO:/content/drive/MyDrive/ori_PointNetLK-master/logf/test/over_9.log, 2023-03-08 04:05:52,954, test, 311/340, 0.080304\n",
      "INFO:/content/drive/MyDrive/ori_PointNetLK-master/logf/test/over_9.log, 2023-03-08 04:05:56,577, test, 312/340, 0.036873\n",
      "INFO:/content/drive/MyDrive/ori_PointNetLK-master/logf/test/over_9.log, 2023-03-08 04:05:57,020, test, 313/340, 0.075207\n",
      "INFO:/content/drive/MyDrive/ori_PointNetLK-master/logf/test/over_9.log, 2023-03-08 04:05:57,439, test, 314/340, 2.094245\n",
      "INFO:/content/drive/MyDrive/ori_PointNetLK-master/logf/test/over_9.log, 2023-03-08 04:05:58,250, test, 315/340, 2.308635\n",
      "INFO:/content/drive/MyDrive/ori_PointNetLK-master/logf/test/over_9.log, 2023-03-08 04:05:58,659, test, 316/340, 0.033284\n",
      "INFO:/content/drive/MyDrive/ori_PointNetLK-master/logf/test/over_9.log, 2023-03-08 04:05:59,093, test, 317/340, 0.219717\n",
      "INFO:/content/drive/MyDrive/ori_PointNetLK-master/logf/test/over_9.log, 2023-03-08 04:06:00,809, test, 318/340, 0.092905\n",
      "INFO:/content/drive/MyDrive/ori_PointNetLK-master/logf/test/over_9.log, 2023-03-08 04:06:04,111, test, 319/340, 0.122106\n",
      "INFO:/content/drive/MyDrive/ori_PointNetLK-master/logf/test/over_9.log, 2023-03-08 04:06:07,321, test, 320/340, 0.118940\n",
      "INFO:/content/drive/MyDrive/ori_PointNetLK-master/logf/test/over_9.log, 2023-03-08 04:06:08,345, test, 321/340, 0.007739\n",
      "INFO:/content/drive/MyDrive/ori_PointNetLK-master/logf/test/over_9.log, 2023-03-08 04:06:10,863, test, 322/340, 0.085037\n",
      "INFO:/content/drive/MyDrive/ori_PointNetLK-master/logf/test/over_9.log, 2023-03-08 04:06:29,019, test, 323/340, 0.129432\n",
      "INFO:/content/drive/MyDrive/ori_PointNetLK-master/logf/test/over_9.log, 2023-03-08 04:06:31,172, test, 324/340, 0.114467\n",
      "INFO:/content/drive/MyDrive/ori_PointNetLK-master/logf/test/over_9.log, 2023-03-08 04:07:19,689, test, 325/340, 0.015312\n",
      "INFO:/content/drive/MyDrive/ori_PointNetLK-master/logf/test/over_9.log, 2023-03-08 04:07:20,251, test, 326/340, 0.098065\n",
      "INFO:/content/drive/MyDrive/ori_PointNetLK-master/logf/test/over_9.log, 2023-03-08 04:07:21,799, test, 327/340, 0.667082\n",
      "INFO:/content/drive/MyDrive/ori_PointNetLK-master/logf/test/over_9.log, 2023-03-08 04:07:23,050, test, 328/340, 0.084483\n",
      "INFO:/content/drive/MyDrive/ori_PointNetLK-master/logf/test/over_9.log, 2023-03-08 04:07:38,026, test, 329/340, 0.012602\n",
      "INFO:/content/drive/MyDrive/ori_PointNetLK-master/logf/test/over_9.log, 2023-03-08 04:07:41,505, test, 330/340, 0.061790\n",
      "INFO:/content/drive/MyDrive/ori_PointNetLK-master/logf/test/over_9.log, 2023-03-08 04:07:44,188, test, 331/340, 0.068119\n",
      "INFO:/content/drive/MyDrive/ori_PointNetLK-master/logf/test/over_9.log, 2023-03-08 04:07:57,987, test, 332/340, 0.061280\n",
      "INFO:/content/drive/MyDrive/ori_PointNetLK-master/logf/test/over_9.log, 2023-03-08 04:07:58,526, test, 333/340, 0.746238\n",
      "INFO:/content/drive/MyDrive/ori_PointNetLK-master/logf/test/over_9.log, 2023-03-08 04:07:58,902, test, 334/340, 0.247714\n",
      "INFO:/content/drive/MyDrive/ori_PointNetLK-master/logf/test/over_9.log, 2023-03-08 04:08:23,110, test, 335/340, 0.109407\n",
      "INFO:/content/drive/MyDrive/ori_PointNetLK-master/logf/test/over_9.log, 2023-03-08 04:08:23,238, test, 336/340, 0.047232\n",
      "INFO:/content/drive/MyDrive/ori_PointNetLK-master/logf/test/over_9.log, 2023-03-08 04:08:23,855, test, 337/340, 0.018840\n",
      "INFO:/content/drive/MyDrive/ori_PointNetLK-master/logf/test/over_9.log, 2023-03-08 04:08:26,079, test, 338/340, 0.053321\n",
      "INFO:/content/drive/MyDrive/ori_PointNetLK-master/logf/test/over_9.log, 2023-03-08 04:08:29,298, test, 339/340, 0.627047\n",
      "DEBUG:/content/drive/MyDrive/ori_PointNetLK-master/logf/test/over_9.log, 2023-03-08 04:08:29,392, tests, end\n",
      "DEBUG:/content/drive/MyDrive/ori_PointNetLK-master/logf/test/over_9.log, 2023-03-08 04:08:29,394, done (PID=38854)\n"
     ]
    }
   ],
   "source": [
    "# test\n",
    "!python test_pointlk.py -o='test_res.csv'\\\n",
    "               -i='/content/drive/MyDrive/model40'\\\n",
    "               -c='./sampledata/test.txt'\\\n",
    "               --crop=0.9\\\n",
    "               --pretrained='./r_g9_model_best.pth'\\\n",
    "               -l='/content/drive/MyDrive/ori_PointNetLK-master/logf/test/over_9.log'\n",
    "               #/model_file"
   ]
  },
  {
   "cell_type": "code",
   "execution_count": null,
   "metadata": {
    "id": "OJN68pzQj_Iq"
   },
   "outputs": [],
   "source": [
    "!python generate_perturbations.py -o='perturbations.csv' -i='/content/drive/MyDrive/model40'\\\n",
    "               -c='./sampledata/test.txt' --mag=0.8"
   ]
  },
  {
   "cell_type": "code",
   "execution_count": 10,
   "metadata": {
    "executionInfo": {
     "elapsed": 1689,
     "status": "ok",
     "timestamp": 1678069518939,
     "user": {
      "displayName": "sykk W",
      "userId": "02320879820340904308"
     },
     "user_tz": -480
    },
    "id": "mFWQ_7VZ0snx"
   },
   "outputs": [],
   "source": [
    "import torch\n",
    "a = torch.tensor(0.56)\n",
    "b = torch.tensor(0.68)\n",
    "c = torch.tensor(0.89)"
   ]
  },
  {
   "cell_type": "code",
   "execution_count": 11,
   "metadata": {
    "executionInfo": {
     "elapsed": 684,
     "status": "ok",
     "timestamp": 1678069523369,
     "user": {
      "displayName": "sykk W",
      "userId": "02320879820340904308"
     },
     "user_tz": -480
    },
    "id": "ncK2ZspX8Wkm"
   },
   "outputs": [],
   "source": [
    "ll = []\n",
    "ll.append(a)\n",
    "ll.append(b)\n",
    "ll.append(c)"
   ]
  },
  {
   "cell_type": "code",
   "execution_count": 13,
   "metadata": {
    "colab": {
     "base_uri": "https://localhost:8080/"
    },
    "executionInfo": {
     "elapsed": 4,
     "status": "ok",
     "timestamp": 1678069579133,
     "user": {
      "displayName": "sykk W",
      "userId": "02320879820340904308"
     },
     "user_tz": -480
    },
    "id": "8tLQ9_Q1vQY3",
    "outputId": "7e171293-e535-4065-a5ce-bfe3655b3a1b"
   },
   "outputs": [
    {
     "data": {
      "text/plain": [
       "tensor(0.7100)"
      ]
     },
     "execution_count": 13,
     "metadata": {},
     "output_type": "execute_result"
    }
   ],
   "source": [
    "torch.mean(torch.tensor(ll))"
   ]
  },
  {
   "cell_type": "code",
   "execution_count": 17,
   "metadata": {
    "colab": {
     "base_uri": "https://localhost:8080/"
    },
    "executionInfo": {
     "elapsed": 589,
     "status": "ok",
     "timestamp": 1678079033044,
     "user": {
      "displayName": "sykk W",
      "userId": "02320879820340904308"
     },
     "user_tz": -480
    },
    "id": "-mHFUDHsTboo",
    "outputId": "b4668e75-dfdf-42ef-b372-048a8a2ea619"
   },
   "outputs": [
    {
     "data": {
      "text/plain": [
       "tensor([0.9000, 0.7000])"
      ]
     },
     "execution_count": 17,
     "metadata": {},
     "output_type": "execute_result"
    }
   ],
   "source": [
    "torch.tensor([0.9, 0.7])"
   ]
  },
  {
   "cell_type": "code",
   "execution_count": null,
   "metadata": {
    "id": "wT4snnIb8eN0"
   },
   "outputs": [],
   "source": [
    "b = torch.mean(a)"
   ]
  },
  {
   "cell_type": "code",
   "execution_count": null,
   "metadata": {
    "colab": {
     "base_uri": "https://localhost:8080/"
    },
    "executionInfo": {
     "elapsed": 374,
     "status": "ok",
     "timestamp": 1677990166039,
     "user": {
      "displayName": "sykk W",
      "userId": "02320879820340904308"
     },
     "user_tz": -480
    },
    "id": "Pnxke8fRAdR2",
    "outputId": "c68a6097-04e2-4223-9231-cf131aaeb631"
   },
   "outputs": [
    {
     "data": {
      "text/plain": [
       "tensor(0.0494)"
      ]
     },
     "execution_count": 6,
     "metadata": {},
     "output_type": "execute_result"
    }
   ],
   "source": [
    "b/4"
   ]
  }
 ],
 "metadata": {
  "accelerator": "GPU",
  "colab": {
   "authorship_tag": "ABX9TyNv5ShKNJWO4YcM1bgPsZsz",
   "provenance": []
  },
  "gpuClass": "standard",
  "kernelspec": {
   "display_name": "python3",
   "language": "python",
   "name": "python3"
  },
  "language_info": {
   "codemirror_mode": {
    "name": "ipython",
    "version": 3
   },
   "file_extension": ".py",
   "mimetype": "text/x-python",
   "name": "python",
   "nbconvert_exporter": "python",
   "pygments_lexer": "ipython3",
   "version": "3.6.5"
  }
 },
 "nbformat": 4,
 "nbformat_minor": 1
}
