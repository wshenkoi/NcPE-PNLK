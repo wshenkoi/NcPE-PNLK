{
 "cells": [
  {
   "cell_type": "code",
   "execution_count": 1,
   "id": "96b66cb3",
   "metadata": {},
   "outputs": [
    {
     "name": "stdout",
     "output_type": "stream",
     "text": [
      "Jupyter environment detected. Enabling Open3D WebVisualizer.\n",
      "[Open3D INFO] WebRTCWindowSystem: HTTP handshake server disabled.\n"
     ]
    }
   ],
   "source": [
    "import argparse\n",
    "import os\n",
    "import sys\n",
    "import logging\n",
    "import time\n",
    "import numpy as np\n",
    "import torch\n",
    "import torch.utils.data\n",
    "import torchvision\n",
    "import open3d as o3d\n",
    "from scipy.spatial.transform import Rotation\n",
    "from sklearn.neighbors import KDTree\n",
    "\n",
    "sys.path.insert(0, os.path.abspath(os.path.join(os.path.dirname(os.path.realpath('__file__')), os.pardir)))\n",
    "import ptlk"
   ]
  },
  {
   "cell_type": "code",
   "execution_count": 2,
   "id": "0f34ccf6",
   "metadata": {},
   "outputs": [],
   "source": [
    "def options(argv=None):\n",
    "    parser = argparse.ArgumentParser(description='PointNet-LK')\n",
    "\n",
    "    parser.add_argument('-i', '--dataset-path', default='D:/SDXX/ModelNet40', type=str,\n",
    "                        metavar='PATH', help='path to the input dataset') # like 'modelnet40_half2'\n",
    "    parser.add_argument('-c', '--categoryfile', default='./sampledata/different_test.txt', type=str,\n",
    "                        metavar='PATH', help='path to the categories to be tested') # eg. './sampledata/modelnet40_half1.txt'\n",
    "    parser.add_argument('-p', '--perturbations', default='./perturbations/different/pertur_40.csv', type=str,\n",
    "                        metavar='PATH', help='path to the perturbation file') # see. generate_perturbations.py\n",
    "\n",
    "    # settings for input data\n",
    "    parser.add_argument('--dataset-type', default='modelnet', choices=['modelnet'],\n",
    "                        metavar='DATASET', help='dataset type (default: modelnet)')\n",
    "    parser.add_argument('--format', default='wv', choices=['wv', 'wt'],\n",
    "                        help='perturbation format (default: wv (twist)) (wt: rotation and translation)') \n",
    "\n",
    "    # settings for PointNet-LK\n",
    "    parser.add_argument('--max-iter', default=30, type=int,\n",
    "                        metavar='N', help='max-iter on LK. (default: 20)')\n",
    "    parser.add_argument('--pretrained', default='model_best_model_best.pth', type=str,    #\n",
    "                        metavar='PATH', help='path to trained model file (default: null (no-use))')\n",
    "    parser.add_argument('--transfer-from', default='', type=str,\n",
    "                        metavar='PATH', help='path to classifier feature (default: null (no-use))')\n",
    "    parser.add_argument('--dim-k', default=1024, type=int,\n",
    "                        metavar='K', help='dim. of the feature vector (default: 1024)')\n",
    "    parser.add_argument('--symfn', default='max', choices=['max', 'avg'],\n",
    "                        help='symmetric function (default: max)')\n",
    "    parser.add_argument('--delta', default=1.0e-2, type=float,\n",
    "                        metavar='D', help='step size for approx. Jacobian (default: 1.0e-2)')\n",
    "\n",
    "    # settings for on testing\n",
    "    parser.add_argument('-l', '--logfile', default='', type=str,\n",
    "                        metavar='LOGNAME', help='path to logfile (default: null (no logging))')\n",
    "    parser.add_argument('-j', '--workers', default=4, type=int,\n",
    "                        metavar='N', help='number of data loading workers (default: 4)')\n",
    "    parser.add_argument('--device', default='cpu', type=str,\n",
    "                        metavar='DEVICE', help='use CUDA if available (default: cpu)')\n",
    "\n",
    "    args = parser.parse_args(argv)\n",
    "    return args"
   ]
  },
  {
   "cell_type": "code",
   "execution_count": 3,
   "id": "d9d2a910",
   "metadata": {},
   "outputs": [],
   "source": [
    "class Action:\n",
    "    def __init__(self, args):\n",
    "        # PointNet\n",
    "        self.transfer_from = args.transfer_from\n",
    "        self.dim_k = args.dim_k\n",
    "        self.sym_fn = None\n",
    "        if args.symfn == 'max':\n",
    "            self.sym_fn = ptlk.pointnet.symfn_max\n",
    "        elif args.symfn == 'avg':\n",
    "            self.sym_fn = ptlk.pointnet.symfn_avg\n",
    "        # LK\n",
    "        self.delta = args.delta\n",
    "        self.max_iter = args.max_iter\n",
    "        self.xtol = 1.0e-7\n",
    "        self.p0_zero_mean = True\n",
    "        self.p1_zero_mean = True\n",
    "\n",
    "    def create_model(self):\n",
    "        ptnet = self.create_pointnet_features()\n",
    "        return self.create_from_pointnet_features(ptnet)\n",
    "\n",
    "    def create_pointnet_features(self):\n",
    "        ptnet = ptlk.pointnet.PointNet_features(self.dim_k, use_tnet=False, sym_fn=self.sym_fn)\n",
    "        if self.transfer_from and os.path.isfile(self.transfer_from):\n",
    "            ptnet.load_state_dict(torch.load(self.transfer_from, map_location='cpu'))\n",
    "        return ptnet\n",
    "\n",
    "    def create_from_pointnet_features(self, ptnet):\n",
    "        return ptlk.pointlk.PointLK(ptnet, self.delta)\n",
    "    \n",
    "    def eval_1(self, model, device):\n",
    "        model.eval()\n",
    "        p0, p1 = self.read_ply(self.templatefile, self.sourcefile)\n",
    "        p0 = torch.tensor(p0).unsqueeze(0)\n",
    "        p1 = torch.tensor(p1).unsqueeze(0)\n",
    "#        p0, p1 = data_tensor\n",
    "        res = self.do_estimate(p0, p1, model, device)\n",
    "        g_hat = res.cpu().contiguous().view(-1, 4, 4)\n",
    "        est_trans_p1 = ptlk.se3.transform(g_hat.to(p0), p1)\n",
    "        \n",
    "        return est_trans_p1\n",
    "#                   \n",
    "    def do_estimate(self, p0, p1, model, device):\n",
    "        p0 = p0.to(device) # template (1, N, 3)\n",
    "        p1 = p1.to(device) # source (1, M, 3)\n",
    "        r  = ptlk.pointlk.PointLK.do_forward(model, p0, p1, self.max_iter, self.xtol,\\\n",
    "                                            self.p0_zero_mean, self.p1_zero_mean)\n",
    "\n",
    "        #r = model(p0, p1, self.max_iter)\n",
    "        est_g = model.g # (1, 4, 4)\n",
    "\n",
    "        return est_g, r"
   ]
  },
  {
   "cell_type": "code",
   "execution_count": 4,
   "id": "8782a4f5",
   "metadata": {},
   "outputs": [
    {
     "data": {
      "text/plain": [
       "PointLK(\n",
       "  (ptnet): PointNet_features(\n",
       "    (h1): Sequential(\n",
       "      (0): Conv1d(3, 64, kernel_size=(1,), stride=(1,))\n",
       "      (1): BatchNorm1d(64, eps=1e-05, momentum=0.1, affine=True, track_running_stats=True)\n",
       "      (2): ReLU()\n",
       "      (3): Conv1d(64, 64, kernel_size=(1,), stride=(1,))\n",
       "      (4): BatchNorm1d(64, eps=1e-05, momentum=0.1, affine=True, track_running_stats=True)\n",
       "      (5): ReLU()\n",
       "    )\n",
       "    (h2): Sequential(\n",
       "      (0): Conv1d(64, 64, kernel_size=(1,), stride=(1,))\n",
       "      (1): BatchNorm1d(64, eps=1e-05, momentum=0.1, affine=True, track_running_stats=True)\n",
       "      (2): ReLU()\n",
       "      (3): Conv1d(64, 128, kernel_size=(1,), stride=(1,))\n",
       "      (4): BatchNorm1d(128, eps=1e-05, momentum=0.1, affine=True, track_running_stats=True)\n",
       "      (5): ReLU()\n",
       "      (6): Conv1d(128, 1024, kernel_size=(1,), stride=(1,))\n",
       "      (7): BatchNorm1d(1024, eps=1e-05, momentum=0.1, affine=True, track_running_stats=True)\n",
       "      (8): ReLU()\n",
       "    )\n",
       "  )\n",
       ")"
      ]
     },
     "execution_count": 4,
     "metadata": {},
     "output_type": "execute_result"
    }
   ],
   "source": [
    "args = options([])\n",
    "act = Action(args)\n",
    "model = act.create_model()\n",
    "if args.pretrained:\n",
    "    assert os.path.isfile(args.pretrained)\n",
    "    model.load_state_dict(torch.load(args.pretrained, map_location='cpu'))\n",
    "model.to(args.device)\n",
    "model.eval()"
   ]
  },
  {
   "cell_type": "markdown",
   "id": "06bf67cf",
   "metadata": {},
   "source": [
    "# Bunny"
   ]
  },
  {
   "cell_type": "code",
   "execution_count": 5,
   "id": "a2e1760d",
   "metadata": {},
   "outputs": [],
   "source": [
    "#sol = np.array([2.20761e-05, -3.34606e-05, -7.20881e-05, 0.000335889, -0.708202, 0.000602459, 0.706009])     #90\n",
    "sol = np.array([-0.0520211, -0.000383981, -0.0109223, 0.00548449, -0.294635, -0.0038555, 0.955586])         #45\n",
    "r = Rotation.from_quat(sol[3:])\n",
    "rot = r.as_matrix()\n",
    "trans = sol[:3]\n",
    "G = np.concatenate((rot.T, trans.reshape(3, -1)), axis = 1)\n",
    "G = np.concatenate((G, [[0.,0.,0.,1.]]), axis = 0)"
   ]
  },
  {
   "cell_type": "code",
   "execution_count": 6,
   "id": "276de092",
   "metadata": {},
   "outputs": [
    {
     "data": {
      "text/plain": [
       "PointCloud with 40097 points."
      ]
     },
     "execution_count": 6,
     "metadata": {},
     "output_type": "execute_result"
    }
   ],
   "source": [
    "bun_pt = o3d.io.read_point_cloud(r'C:\\Users\\fcky\\Desktop\\3D\\bunny\\bunny\\data\\bun000.ply')\n",
    "bun_pt.paint_uniform_color([0.5, 0.5, 0.5])\n",
    "bun_pt_tree = o3d.geometry.KDTreeFlann(bun_pt)\n",
    "bun_ps = o3d.io.read_point_cloud(r'C:\\Users\\fcky\\Desktop\\3D\\bunny\\bunny\\data\\bun045.ply')\n",
    "bun_ps.paint_uniform_color([0.5, 0.5, 0.5])"
   ]
  },
  {
   "cell_type": "code",
   "execution_count": 7,
   "id": "31ff87bd",
   "metadata": {},
   "outputs": [],
   "source": [
    "tgt = np.asarray(bun_pt.points)\n",
    "scr = np.asarray(bun_ps.points)"
   ]
  },
  {
   "cell_type": "code",
   "execution_count": 8,
   "id": "2cba73f4",
   "metadata": {},
   "outputs": [],
   "source": [
    "#noise\n",
    "def jitter_pointcloud(pointcloud, sigma=0.001, clip=0.05):\n",
    "    N, C = pointcloud.shape\n",
    "    pointcloud += np.clip(sigma * np.random.randn(N, C), -1 * clip, clip)\n",
    "    return pointcloud\n",
    "tgt = jitter_pointcloud(tgt, sigma=0.001)\n",
    "scr = jitter_pointcloud(scr, sigma=0.001)"
   ]
  },
  {
   "cell_type": "code",
   "execution_count": 8,
   "id": "4295ff65",
   "metadata": {},
   "outputs": [],
   "source": [
    "tgt_sorted = np.array(sorted(tgt.tolist(), key=lambda x:(x[0], x[1])))\n",
    "scr_sorted = np.array(sorted(scr.tolist(), key=lambda x:(x[0], x[1])))"
   ]
  },
  {
   "cell_type": "code",
   "execution_count": 9,
   "id": "03437d78",
   "metadata": {},
   "outputs": [],
   "source": [
    "pt = torch.tensor(tgt_sorted).unsqueeze(0).contiguous().to(torch.float32)\n",
    "ps = torch.tensor(scr_sorted).unsqueeze(0).contiguous().to(torch.float32)"
   ]
  },
  {
   "cell_type": "code",
   "execution_count": 10,
   "id": "5513e86f",
   "metadata": {},
   "outputs": [],
   "source": [
    "# 原图像\n",
    "bun_pt.paint_uniform_color([255/255, 127/255, 39/255])\n",
    "bun_pt.estimate_normals(search_param=o3d.geometry.KDTreeSearchParamHybrid(radius=0.1, max_nn=30))\n",
    "bun_pt.orient_normals_to_align_with_direction()\n",
    "bun_ps.paint_uniform_color([160/255, 255/255, 249/255])\n",
    "bun_ps.estimate_normals(search_param=o3d.geometry.KDTreeSearchParamHybrid(radius=0.1, max_nn=30))\n",
    "bun_ps.orient_normals_to_align_with_direction()\n",
    "o3d.visualization.draw_geometries([bun_pt, bun_ps])"
   ]
  },
  {
   "cell_type": "code",
   "execution_count": 11,
   "id": "3dc526c9",
   "metadata": {},
   "outputs": [],
   "source": [
    "bun_ps.transform(G)\n",
    "bun_ps_tree = o3d.geometry.KDTreeFlann(bun_ps)"
   ]
  },
  {
   "cell_type": "code",
   "execution_count": 21,
   "id": "8302ad7b",
   "metadata": {},
   "outputs": [
    {
     "data": {
      "text/plain": [
       "0.3504065308272162"
      ]
     },
     "execution_count": 21,
     "metadata": {},
     "output_type": "execute_result"
    }
   ],
   "source": [
    "count = 0\n",
    "idxs_pt = []\n",
    "idxs_ps = []\n",
    "for i in range(len(bun_ps.points)):\n",
    "    #[k, idx, dist] = bun00_tree.search_knn_vector_3d(bun45.points[int(ind1[i])], 3)\n",
    "    [k, idx, dist] = bun_pt_tree.search_radius_vector_3d(bun_ps.points[i], 0.0005)\n",
    "    if k!= 0:\n",
    "        count += 1\n",
    "        idxs_pt.append(idx[0])\n",
    "        idxs_ps.append(i)\n",
    "count/len(bun_ps.points)"
   ]
  },
  {
   "cell_type": "code",
   "execution_count": 11,
   "id": "5196e07c",
   "metadata": {},
   "outputs": [],
   "source": [
    "np.asarray(bun_pt.colors)[idxs_pt[0:], :] = [255/255, 127/255, 39/255]\n",
    "np.asarray(bun_ps.colors)[idxs_ps[0:], :] = [160/255, 255/255, 249/255]\n",
    "o3d.visualization.draw_geometries([bun_pt, bun_ps])"
   ]
  },
  {
   "cell_type": "code",
   "execution_count": 12,
   "id": "765d0958",
   "metadata": {},
   "outputs": [],
   "source": [
    "tgtidx = torch.tensor(np.random.randint(0,tgt.shape[0],1024), dtype = torch.long)\n",
    "scridx = torch.tensor(np.random.randint(0,scr.shape[0],1024), dtype = torch.long)"
   ]
  },
  {
   "cell_type": "code",
   "execution_count": 26,
   "id": "6a362139",
   "metadata": {},
   "outputs": [],
   "source": [
    "pt_kwy = int(tgt.shape[0] / 1024)\n",
    "pt_num = np.random.randint(0, pt_kwy, 1)\n",
    "tgtidx = list(range(pt_num[0], tgt.shape[0], int(pt_kwy+1)))\n",
    "ps_kwy = int(scr.shape[0] / 1024)\n",
    "ps_num = np.random.randint(0, ps_kwy, 1)\n",
    "scridx = list(range(ps_num[0], scr.shape[0], int(ps_kwy+1)))"
   ]
  },
  {
   "cell_type": "code",
   "execution_count": 27,
   "id": "47bdd5a8",
   "metadata": {},
   "outputs": [],
   "source": [
    "sampt = pt[:,tgtidx,:]\n",
    "samps = ps[:,scridx,:]\n",
    "with torch.no_grad():\n",
    "    since = time.time()\n",
    "    bu_est_g, bu_r = act.do_estimate(sampt, samps, model, args.device)\n",
    "    time_elapsed = time.time() - since"
   ]
  },
  {
   "cell_type": "code",
   "execution_count": 17,
   "id": "553f9de2",
   "metadata": {},
   "outputs": [],
   "source": [
    "spend_time = []\n",
    "error_Gs_ran = []\n",
    "rot_ran = []\n",
    "trans_ran = []\n",
    "for i in range(10):\n",
    "    tgtidx = torch.tensor(np.random.randint(0,tgt.shape[0],2048), dtype = torch.long)\n",
    "    scridx = torch.tensor(np.random.randint(0,scr.shape[0],2048), dtype = torch.long)\n",
    "    sampt = pt[:,tgtidx,:]\n",
    "    samps = ps[:,scridx,:]\n",
    "    with torch.no_grad():\n",
    "        since = time.time()\n",
    "        est_g, bu_r = act.do_estimate(sampt, samps, model, args.device)\n",
    "        time_elapsed = time.time() - since\n",
    "        \n",
    "        est_g = est_g.reshape(4, 4).numpy()\n",
    "        test_g_mse = np.mean((G - est_g) ** 2)\n",
    "        test_g_rmse = np.sqrt(test_g_mse)\n",
    "        \n",
    "        rot_ran.append(G[0:3, 0:3] - est_g[0:3, 0:3])\n",
    "        trans_ran.append(G[0:3, 3] - est_g[0:3, 3])       \n",
    "        error_Gs_ran.append(test_g_rmse)\n",
    "        spend_time.append(time_elapsed)"
   ]
  },
  {
   "cell_type": "code",
   "execution_count": 18,
   "id": "e418f14b",
   "metadata": {},
   "outputs": [
    {
     "name": "stdout",
     "output_type": "stream",
     "text": [
      "time_elapsed: 0.0352\n"
     ]
    }
   ],
   "source": [
    "avg_g_10 = np.mean(np.array(error_Gs_ran))\n",
    "print( 'time_elapsed: %.4f' % avg_g_10)"
   ]
  },
  {
   "cell_type": "code",
   "execution_count": 19,
   "id": "c0c0d23b",
   "metadata": {},
   "outputs": [
    {
     "name": "stdout",
     "output_type": "stream",
     "text": [
      "time_elapsed: 1.0462\n"
     ]
    }
   ],
   "source": [
    "avg_times_10 = np.mean(np.array(spend_time))\n",
    "print( 'time_elapsed: %.4f' % avg_times_10)"
   ]
  },
  {
   "cell_type": "code",
   "execution_count": 22,
   "id": "3dab1d8a",
   "metadata": {},
   "outputs": [],
   "source": [
    "#no sampling\n",
    "with torch.no_grad():\n",
    "    since = time.time()\n",
    "    bu_est_g, bu_r = act.do_estimate(pt, ps, model, args.device)\n",
    "    time_elapsed = time.time() - since"
   ]
  },
  {
   "cell_type": "markdown",
   "id": "8201ae5c",
   "metadata": {},
   "source": [
    "### 误差计算"
   ]
  },
  {
   "cell_type": "code",
   "execution_count": 28,
   "id": "0812df33",
   "metadata": {},
   "outputs": [],
   "source": [
    "est_rot = bu_est_g[:, 0:3, 0:3].reshape(3, 3).numpy()\n",
    "est_trans = bu_est_g[:, 0:3, 3].reshape(3, 1).numpy()\n",
    "gt_rot = G[0:3, 0:3]\n",
    "gt_trans = G[0:3, 3].reshape(3, 1)"
   ]
  },
  {
   "cell_type": "code",
   "execution_count": 29,
   "id": "717eedaa",
   "metadata": {},
   "outputs": [],
   "source": [
    "test_r_mse = np.mean((gt_rot - est_rot) ** 2)\n",
    "test_r_rmse = np.sqrt(test_r_mse)\n",
    "test_r_mae = np.mean(np.abs(gt_rot - est_rot))\n",
    "test_t_mse = np.mean((gt_trans - est_trans) ** 2)\n",
    "test_t_rmse = np.sqrt(test_t_mse)\n",
    "test_t_mae = np.mean(np.abs(gt_trans - est_trans))"
   ]
  },
  {
   "cell_type": "code",
   "execution_count": 20,
   "id": "209fbcd5",
   "metadata": {},
   "outputs": [
    {
     "ename": "NameError",
     "evalue": "name 'rot_ran' is not defined",
     "output_type": "error",
     "traceback": [
      "\u001b[1;31m---------------------------------------------------------------------------\u001b[0m",
      "\u001b[1;31mNameError\u001b[0m                                 Traceback (most recent call last)",
      "\u001b[1;32m<ipython-input-20-bbcf34484fa5>\u001b[0m in \u001b[0;36m<module>\u001b[1;34m()\u001b[0m\n\u001b[1;32m----> 1\u001b[1;33m \u001b[0mtest_r_mse\u001b[0m \u001b[1;33m=\u001b[0m \u001b[0mnp\u001b[0m\u001b[1;33m.\u001b[0m\u001b[0mmean\u001b[0m\u001b[1;33m(\u001b[0m\u001b[0mnp\u001b[0m\u001b[1;33m.\u001b[0m\u001b[0marray\u001b[0m\u001b[1;33m(\u001b[0m\u001b[0mrot_ran\u001b[0m\u001b[1;33m)\u001b[0m \u001b[1;33m**\u001b[0m \u001b[1;36m2\u001b[0m\u001b[1;33m)\u001b[0m\u001b[1;33m\u001b[0m\u001b[0m\n\u001b[0m\u001b[0;32m      2\u001b[0m \u001b[0mtest_r_rmse\u001b[0m \u001b[1;33m=\u001b[0m \u001b[0mnp\u001b[0m\u001b[1;33m.\u001b[0m\u001b[0msqrt\u001b[0m\u001b[1;33m(\u001b[0m\u001b[0mtest_r_mse\u001b[0m\u001b[1;33m)\u001b[0m\u001b[1;33m\u001b[0m\u001b[0m\n\u001b[0;32m      3\u001b[0m \u001b[0mtest_r_mae\u001b[0m \u001b[1;33m=\u001b[0m \u001b[0mnp\u001b[0m\u001b[1;33m.\u001b[0m\u001b[0mmean\u001b[0m\u001b[1;33m(\u001b[0m\u001b[0mnp\u001b[0m\u001b[1;33m.\u001b[0m\u001b[0mabs\u001b[0m\u001b[1;33m(\u001b[0m\u001b[0mnp\u001b[0m\u001b[1;33m.\u001b[0m\u001b[0marray\u001b[0m\u001b[1;33m(\u001b[0m\u001b[0mrot_ran\u001b[0m\u001b[1;33m)\u001b[0m\u001b[1;33m)\u001b[0m\u001b[1;33m)\u001b[0m\u001b[1;33m\u001b[0m\u001b[0m\n\u001b[0;32m      4\u001b[0m \u001b[0mtest_t_mse\u001b[0m \u001b[1;33m=\u001b[0m \u001b[0mnp\u001b[0m\u001b[1;33m.\u001b[0m\u001b[0mmean\u001b[0m\u001b[1;33m(\u001b[0m\u001b[0mnp\u001b[0m\u001b[1;33m.\u001b[0m\u001b[0marray\u001b[0m\u001b[1;33m(\u001b[0m\u001b[0mtrans_ran\u001b[0m\u001b[1;33m)\u001b[0m \u001b[1;33m**\u001b[0m \u001b[1;36m2\u001b[0m\u001b[1;33m)\u001b[0m\u001b[1;33m\u001b[0m\u001b[0m\n\u001b[0;32m      5\u001b[0m \u001b[0mtest_t_rmse\u001b[0m \u001b[1;33m=\u001b[0m \u001b[0mnp\u001b[0m\u001b[1;33m.\u001b[0m\u001b[0msqrt\u001b[0m\u001b[1;33m(\u001b[0m\u001b[0mtest_t_mse\u001b[0m\u001b[1;33m)\u001b[0m\u001b[1;33m\u001b[0m\u001b[0m\n",
      "\u001b[1;31mNameError\u001b[0m: name 'rot_ran' is not defined"
     ]
    }
   ],
   "source": [
    "test_r_mse = np.mean(np.array(rot_ran) ** 2)\n",
    "test_r_rmse = np.sqrt(test_r_mse)\n",
    "test_r_mae = np.mean(np.abs(np.array(rot_ran)))\n",
    "test_t_mse = np.mean(np.array(trans_ran) ** 2)\n",
    "test_t_rmse = np.sqrt(test_t_mse)\n",
    "test_t_mae = np.mean(np.abs(np.array(trans_ran)))"
   ]
  },
  {
   "cell_type": "code",
   "execution_count": 30,
   "id": "c3229b9c",
   "metadata": {},
   "outputs": [
    {
     "name": "stdout",
     "output_type": "stream",
     "text": [
      "test_r_mse:0.001737,test_r_rmse:0.041677,test_r_mae:0.032711 test_t_mse:0.000003,test_t_rmse:0.001610,test_t_mae:0.001224\n"
     ]
    }
   ],
   "source": [
    "message_r = 'test_r_mse:{:.6f},test_r_rmse:{:.6f},test_r_mae:{:.6f}'.format(test_r_mse, test_r_rmse, test_r_mae)\n",
    "message_t = 'test_t_mse:{:.6f},test_t_rmse:{:.6f},test_t_mae:{:.6f}'.format(test_t_mse, test_t_rmse, test_t_mae)\n",
    "print(message_r, message_t)"
   ]
  },
  {
   "cell_type": "markdown",
   "id": "d26b9421",
   "metadata": {},
   "source": [
    "### 图像"
   ]
  },
  {
   "cell_type": "code",
   "execution_count": 14,
   "id": "e5a403c8",
   "metadata": {},
   "outputs": [],
   "source": [
    "g_series = model.g_series"
   ]
  },
  {
   "cell_type": "code",
   "execution_count": 31,
   "id": "ee454d9c",
   "metadata": {},
   "outputs": [
    {
     "data": {
      "text/plain": [
       "(40097, 3)"
      ]
     },
     "execution_count": 31,
     "metadata": {},
     "output_type": "execute_result"
    }
   ],
   "source": [
    "g_hat = bu_est_g.cpu().contiguous().view(-1, 4, 4)\n",
    "est_trans_pc0 = ptlk.se3.transform(g_hat.to(ps), ps.transpose(1,2).contiguous()).transpose(1,2).contiguous()\n",
    "est_pc00 = est_trans_pc0[0].detach().numpy()\n",
    "est_pc00.shape"
   ]
  },
  {
   "cell_type": "code",
   "execution_count": 32,
   "id": "31f0a34d",
   "metadata": {},
   "outputs": [
    {
     "data": {
      "text/plain": [
       "PointCloud with 40097 points."
      ]
     },
     "execution_count": 32,
     "metadata": {},
     "output_type": "execute_result"
    }
   ],
   "source": [
    "est_bupt = o3d.geometry.PointCloud()\n",
    "est_bupt.points = o3d.utility.Vector3dVector(est_pc00.reshape(-1, 3))\n",
    "est_bupt.estimate_normals(search_param=o3d.geometry.KDTreeSearchParamHybrid(radius=0.1, max_nn=30))\n",
    "est_bupt.orient_normals_to_align_with_direction()\n",
    "#est_ptpcd.paint_uniform_color([0.5, 0.5, 0.5])\n",
    "#np.asarray(est_ptpcd.colors)[scridx[0:], :] = [160/255, 255/255, 249/255]\n",
    "est_bupt.paint_uniform_color([160/255, 255/255, 249/255])"
   ]
  },
  {
   "cell_type": "code",
   "execution_count": 33,
   "id": "0ba1f930",
   "metadata": {},
   "outputs": [],
   "source": [
    "o3d.visualization.draw_geometries([bun_pt, est_bupt])"
   ]
  },
  {
   "cell_type": "code",
   "execution_count": 22,
   "id": "7e2f2876",
   "metadata": {},
   "outputs": [],
   "source": [
    "# writing files\n",
    "with open(r'est_pt.txt', 'w') as fout:\n",
    "    for i in range(est_pc00.shape[0]):\n",
    "        print(' '.join(map(str, est_pc00.reshape(-1, 3)[i])), file=fout)\n",
    "with open(r'pt.txt', 'w') as fout:\n",
    "    for i in range(tgt.shape[0]):\n",
    "        print(' '.join(map(str, tgt.reshape(-1, 3)[i])), file=fout)"
   ]
  },
  {
   "cell_type": "code",
   "execution_count": 20,
   "id": "92219cb5",
   "metadata": {},
   "outputs": [],
   "source": [
    "centroid_pt = np.mean(tgt, axis=0).reshape(1,3)\n",
    "centroid_ps = np.mean(est_pc00, axis=0).reshape(1,3)\n",
    "centroid = (centroid_ps+centroid_pt)/2"
   ]
  },
  {
   "cell_type": "code",
   "execution_count": 21,
   "id": "49cd0bcd",
   "metadata": {},
   "outputs": [],
   "source": [
    "pts = np.concatenate((tgt, centroid), axis = 0)\n",
    "pss = np.concatenate((est_pc00, centroid), axis = 0)\n",
    "bun_pt.points = o3d.utility.Vector3dVector(pts.reshape(-1, 3))\n",
    "bun_ps.points = o3d.utility.Vector3dVector(pss.reshape(-1, 3))"
   ]
  },
  {
   "cell_type": "code",
   "execution_count": 22,
   "id": "b881b2e8",
   "metadata": {},
   "outputs": [],
   "source": [
    "bun_pt.paint_uniform_color([0.5, 0.5, 0.5])\n",
    "bun_ps.paint_uniform_color([0.5, 0.5, 0.5])\n",
    "bun_pt.colors[-1] = [255/255, 127/255, 39/255]\n",
    "bun_ps.colors[-1] = [160/255, 255/255, 249/255]\n",
    "o3d.visualization.draw_geometries([bun_pt, bun_ps])"
   ]
  },
  {
   "cell_type": "code",
   "execution_count": 26,
   "id": "3938431e",
   "metadata": {},
   "outputs": [],
   "source": [
    "est_bupt_tree = o3d.geometry.KDTreeFlann(est_bupt)\n",
    "ptnet = model.ptnet"
   ]
  },
  {
   "cell_type": "code",
   "execution_count": 93,
   "id": "fd4eb338",
   "metadata": {},
   "outputs": [],
   "source": [
    "re_tgtidx = torch.tensor(np.random.randint(0,tgt.shape[0],100), dtype = torch.long)\n",
    "re_scridx = torch.tensor(np.random.randint(0,scr.shape[0],100), dtype = torch.long)\n",
    "re_pt = pt[:,re_tgtidx,:]\n",
    "re_ps = est_trans_pc0[:,re_scridx,:]"
   ]
  },
  {
   "cell_type": "code",
   "execution_count": 107,
   "id": "58f21848",
   "metadata": {},
   "outputs": [],
   "source": [
    "re_idxs =[]\n",
    "pt_indexs = []\n",
    "new_ptfeas = torch.zeros(100, 1024)\n",
    "for i in range(re_pt.shape[1]):\n",
    "    #[k, idx, dist] = bun_pt_tree.search_knn_vector_3d(re_pt[0][i].reshape(3, 1), 256)\n",
    "    [k, idx, dist] = bun_pt_tree.search_radius_vector_3d(re_pt[0][i].reshape(3, 1), 0.01)\n",
    "    t_pt = pt[:,idx,:]\n",
    "    new_ptfeas[i] =  ptnet(t_pt).reshape(1024)\n",
    "    pt_indexs.append(idx)\n",
    "    for j in range(len(idx)):\n",
    "        re_idxs.append(idx[j])\n",
    "#    break"
   ]
  },
  {
   "cell_type": "code",
   "execution_count": 130,
   "id": "230496d5",
   "metadata": {},
   "outputs": [],
   "source": [
    "bun_pt.paint_uniform_color([0.5, 0.5, 0.5])\n",
    "np.asarray(bun_pt.colors)[re_idxs[:], :] = [255/255, 127/255, 39/255]\n",
    "o3d.visualization.draw_geometries([bun_pt])"
   ]
  },
  {
   "cell_type": "code",
   "execution_count": 109,
   "id": "2118fc90",
   "metadata": {},
   "outputs": [],
   "source": [
    "re_psidxs =[]\n",
    "ps_indexs = []\n",
    "new_psfeas = torch.zeros(100, 1024)\n",
    "for i in range(re_ps.shape[1]):\n",
    "    #[k, idx, dist] = est_bupt_tree.search_knn_vector_3d(re_ps[0][i].reshape(3, 1), 256)\n",
    "    [k, idx, dist] = est_bupt_tree.search_radius_vector_3d(re_ps[0][i].reshape(3, 1), 0.01)\n",
    "    t_ps = est_trans_pc0[:,idx,:]\n",
    "    new_psfeas[i] =  ptnet(t_ps).reshape(1024)\n",
    "    ps_indexs.append(idx)\n",
    "    for j in range(len(idx)):\n",
    "        re_psidxs.append(idx[j])\n",
    "#    break"
   ]
  },
  {
   "cell_type": "code",
   "execution_count": 129,
   "id": "7ea3b657",
   "metadata": {},
   "outputs": [],
   "source": [
    "est_bupt.paint_uniform_color([0.5, 0.5, 0.5])\n",
    "np.asarray(est_bupt.colors)[re_psidxs[:], :] = [255/255, 127/255, 39/255]\n",
    "o3d.visualization.draw_geometries([est_bupt])"
   ]
  },
  {
   "cell_type": "code",
   "execution_count": 111,
   "id": "75426232",
   "metadata": {},
   "outputs": [],
   "source": [
    "#pt_feas, ps_feas = bu_feas['pt_feas'], bu_feas['ps_feas']\n",
    "ptfea_tree = KDTree(new_ptfeas.detach().numpy())"
   ]
  },
  {
   "cell_type": "code",
   "execution_count": 112,
   "id": "fd0e6421",
   "metadata": {},
   "outputs": [],
   "source": [
    "correspond = []\n",
    "dists = []\n",
    "#K = 3\n",
    "for i, fea in enumerate(new_psfeas):\n",
    "    #idx = ptfea_tree.query_radius(fea.detach().numpy().reshape(1, -1), r=1)\n",
    "    dist, idx = ptfea_tree.query(fea.detach().numpy().reshape(1, -1), k=1) \n",
    "    # = tup[0], tup[1]\n",
    "    dists.append((i, dist, idx))\n",
    "#    for j in range(idx[0].shape[-1]):\n",
    "#        correspond.append([i, idx[0][j]])  #, dist[0][j]])"
   ]
  },
  {
   "cell_type": "code",
   "execution_count": 50,
   "id": "9a9240df",
   "metadata": {
    "collapsed": true
   },
   "outputs": [
    {
     "ename": "IndexError",
     "evalue": "too many indices for array: array is 1-dimensional, but 2 were indexed",
     "output_type": "error",
     "traceback": [
      "\u001b[1;31m---------------------------------------------------------------------------\u001b[0m",
      "\u001b[1;31mIndexError\u001b[0m                                Traceback (most recent call last)",
      "\u001b[1;32m<ipython-input-50-a580d9eab956>\u001b[0m in \u001b[0;36m<module>\u001b[1;34m()\u001b[0m\n\u001b[0;32m      1\u001b[0m \u001b[0mcorrespondences\u001b[0m \u001b[1;33m=\u001b[0m \u001b[0mnp\u001b[0m\u001b[1;33m.\u001b[0m\u001b[0marray\u001b[0m\u001b[1;33m(\u001b[0m\u001b[0mcorrespond\u001b[0m\u001b[1;33m)\u001b[0m\u001b[1;33m\u001b[0m\u001b[0m\n\u001b[1;32m----> 2\u001b[1;33m \u001b[0mps_idx\u001b[0m \u001b[1;33m=\u001b[0m \u001b[0mlist\u001b[0m\u001b[1;33m(\u001b[0m\u001b[0mset\u001b[0m\u001b[1;33m(\u001b[0m\u001b[0mcorrespondences\u001b[0m\u001b[1;33m[\u001b[0m\u001b[1;33m:\u001b[0m\u001b[1;33m,\u001b[0m\u001b[1;36m0\u001b[0m\u001b[1;33m]\u001b[0m\u001b[1;33m.\u001b[0m\u001b[0mtolist\u001b[0m\u001b[1;33m(\u001b[0m\u001b[1;33m)\u001b[0m\u001b[1;33m)\u001b[0m\u001b[1;33m)\u001b[0m\u001b[1;33m\u001b[0m\u001b[0m\n\u001b[0m\u001b[0;32m      3\u001b[0m \u001b[0mpt_idx\u001b[0m \u001b[1;33m=\u001b[0m \u001b[0mlist\u001b[0m\u001b[1;33m(\u001b[0m\u001b[0mset\u001b[0m\u001b[1;33m(\u001b[0m\u001b[0mcorrespondences\u001b[0m\u001b[1;33m[\u001b[0m\u001b[1;33m:\u001b[0m\u001b[1;33m,\u001b[0m\u001b[1;36m1\u001b[0m\u001b[1;33m]\u001b[0m\u001b[1;33m.\u001b[0m\u001b[0mtolist\u001b[0m\u001b[1;33m(\u001b[0m\u001b[1;33m)\u001b[0m\u001b[1;33m)\u001b[0m\u001b[1;33m)\u001b[0m\u001b[1;33m\u001b[0m\u001b[0m\n",
      "\u001b[1;31mIndexError\u001b[0m: too many indices for array: array is 1-dimensional, but 2 were indexed"
     ]
    }
   ],
   "source": [
    "correspondences = np.array(correspond)\n",
    "ps_idx = list(set(correspondences[:,0].tolist()))\n",
    "pt_idx = list(set(correspondences[:,1].tolist()))\n",
    "len(pt_idx), len(ps_idx)"
   ]
  },
  {
   "cell_type": "code",
   "execution_count": 76,
   "id": "cba087b1",
   "metadata": {},
   "outputs": [],
   "source": [
    "bun_pt.paint_uniform_color([0.5, 0.5, 0.5])\n",
    "est_bupt.paint_uniform_color([0.5, 0.5, 0.5])\n",
    "np.asarray(bun_pt.colors)[pt_idx[:], :] = [1, 0, 0]\n",
    "np.asarray(est_bupt.colors)[ps_idx[:], :] = [0, 0, 1]\n",
    "o3d.visualization.draw_geometries([bun_pt, est_bupt])"
   ]
  },
  {
   "cell_type": "code",
   "execution_count": 22,
   "id": "9da616e3",
   "metadata": {},
   "outputs": [],
   "source": [
    "esttgt = np.asarray(est_bupt.points)\n",
    "centroid_scr = np.mean(esttgt, axis=0).reshape(1,3)\n",
    "centroid_tgt = np.mean(tgt, axis=0).reshape(1,3)\n",
    "scrpoints = np.concatenate((esttgt, centroid_scr), axis = 0)\n",
    "tgtpoints = np.concatenate((tgt, centroid_tgt), axis = 0)\n",
    "est_bupt.points = o3d.utility.Vector3dVector(scrpoints.reshape(-1, 3))\n",
    "bun_pt.points = o3d.utility.Vector3dVector(tgtpoints.reshape(-1, 3))"
   ]
  },
  {
   "cell_type": "code",
   "execution_count": 24,
   "id": "9bfded3e",
   "metadata": {},
   "outputs": [],
   "source": [
    "bun_pt.paint_uniform_color([0.5, 0.5, 0.5])\n",
    "est_bupt.paint_uniform_color([0.5, 0.5, 0.5])\n",
    "bun_pt.colors[-1] = [1, 0, 0]\n",
    "est_bupt.colors[-1] = [0, 0, 1]\n",
    "o3d.visualization.draw_geometries([bun_pt, est_bupt])"
   ]
  },
  {
   "cell_type": "code",
   "execution_count": 74,
   "id": "c823681f",
   "metadata": {},
   "outputs": [],
   "source": [
    "sam_tgt = tgt[pt_idx[1], :]\n",
    "sam_tgt.reshape(1,3)\n",
    "#[k, idx, dist] = bun_pt_tree.search_knn_vector_3d(sam_tgt.reshape(3,1), 100)\n",
    "[k, ptid, dist] = bun_pt_tree.search_radius_vector_3d(sam_tgt.reshape(3,1), 0.01)"
   ]
  },
  {
   "cell_type": "code",
   "execution_count": 56,
   "id": "0cd30988",
   "metadata": {
    "collapsed": true
   },
   "outputs": [
    {
     "ename": "ValueError",
     "evalue": "cannot reshape array of size 1 into shape (1,3)",
     "output_type": "error",
     "traceback": [
      "\u001b[1;31m---------------------------------------------------------------------------\u001b[0m",
      "\u001b[1;31mValueError\u001b[0m                                Traceback (most recent call last)",
      "\u001b[1;32m<ipython-input-56-8093c7460563>\u001b[0m in \u001b[0;36m<module>\u001b[1;34m()\u001b[0m\n\u001b[0;32m      2\u001b[0m \u001b[0midxs_pt\u001b[0m \u001b[1;33m=\u001b[0m \u001b[1;33m[\u001b[0m\u001b[1;33m]\u001b[0m\u001b[1;33m\u001b[0m\u001b[0m\n\u001b[0;32m      3\u001b[0m \u001b[1;32mfor\u001b[0m \u001b[0mi\u001b[0m \u001b[1;32min\u001b[0m \u001b[0mrange\u001b[0m\u001b[1;33m(\u001b[0m\u001b[0msam_tgt\u001b[0m\u001b[1;33m.\u001b[0m\u001b[0mshape\u001b[0m\u001b[1;33m[\u001b[0m\u001b[1;36m0\u001b[0m\u001b[1;33m]\u001b[0m\u001b[1;33m)\u001b[0m\u001b[1;33m:\u001b[0m\u001b[1;33m\u001b[0m\u001b[0m\n\u001b[1;32m----> 4\u001b[1;33m     \u001b[1;33m[\u001b[0m\u001b[0mk\u001b[0m\u001b[1;33m,\u001b[0m \u001b[0midx\u001b[0m\u001b[1;33m,\u001b[0m \u001b[0mdist\u001b[0m\u001b[1;33m]\u001b[0m \u001b[1;33m=\u001b[0m \u001b[0mbun_pt_tree\u001b[0m\u001b[1;33m.\u001b[0m\u001b[0msearch_knn_vector_3d\u001b[0m\u001b[1;33m(\u001b[0m\u001b[0msam_tgt\u001b[0m\u001b[1;33m[\u001b[0m\u001b[0mi\u001b[0m\u001b[1;33m]\u001b[0m\u001b[1;33m.\u001b[0m\u001b[0mreshape\u001b[0m\u001b[1;33m(\u001b[0m\u001b[1;36m1\u001b[0m\u001b[1;33m,\u001b[0m\u001b[1;36m3\u001b[0m\u001b[1;33m)\u001b[0m\u001b[1;33m,\u001b[0m \u001b[1;36m100\u001b[0m\u001b[1;33m)\u001b[0m\u001b[1;33m\u001b[0m\u001b[0m\n\u001b[0m\u001b[0;32m      5\u001b[0m     \u001b[1;31m#[k, idx, dist] = bun_pt_tree.search_radius_vector_3d(sam_tgt[i], 0.01)\u001b[0m\u001b[1;33m\u001b[0m\u001b[1;33m\u001b[0m\u001b[0m\n\u001b[0;32m      6\u001b[0m     \u001b[1;32mfor\u001b[0m \u001b[0mj\u001b[0m \u001b[1;32min\u001b[0m \u001b[0mrange\u001b[0m\u001b[1;33m(\u001b[0m\u001b[0mlen\u001b[0m\u001b[1;33m(\u001b[0m\u001b[0midx\u001b[0m\u001b[1;33m)\u001b[0m\u001b[1;33m)\u001b[0m\u001b[1;33m:\u001b[0m\u001b[1;33m\u001b[0m\u001b[0m\n",
      "\u001b[1;31mValueError\u001b[0m: cannot reshape array of size 1 into shape (1,3)"
     ]
    }
   ],
   "source": [
    "sam_tgt = tgt[pt_idx[1], :]\n",
    "idxs_pt = []\n",
    "for i in range(sam_tgt.shape[0]):\n",
    "    #[k, idx, dist] = bun_pt_tree.search_knn_vector_3d(sam_tgt[i].reshape(1,3), 100)\n",
    "    [k, idx, dist] = bun_pt_tree.search_radius_vector_3d(sam_tgt[i], 0.01)\n",
    "    for j in range(len(idx)):\n",
    "        idxs_pt.append(idx[j])"
   ]
  },
  {
   "cell_type": "code",
   "execution_count": 70,
   "id": "15965512",
   "metadata": {},
   "outputs": [],
   "source": [
    "bun_pt.paint_uniform_color([0.5, 0.5, 0.5])\n",
    "np.asarray(bun_pt.colors)[idx[0:], :] = [255/255, 127/255, 39/255]\n",
    "o3d.visualization.draw_geometries([bun_pt])"
   ]
  },
  {
   "cell_type": "code",
   "execution_count": 75,
   "id": "04d32d84",
   "metadata": {},
   "outputs": [],
   "source": [
    "sam_scr = scr[ps_idx[1], :]\n",
    "#[k, idx, dist] = bun_pt_tree.search_knn_vector_3d(sam_tgt.reshape(3,1), 100)\n",
    "[k, psid, dist] = bun_ps_tree.search_radius_vector_3d(sam_scr.reshape(3,1), 0.01)"
   ]
  },
  {
   "cell_type": "code",
   "execution_count": 48,
   "id": "4d3ea1a6",
   "metadata": {},
   "outputs": [],
   "source": [
    "sam_scr = scr[ps_idx, :]\n",
    "idxs_ps = []\n",
    "for i in range(sam_scr.shape[0]):\n",
    "    #[k, idx, dist] = bun_ps_tree.search_knn_vector_3d(sam_scr[i], 100)\n",
    "    [k, idx, dist] = bun_ps_tree.search_radius_vector_3d(sam_scr[i], 0.01)\n",
    "    for j in range(len(idx)):\n",
    "        idxs_ps.append(idx[j]) "
   ]
  },
  {
   "cell_type": "code",
   "execution_count": 72,
   "id": "b89d339e",
   "metadata": {},
   "outputs": [],
   "source": [
    "bun_ps.paint_uniform_color([0.5, 0.5, 0.5])\n",
    "np.asarray(bun_ps.colors)[idxs_ps[0:], :] = [160/255, 255/255, 249/255]\n",
    "o3d.visualization.draw_geometries([bun_pt, bun_ps])"
   ]
  },
  {
   "cell_type": "code",
   "execution_count": 76,
   "id": "398208b3",
   "metadata": {},
   "outputs": [],
   "source": [
    "tgtidx = torch.tensor(np.random.randint(0,tgt.shape[0],1024), dtype = torch.long)\n",
    "scridx = torch.tensor(np.random.randint(0,scr.shape[0],1024), dtype = torch.long)\n",
    "fi_pt = pt[:,ptid,:]\n",
    "fi_ps = est_trans_pc0[:,psid,:]"
   ]
  },
  {
   "cell_type": "code",
   "execution_count": 36,
   "id": "70c5f806",
   "metadata": {},
   "outputs": [],
   "source": [
    "with torch.no_grad():\n",
    "    fi_est_g, fi_r, fi_f_series, fi_feas = act.do_estimate(est_trans_pc0, pt, model, args.device)"
   ]
  },
  {
   "cell_type": "code",
   "execution_count": 79,
   "id": "e140d2e9",
   "metadata": {},
   "outputs": [],
   "source": [
    "with torch.no_grad():\n",
    "    fi_est_g, fi_r, fi_f_series, fi_feas = act.do_estimate(fi_pt, fi_ps, model, args.device)"
   ]
  },
  {
   "cell_type": "markdown",
   "id": "8ff4075d",
   "metadata": {},
   "source": [
    "# dragonStand"
   ]
  },
  {
   "cell_type": "code",
   "execution_count": 21,
   "id": "2f50d5fc",
   "metadata": {},
   "outputs": [],
   "source": [
    "sol = np.array([-0.0010015778, -3.7185848e-05, -0.00049660774, 0.00065300596, -0.40700561, 0.0014209391, 0.91342431])         #48\n",
    "#sol = np.array([-0.0011086911, -0.0001244843, 9.4951596e-05, 0.0009286101, -0.58797526, 0.0021693073, 0.8088755])         #72\n",
    "r = Rotation.from_quat(sol[3:])\n",
    "rot = r.as_matrix()\n",
    "trans = sol[:3]\n",
    "G = np.concatenate((rot.T, trans.reshape(3, -1)), axis = 1)\n",
    "G = np.concatenate((G, [[0.,0.,0.,1.]]), axis = 0)"
   ]
  },
  {
   "cell_type": "code",
   "execution_count": 22,
   "id": "b07508ef",
   "metadata": {},
   "outputs": [
    {
     "data": {
      "text/plain": [
       "array([  0.26796503, -48.03348845,   0.20132109])"
      ]
     },
     "execution_count": 22,
     "metadata": {},
     "output_type": "execute_result"
    }
   ],
   "source": [
    "r.as_euler('zyx', degrees=True)"
   ]
  },
  {
   "cell_type": "code",
   "execution_count": 6,
   "id": "454605ca",
   "metadata": {},
   "outputs": [],
   "source": [
    "DS_pt = o3d.io.read_point_cloud(r'C:\\Users\\fcky\\Desktop\\3D\\dragon_stand\\dragonStandRight_0.ply')\n",
    "DS_ps = o3d.io.read_point_cloud(r'C:\\Users\\fcky\\Desktop\\3D\\dragon_stand\\dragonStandRight_48.ply')\n",
    "tgt = np.asarray(DS_pt.points)\n",
    "scr = np.asarray(DS_ps.points)\n",
    "tgt_sorted = np.array(sorted(tgt.tolist(), key=lambda x:(x[0], x[1])))\n",
    "scr_sorted = np.array(sorted(scr.tolist(), key=lambda x:(x[0], x[1])))\n",
    "pt = torch.tensor(tgt_sorted).unsqueeze(0).contiguous().to(torch.float32)\n",
    "ps = torch.tensor(scr_sorted).unsqueeze(0).contiguous().to(torch.float32)\n",
    "DS_pt_tree = o3d.geometry.KDTreeFlann(DS_pt)"
   ]
  },
  {
   "cell_type": "code",
   "execution_count": 7,
   "id": "e8c3f1ec",
   "metadata": {},
   "outputs": [],
   "source": [
    "# 原图像\n",
    "DS_pt.paint_uniform_color([255/255, 127/255, 39/255])\n",
    "DS_pt.estimate_normals(search_param=o3d.geometry.KDTreeSearchParamHybrid(radius=0.1, max_nn=30))\n",
    "DS_pt.orient_normals_to_align_with_direction()\n",
    "DS_ps.paint_uniform_color([160/255, 255/255, 249/255])\n",
    "DS_ps.estimate_normals(search_param=o3d.geometry.KDTreeSearchParamHybrid(radius=0.1, max_nn=30))\n",
    "DS_ps.orient_normals_to_align_with_direction()\n",
    "o3d.visualization.draw_geometries([DS_pt, DS_ps])"
   ]
  },
  {
   "cell_type": "code",
   "execution_count": 8,
   "id": "4eb174cf",
   "metadata": {},
   "outputs": [
    {
     "data": {
      "text/plain": [
       "0.8585008147745791"
      ]
     },
     "execution_count": 8,
     "metadata": {},
     "output_type": "execute_result"
    }
   ],
   "source": [
    "DS_ps.transform(G)\n",
    "count = 0\n",
    "idxs_pt = []\n",
    "idxs_ps = []\n",
    "for i in range(len(DS_ps.points)):\n",
    "    #[k, idx, dist] = HS_pt_tree.search_knn_vector_3d(HS_ps.points[i], 1)\n",
    "    [k, idx, dist] = DS_pt_tree.search_radius_vector_3d(DS_ps.points[i], 0.005)\n",
    "    if k!= 0:\n",
    "        count += 1\n",
    "        idxs_pt.append(idx[0])\n",
    "        idxs_ps.append(i)\n",
    "count/len(DS_ps.points)\n",
    "#dist"
   ]
  },
  {
   "cell_type": "code",
   "execution_count": 8,
   "id": "0006a7b3",
   "metadata": {},
   "outputs": [],
   "source": [
    "tgtidx = torch.tensor(np.random.randint(0,tgt.shape[0],1024), dtype = torch.long)\n",
    "scridx = torch.tensor(np.random.randint(0,scr.shape[0],1024), dtype = torch.long)"
   ]
  },
  {
   "cell_type": "code",
   "execution_count": 17,
   "id": "e7047810",
   "metadata": {},
   "outputs": [],
   "source": [
    "pt_kwy = int(tgt.shape[0] / 1024)\n",
    "pt_num = np.random.randint(0, pt_kwy, 1)\n",
    "tgtidx = list(range(pt_num[0], tgt.shape[0], int(pt_kwy+1)))\n",
    "ps_kwy = int(scr.shape[0] / 1024)\n",
    "ps_num = np.random.randint(0, ps_kwy, 1)\n",
    "scridx = list(range(ps_num[0], scr.shape[0], int(ps_kwy+1)))"
   ]
  },
  {
   "cell_type": "code",
   "execution_count": 9,
   "id": "22dabd11",
   "metadata": {},
   "outputs": [],
   "source": [
    "#sampling\n",
    "sampt = pt[:,tgtidx,:]\n",
    "samps = ps[:,scridx,:]\n",
    "with torch.no_grad():\n",
    "    est_g, r = act.do_estimate(sampt, samps, model, args.device)"
   ]
  },
  {
   "cell_type": "code",
   "execution_count": 43,
   "id": "1f085de5",
   "metadata": {},
   "outputs": [],
   "source": [
    "#no sampling\n",
    "with torch.no_grad():\n",
    "    est_g, ds_r = act.do_estimate(pt, ps, model, args.device)"
   ]
  },
  {
   "cell_type": "code",
   "execution_count": 10,
   "id": "9e7953cd",
   "metadata": {},
   "outputs": [
    {
     "data": {
      "text/plain": [
       "(22092, 3)"
      ]
     },
     "execution_count": 10,
     "metadata": {},
     "output_type": "execute_result"
    }
   ],
   "source": [
    "g_hat = est_g.cpu().contiguous().view(-1, 4, 4)\n",
    "est_trans_pt = ptlk.se3.transform(g_hat.to(ps), ps.transpose(1,2).contiguous()).transpose(1,2).contiguous()\n",
    "est_pt = est_trans_pt[0].detach().numpy()\n",
    "est_pt.shape"
   ]
  },
  {
   "cell_type": "code",
   "execution_count": 11,
   "id": "44ee07e3",
   "metadata": {},
   "outputs": [
    {
     "data": {
      "text/plain": [
       "PointCloud with 22092 points."
      ]
     },
     "execution_count": 11,
     "metadata": {},
     "output_type": "execute_result"
    }
   ],
   "source": [
    "est_DSpt = o3d.geometry.PointCloud()\n",
    "est_DSpt.points = o3d.utility.Vector3dVector(est_pt.reshape(-1, 3))\n",
    "est_DSpt.estimate_normals(search_param=o3d.geometry.KDTreeSearchParamHybrid(radius=0.1, max_nn=30))\n",
    "est_DSpt.orient_normals_to_align_with_direction()\n",
    "est_DSpt.paint_uniform_color([160/255, 255/255, 249/255])"
   ]
  },
  {
   "cell_type": "code",
   "execution_count": 12,
   "id": "b94eeab0",
   "metadata": {},
   "outputs": [],
   "source": [
    "o3d.visualization.draw_geometries([DS_pt, est_DSpt])"
   ]
  },
  {
   "cell_type": "markdown",
   "id": "0fe5be32",
   "metadata": {},
   "source": [
    "### error"
   ]
  },
  {
   "cell_type": "code",
   "execution_count": 13,
   "id": "9ea84623",
   "metadata": {},
   "outputs": [],
   "source": [
    "est_rot = est_g[:, 0:3, 0:3].reshape(3, 3).numpy()\n",
    "est_trans = est_g[:, 0:3, 3].reshape(3, 1).numpy()\n",
    "gt_rot = G[0:3, 0:3]\n",
    "gt_trans = G[0:3, 3].reshape(3, 1)"
   ]
  },
  {
   "cell_type": "code",
   "execution_count": 14,
   "id": "97789cdd",
   "metadata": {},
   "outputs": [],
   "source": [
    "test_r_mse = np.mean((gt_rot - est_rot) ** 2)\n",
    "test_r_rmse = np.sqrt(test_r_mse)\n",
    "test_r_mae = np.mean(np.abs(gt_rot - est_rot))\n",
    "test_t_mse = np.mean((gt_trans - est_trans) ** 2)\n",
    "test_t_rmse = np.sqrt(test_t_mse)\n",
    "test_t_mae = np.mean(np.abs(gt_trans - est_trans))"
   ]
  },
  {
   "cell_type": "code",
   "execution_count": 15,
   "id": "135fb0c1",
   "metadata": {},
   "outputs": [
    {
     "name": "stdout",
     "output_type": "stream",
     "text": [
      "test_r_mse:0.000222,test_r_rmse:0.014883,test_r_mae:0.011403 test_t_mse:0.000007,test_t_rmse:0.002725,test_t_mae:0.002415\n"
     ]
    }
   ],
   "source": [
    "message_r = 'test_r_mse:{:.6f},test_r_rmse:{:.6f},test_r_mae:{:.6f}'.format(test_r_mse, test_r_rmse, test_r_mae)\n",
    "message_t = 'test_t_mse:{:.6f},test_t_rmse:{:.6f},test_t_mae:{:.6f}'.format(test_t_mse, test_t_rmse, test_t_mae)\n",
    "print(message_r, message_t)"
   ]
  },
  {
   "cell_type": "code",
   "execution_count": 62,
   "id": "89d7082a",
   "metadata": {},
   "outputs": [
    {
     "name": "stdout",
     "output_type": "stream",
     "text": [
      "test_r_mse:0.000354,test_r_rmse:0.018825,test_r_mae:0.016658 test_t_mse:0.000001,test_t_rmse:0.000927,test_t_mae:0.000762\n"
     ]
    }
   ],
   "source": [
    "message_r = 'test_r_mse:{:.6f},test_r_rmse:{:.6f},test_r_mae:{:.6f}'.format(test_r_mse, test_r_rmse, test_r_mae)\n",
    "message_t = 'test_t_mse:{:.6f},test_t_rmse:{:.6f},test_t_mae:{:.6f}'.format(test_t_mse, test_t_rmse, test_t_mae)\n",
    "print(message_r, message_t)"
   ]
  },
  {
   "cell_type": "code",
   "execution_count": 16,
   "id": "cacc4219",
   "metadata": {},
   "outputs": [],
   "source": [
    "# writing files\n",
    "fname_t = r'C:\\Users\\fcky\\Desktop\\PointNetLK-master1\\results/pt.txt'\n",
    "fname_s = r'C:\\Users\\fcky\\Desktop\\PointNetLK-master1\\results/est_pt.txt'\n",
    "with open(fname_s, 'w') as fout:\n",
    "    for i in range(est_pt.shape[0]):\n",
    "        print(' '.join(map(str, est_pt.reshape(-1, 3)[i])), file=fout)\n",
    "with open(fname_t, 'w') as fout:\n",
    "    for i in range(tgt.shape[0]):\n",
    "        print(' '.join(map(str, tgt.reshape(-1, 3)[i])), file=fout)"
   ]
  },
  {
   "cell_type": "markdown",
   "id": "3ca2cab2",
   "metadata": {},
   "source": [
    "# Bird"
   ]
  },
  {
   "cell_type": "code",
   "execution_count": 5,
   "id": "b0123c28",
   "metadata": {},
   "outputs": [],
   "source": [
    "def readasc(fpath):\n",
    "    with open(fpath, 'r') as fin:\n",
    "        pcd = []\n",
    "        sig = fin.readline().strip()\n",
    "        for v in range(int(sig)):\n",
    "            vp = tuple(float(s) for s in fin.readline().strip().split('\\t'))\n",
    "            pcd.append(vp)\n",
    "    pcd0 = np.array(pcd)\n",
    "    return pcd0\n",
    "\n",
    "def unit(pcd):\n",
    "    c = np.max(pcd, axis = 0) - np.min(pcd, axis = 0)\n",
    "    s = np.max(c)\n",
    "    v = pcd / s\n",
    "    return v - v.mean(axis = 0)"
   ]
  },
  {
   "cell_type": "code",
   "execution_count": 54,
   "id": "d179fffc",
   "metadata": {},
   "outputs": [],
   "source": [
    "tgt = readasc(r'C:\\Users\\fcky\\Desktop\\3D\\DaiMa\\EBABC_Kuang\\angel-deg0.asc')\n",
    "scr = readasc(r'C:\\Users\\fcky\\Desktop\\3D\\DaiMa\\EBABC_Kuang\\angel-deg40.asc')\n",
    "tgt = unit(tgt)\n",
    "scr = unit(scr)"
   ]
  },
  {
   "cell_type": "code",
   "execution_count": 55,
   "id": "1991bcfb",
   "metadata": {},
   "outputs": [],
   "source": [
    "ptpcd = o3d.geometry.PointCloud()\n",
    "ptpcd.points = o3d.utility.Vector3dVector(tgt.reshape(-1, 3))\n",
    "ptpcd.estimate_normals(search_param=o3d.geometry.KDTreeSearchParamHybrid(radius=0.1, max_nn=30))\n",
    "ptpcd.orient_normals_to_align_with_direction()\n",
    "ptpcd.paint_uniform_color([255/255, 127/255, 39/255])\n",
    "\n",
    "pspcd = o3d.geometry.PointCloud()\n",
    "pspcd.points = o3d.utility.Vector3dVector(scr.reshape(-1, 3))\n",
    "pspcd.estimate_normals(search_param=o3d.geometry.KDTreeSearchParamHybrid(radius=0.1, max_nn=30))\n",
    "pspcd.orient_normals_to_align_with_direction()\n",
    "pspcd.paint_uniform_color([160/255, 255/255, 249/255])\n",
    "\n",
    "o3d.visualization.draw_geometries([ptpcd, pspcd]) "
   ]
  },
  {
   "cell_type": "code",
   "execution_count": 14,
   "id": "c21f2a9f",
   "metadata": {},
   "outputs": [],
   "source": [
    "r = Rotation.from_euler('zyx', [5, 40, 0], degrees=True)\n",
    "rot = r.as_matrix()\n",
    "trans = np.array([0.,0.,0.])\n",
    "G = np.concatenate((rot.T, trans.reshape(3, -1)), axis = 1)\n",
    "G = np.concatenate((G, [[0.,0.,0.,1.]]), axis = 0)"
   ]
  },
  {
   "cell_type": "code",
   "execution_count": 15,
   "id": "1c9bd816",
   "metadata": {},
   "outputs": [
    {
     "name": "stdout",
     "output_type": "stream",
     "text": [
      "[Open3D WARNING] [ViewControl] SetViewPoint() failed because window height and width are not set.\n"
     ]
    }
   ],
   "source": [
    "pspcd.transform(G)\n",
    "o3d.visualization.draw_geometries([ptpcd, pspcd]) "
   ]
  },
  {
   "cell_type": "code",
   "execution_count": null,
   "id": "c7f2d37b",
   "metadata": {},
   "outputs": [],
   "source": [
    "count = 0\n",
    "idxs_pt = []\n",
    "idxs_ps = []\n",
    "for i in range(len(DS_ps.points)):\n",
    "    #[k, idx, dist] = HS_pt_tree.search_knn_vector_3d(HS_ps.points[i], 1)\n",
    "    [k, idx, dist] = DS_pt_tree.search_radius_vector_3d(DS_ps.points[i], 0.005)\n",
    "    if k!= 0:\n",
    "        count += 1\n",
    "        idxs_pt.append(idx[0])\n",
    "        idxs_ps.append(i)\n",
    "count/len(DS_ps.points)\n",
    "#dist"
   ]
  },
  {
   "cell_type": "code",
   "execution_count": 80,
   "id": "7588d359",
   "metadata": {},
   "outputs": [],
   "source": [
    "tgt_sorted = np.array(sorted(tgt.tolist(), key=lambda x:(x[0], x[1])))\n",
    "scr_sorted = np.array(sorted(scr.tolist(), key=lambda x:(x[0], x[1])))\n",
    "pt = torch.tensor(tgt_sorted).unsqueeze(0).contiguous().to(torch.float32)\n",
    "ps = torch.tensor(scr_sorted).unsqueeze(0).contiguous().to(torch.float32)"
   ]
  },
  {
   "cell_type": "code",
   "execution_count": 81,
   "id": "876a0708",
   "metadata": {},
   "outputs": [],
   "source": [
    "tgtidx = torch.tensor(np.random.randint(0,tgt.shape[0],1024), dtype = torch.long)\n",
    "scridx = torch.tensor(np.random.randint(0,scr.shape[0],1024), dtype = torch.long)\n",
    "sampt = pt[:,tgtidx,:]\n",
    "samps = ps[:,scridx,:]"
   ]
  },
  {
   "cell_type": "code",
   "execution_count": 82,
   "id": "f60f744a",
   "metadata": {},
   "outputs": [],
   "source": [
    "#no sampling\n",
    "with torch.no_grad():\n",
    "    est_g, r = act.do_estimate(sampt, samps, model, args.device)"
   ]
  },
  {
   "cell_type": "code",
   "execution_count": 83,
   "id": "52758c8b",
   "metadata": {},
   "outputs": [
    {
     "data": {
      "text/plain": [
       "(13190, 3)"
      ]
     },
     "execution_count": 83,
     "metadata": {},
     "output_type": "execute_result"
    }
   ],
   "source": [
    "g_hat = est_g.cpu().contiguous().view(-1, 4, 4)\n",
    "est_trans_pt = ptlk.se3.transform(g_hat.to(ps), ps.transpose(1,2).contiguous()).transpose(1,2).contiguous()\n",
    "est_pt = est_trans_pt[0].detach().numpy()\n",
    "est_pt.shape"
   ]
  },
  {
   "cell_type": "code",
   "execution_count": 84,
   "id": "666402c3",
   "metadata": {},
   "outputs": [
    {
     "data": {
      "text/plain": [
       "PointCloud with 13190 points."
      ]
     },
     "execution_count": 84,
     "metadata": {},
     "output_type": "execute_result"
    }
   ],
   "source": [
    "est_ptpcd = o3d.geometry.PointCloud()\n",
    "est_ptpcd.points = o3d.utility.Vector3dVector(est_pt.reshape(-1, 3))\n",
    "est_ptpcd.estimate_normals(search_param=o3d.geometry.KDTreeSearchParamHybrid(radius=0.1, max_nn=30))\n",
    "est_ptpcd.orient_normals_to_align_with_direction()\n",
    "est_ptpcd.paint_uniform_color([160/255, 255/255, 249/255])"
   ]
  },
  {
   "cell_type": "code",
   "execution_count": 85,
   "id": "7370c66b",
   "metadata": {},
   "outputs": [],
   "source": [
    "o3d.visualization.draw_geometries([ptpcd, est_ptpcd])"
   ]
  },
  {
   "cell_type": "code",
   "execution_count": 83,
   "id": "4fc64e4a",
   "metadata": {},
   "outputs": [],
   "source": [
    "def write(fname_tem, fname_est, pc_tem, pc_est):\n",
    "    with open(fname_est, 'w') as fout:\n",
    "        for i in range(pc_est.shape[0]):\n",
    "            print(' '.join(map(str, pc_est[i]))+' '+'80 167 73',file=fout)   #变换后的源：绿色\n",
    "            \n",
    "    with open(fname_tem, 'w') as fout:\n",
    "        for i in range(pc_tem.shape[0]):\n",
    "            print(' '.join(map(str, pc_tem[i]))+' '+'243 223 131',file=fout)  #模板：黄色"
   ]
  },
  {
   "cell_type": "code",
   "execution_count": 84,
   "id": "e554a2f1",
   "metadata": {},
   "outputs": [],
   "source": [
    "fname_t = r'C:\\Users\\fcky\\Desktop\\PointNetLK-master1\\results/pt.txt'\n",
    "fname_s = r'C:\\Users\\fcky\\Desktop\\PointNetLK-master1\\results/est_pt.txt'\n",
    "\n",
    "write(fname_t, fname_s, tgt, est_pt)"
   ]
  },
  {
   "cell_type": "code",
   "execution_count": 86,
   "id": "d7c93dd8",
   "metadata": {},
   "outputs": [],
   "source": [
    "#angel\n",
    "G = np.array([[0.764735579491, 0.148309335113, -0.627043724060, -0.082956433296],\n",
    "            [-0.152645140886, 0.987147688866, 0.047317363322, 0.013409459963],\n",
    "            [0.626002371311, 0.059529908001, 0.777545630932, 0.008217109367],\n",
    "            [0.000000000000, 0.000000000000, 0.000000000000, 1.000000000000]])"
   ]
  },
  {
   "cell_type": "code",
   "execution_count": 22,
   "id": "2a52e09a",
   "metadata": {},
   "outputs": [],
   "source": [
    "#tele\n",
    "G = np.array([[0.807809889317, 0.207861557603, -0.551576614380, -0.066947236657],\n",
    "              [-0.198102071881, 0.977066755295, 0.078077659011, 0.005881545600],\n",
    "              [0.555156469345, 0.046196557581, 0.830461978912, 0.006951204035],\n",
    "              [0.000000000000, 0.000000000000, 0.000000000000, 1.000000000000]])"
   ]
  },
  {
   "cell_type": "code",
   "execution_count": 87,
   "id": "6fbc9039",
   "metadata": {},
   "outputs": [],
   "source": [
    "est_rot = est_g[:, 0:3, 0:3].reshape(3, 3).numpy()\n",
    "est_trans = est_g[:, 0:3, 3].reshape(3, 1).numpy()\n",
    "gt_rot = G[0:3, 0:3]\n",
    "gt_trans = G[0:3, 3].reshape(3, 1)"
   ]
  },
  {
   "cell_type": "code",
   "execution_count": 88,
   "id": "a9252827",
   "metadata": {},
   "outputs": [],
   "source": [
    "test_r_mse = np.mean((gt_rot - est_rot) ** 2)\n",
    "test_r_rmse = np.sqrt(test_r_mse)\n",
    "test_r_mae = np.mean(np.abs(gt_rot - est_rot))\n",
    "test_t_mse = np.mean((gt_trans - est_trans) ** 2)\n",
    "test_t_rmse = np.sqrt(test_t_mse)\n",
    "test_t_mae = np.mean(np.abs(gt_trans - est_trans))"
   ]
  },
  {
   "cell_type": "code",
   "execution_count": 89,
   "id": "13584db1",
   "metadata": {},
   "outputs": [
    {
     "name": "stdout",
     "output_type": "stream",
     "text": [
      "test_r_mse:0.0006,test_r_rmse:0.0235,test_r_mae:0.0204 test_t_mse:0.0001,test_t_rmse:0.0077,test_t_mae:0.0075\n"
     ]
    }
   ],
   "source": [
    "message_r = 'test_r_mse:{:.4f},test_r_rmse:{:.4f},test_r_mae:{:.4f}'.format(test_r_mse, test_r_rmse, test_r_mae)\n",
    "message_t = 'test_t_mse:{:.4f},test_t_rmse:{:.4f},test_t_mae:{:.4f}'.format(test_t_mse, test_t_rmse, test_t_mae)\n",
    "print(message_r, message_t)"
   ]
  },
  {
   "cell_type": "markdown",
   "id": "e0b8b2d3",
   "metadata": {},
   "source": [
    "# ModelNet40"
   ]
  },
  {
   "cell_type": "code",
   "execution_count": 5,
   "id": "6f3e5ac6",
   "metadata": {},
   "outputs": [],
   "source": [
    "import h5py\n",
    "import glob"
   ]
  },
  {
   "cell_type": "code",
   "execution_count": 6,
   "id": "155cfeda",
   "metadata": {},
   "outputs": [],
   "source": [
    "def load_data(partition):\n",
    "    BASE_DIR = r'D:\\SDXX\\data'\n",
    "    all_data = []\n",
    "    all_label = []\n",
    "    for h5_name in glob.glob(os.path.join(BASE_DIR, 'modelnet40_ply_hdf5_2048', 'ply_data_%s*.h5' % partition)):\n",
    "        f = h5py.File(h5_name)\n",
    "        data = f['data'][:].astype('float32')\n",
    "        label = f['label'][:].astype('int64')\n",
    "        f.close()\n",
    "        all_data.append(data)\n",
    "        all_label.append(label)\n",
    "    all_data = np.concatenate(all_data, axis=0)\n",
    "    all_label = np.concatenate(all_label, axis=0)\n",
    "    return all_data, all_label\n",
    "\n",
    "def jitter_pointcloud(pointcloud, sigma=0.01, clip=0.05):\n",
    "    N, C = pointcloud.shape\n",
    "    pointcloud += np.clip(sigma * np.random.randn(N, C), -1 * clip, clip)\n",
    "    return pointcloud"
   ]
  },
  {
   "cell_type": "code",
   "execution_count": 7,
   "id": "54530416",
   "metadata": {},
   "outputs": [],
   "source": [
    "def uniform_2_sphere(num: int = None):\n",
    "    if num is not None:\n",
    "        phi = np.random.uniform(0.0, 2 * np.pi, num)\n",
    "        cos_theta = np.random.uniform(-1.0, 1.0, num)\n",
    "    else:\n",
    "        phi = np.random.uniform(0.0, 2 * np.pi)\n",
    "        cos_theta = np.random.uniform(-1.0, 1.0)\n",
    "\n",
    "    theta = np.arccos(cos_theta)\n",
    "    x = np.sin(theta) * np.cos(phi)\n",
    "    y = np.sin(theta) * np.sin(phi)\n",
    "    z = np.cos(theta)\n",
    "\n",
    "    return np.stack((x, y, z), axis=-1)\n",
    "\n",
    "def crop(points, p_keep):\n",
    "    rand_xyz = uniform_2_sphere()\n",
    "    centroid = np.mean(points[:, :3], axis=0)\n",
    "    points_centered = points[:, :3] - centroid\n",
    "\n",
    "    dist_from_plane = np.dot(points_centered, rand_xyz)\n",
    "    if p_keep == 0.5:\n",
    "        mask = dist_from_plane > 0\n",
    "    else:\n",
    "        mask = dist_from_plane > np.percentile(dist_from_plane, (1.0 - p_keep) * 100)\n",
    "\n",
    "    return points[mask, :]"
   ]
  },
  {
   "cell_type": "code",
   "execution_count": 8,
   "id": "718d78d5",
   "metadata": {},
   "outputs": [],
   "source": [
    "class ModelNet40(torch.utils.data.Dataset):\n",
    "    def __init__(self, partition='train', crop_type=True, gaussian_noise=False, unseen=False, factor=4):\n",
    "        self.data, self.label = load_data(partition)\n",
    "        self.partition = partition\n",
    "        self.gaussian_noise = gaussian_noise\n",
    "        self.unseen = unseen\n",
    "        self.label = self.label.squeeze()\n",
    "        self.factor = factor\n",
    "        self.crop_type = crop_type\n",
    "        if self.unseen:\n",
    "            if self.partition == 'test':\n",
    "                self.data = self.data[self.label>=20]\n",
    "                self.label = self.label[self.label>=20]\n",
    "            elif self.partition == 'train':\n",
    "                self.data = self.data[self.label<20]\n",
    "                self.label = self.label[self.label<20]\n",
    "\n",
    "    def __getitem__(self, item):\n",
    "        pointcloud = self.data[item][:1024]\n",
    "        if self.partition != 'train':\n",
    "            np.random.seed(item)\n",
    "        if self.gaussian_noise:\n",
    "            pointcloud = jitter_pointcloud(pointcloud)\n",
    "        anglex = np.random.uniform() * np.pi / self.factor\n",
    "        angley = np.random.uniform() * np.pi / self.factor\n",
    "        anglez = np.random.uniform() * np.pi / self.factor\n",
    "\n",
    "        cosx = np.cos(anglex)\n",
    "        cosy = np.cos(angley)\n",
    "        cosz = np.cos(anglez)\n",
    "        sinx = np.sin(anglex)\n",
    "        siny = np.sin(angley)\n",
    "        sinz = np.sin(anglez)\n",
    "        Rx = np.array([[1, 0, 0],\n",
    "                 [0, cosx, -sinx],\n",
    "                 [0, sinx, cosx]])\n",
    "        Ry = np.array([[cosy, 0, siny],\n",
    "                 [0, 1, 0],\n",
    "                 [-siny, 0, cosy]])\n",
    "        Rz = np.array([[cosz, -sinz, 0],\n",
    "                 [sinz, cosz, 0],\n",
    "                 [0, 0, 1]])\n",
    "        R = Rx.dot(Ry).dot(Rz)\n",
    "        translation = np.array([np.random.uniform(-0.5, 0.5), np.random.uniform(-0.5, 0.5),\n",
    "                                   np.random.uniform(-0.5, 0.5)])\n",
    "\n",
    "        scr = pointcloud\n",
    "\n",
    "        rotation = Rotation.from_euler('zyx', [anglez, angley, anglex])\n",
    "        tgt = rotation.apply(scr) + translation\n",
    "\n",
    "        if self.crop_type:\n",
    "            scr = crop(scr, 0.8)\n",
    "            tgt = crop(tgt, 0.8)\n",
    "\n",
    "        return scr.astype('float32'), tgt.astype('float32'), R.astype('float32'), \\\n",
    "               translation.astype('float32')\n",
    "\n",
    "    def __len__(self):\n",
    "        return self.data.shape[0]"
   ]
  },
  {
   "cell_type": "markdown",
   "id": "469e1a77",
   "metadata": {},
   "source": [
    "## 重叠率100%"
   ]
  },
  {
   "cell_type": "code",
   "execution_count": 9,
   "id": "bd755e64",
   "metadata": {},
   "outputs": [],
   "source": [
    "testdata = ModelNet40(partition='test', crop_type=False, unseen=True)\n",
    "test_loader = torch.utils.data.DataLoader(\n",
    "        testdata,\n",
    "        batch_size=1, shuffle=False, num_workers=0)"
   ]
  },
  {
   "cell_type": "code",
   "execution_count": 10,
   "id": "985628dc",
   "metadata": {},
   "outputs": [],
   "source": [
    "rotations_est = []\n",
    "translations_est = []\n",
    "rotations_ab = []\n",
    "translations_ab = []\n",
    "with torch.no_grad():\n",
    "    for i, datasets in enumerate(test_loader):\n",
    "        srcpcd, tgtpcd, rotation_ab, translation_ab = datasets\n",
    "        est_g, r = act.do_estimate(tgtpcd, srcpcd, model, args.device)\n",
    "        rotations_est.append(est_g[:, 0:3, 0:3])\n",
    "        translations_est.append(est_g[:, 0:3, 3])\n",
    "        rotations_ab.append(rotation_ab)\n",
    "        translations_ab.append(translation_ab)    "
   ]
  },
  {
   "cell_type": "code",
   "execution_count": 11,
   "id": "cf58d8c3",
   "metadata": {},
   "outputs": [],
   "source": [
    "rot_est = np.concatenate(rotations_est, axis=0)\n",
    "trans_est = np.concatenate(translations_est, axis=0)\n",
    "rot_ab = np.concatenate(rotations_ab, axis=0)\n",
    "trans_ab = np.concatenate(translations_ab, axis=0)"
   ]
  },
  {
   "cell_type": "code",
   "execution_count": 12,
   "id": "a22edb9e",
   "metadata": {},
   "outputs": [],
   "source": [
    "test_r_mse = np.mean((rot_ab - rot_est) ** 2)\n",
    "test_r_rmse = np.sqrt(test_r_mse)\n",
    "test_r_mae = np.mean(np.abs(rot_ab - rot_est))\n",
    "test_t_mse = np.mean((trans_ab - trans_est) ** 2)\n",
    "test_t_rmse = np.sqrt(test_t_mse)\n",
    "test_t_mae = np.mean(np.abs(trans_ab - trans_est))"
   ]
  },
  {
   "cell_type": "code",
   "execution_count": 13,
   "id": "e4e5ac4f",
   "metadata": {},
   "outputs": [
    {
     "name": "stdout",
     "output_type": "stream",
     "text": [
      "test_r_mse:0.036270,test_r_rmse:0.190447,test_r_mae:0.047239 test_t_mse:0.001458,test_t_rmse:0.038180,test_t_mae:0.007684\n"
     ]
    }
   ],
   "source": [
    "message_r = 'test_r_mse:{:.6f},test_r_rmse:{:.6f},test_r_mae:{:.6f}'.format(test_r_mse, test_r_rmse, test_r_mae)\n",
    "message_t = 'test_t_mse:{:.6f},test_t_rmse:{:.6f},test_t_mae:{:.6f}'.format(test_t_mse, test_t_rmse, test_t_mae)\n",
    "print(message_r, message_t)"
   ]
  },
  {
   "cell_type": "markdown",
   "id": "46e8e780",
   "metadata": {},
   "source": [
    "## 重叠率<100%"
   ]
  },
  {
   "cell_type": "code",
   "execution_count": 9,
   "id": "49b6414c",
   "metadata": {},
   "outputs": [],
   "source": [
    "pat_testdata = ModelNet40(partition='test', crop_type=True, gaussian_noise=True, unseen=True)\n",
    "par_testloader = torch.utils.data.DataLoader(\n",
    "        pat_testdata,\n",
    "        batch_size=1, shuffle=False, num_workers=0)"
   ]
  },
  {
   "cell_type": "code",
   "execution_count": 13,
   "id": "9347fe42",
   "metadata": {},
   "outputs": [
    {
     "data": {
      "text/plain": [
       "torch.Size([1, 819, 3])"
      ]
     },
     "execution_count": 13,
     "metadata": {},
     "output_type": "execute_result"
    }
   ],
   "source": [
    "for i, datasets in enumerate(par_testloader):\n",
    "    srcpcd, tgtpcd, rotation_ab, translation_ab = datasets\n",
    "    break\n",
    "srcpcd.shape"
   ]
  },
  {
   "cell_type": "code",
   "execution_count": 10,
   "id": "060d8a31",
   "metadata": {},
   "outputs": [],
   "source": [
    "rotations_est = []\n",
    "translations_est = []\n",
    "rotations_ab = []\n",
    "translations_ab = []\n",
    "with torch.no_grad():\n",
    "    for i, datasets in enumerate(par_testloader):\n",
    "        srcpcd, tgtpcd, rotation_ab, translation_ab = datasets\n",
    "        est_g, r = act.do_estimate(tgtpcd, srcpcd, model, args.device)\n",
    "        rotations_est.append(est_g[:, 0:3, 0:3])\n",
    "        translations_est.append(est_g[:, 0:3, 3])\n",
    "        rotations_ab.append(rotation_ab)\n",
    "        translations_ab.append(translation_ab) "
   ]
  },
  {
   "cell_type": "code",
   "execution_count": 11,
   "id": "c3d9c1b7",
   "metadata": {},
   "outputs": [],
   "source": [
    "rot_est = np.concatenate(rotations_est, axis=0)\n",
    "trans_est = np.concatenate(translations_est, axis=0)\n",
    "rot_ab = np.concatenate(rotations_ab, axis=0)\n",
    "trans_ab = np.concatenate(translations_ab, axis=0)"
   ]
  },
  {
   "cell_type": "code",
   "execution_count": 12,
   "id": "20085117",
   "metadata": {},
   "outputs": [],
   "source": [
    "test_r_mse = np.mean((rot_ab - rot_est) ** 2)\n",
    "test_r_rmse = np.sqrt(test_r_mse)\n",
    "test_r_mae = np.mean(np.abs(rot_ab - rot_est))\n",
    "test_t_mse = np.mean((trans_ab - trans_est) ** 2)\n",
    "test_t_rmse = np.sqrt(test_t_mse)\n",
    "test_t_mae = np.mean(np.abs(trans_ab - trans_est))"
   ]
  },
  {
   "cell_type": "code",
   "execution_count": 13,
   "id": "46218c6e",
   "metadata": {},
   "outputs": [
    {
     "name": "stdout",
     "output_type": "stream",
     "text": [
      "test_r_mse:0.072054,test_r_rmse:0.268428,test_r_mae:0.177255 test_t_mse:0.012495,test_t_rmse:0.111782,test_t_mae:0.084300\n"
     ]
    }
   ],
   "source": [
    "message_r = 'test_r_mse:{:.6f},test_r_rmse:{:.6f},test_r_mae:{:.6f}'.format(test_r_mse, test_r_rmse, test_r_mae)\n",
    "message_t = 'test_t_mse:{:.6f},test_t_rmse:{:.6f},test_t_mae:{:.6f}'.format(test_t_mse, test_t_rmse, test_t_mae)\n",
    "print(message_r, message_t)"
   ]
  },
  {
   "cell_type": "code",
   "execution_count": 92,
   "id": "ed32133a",
   "metadata": {},
   "outputs": [
    {
     "data": {
      "text/plain": [
       "0.7496947496947497"
      ]
     },
     "execution_count": 92,
     "metadata": {},
     "output_type": "execute_result"
    }
   ],
   "source": [
    "pt_tree = o3d.geometry.KDTreeFlann(ptpcd)\n",
    "pspcd.transform(G)\n",
    "count = 0\n",
    "idxs_pt = []\n",
    "idxs_ps = []\n",
    "dists = []\n",
    "for i in range(len(pspcd.points)):\n",
    "    #[k, idx, dist] = bun00_tree.search_knn_vector_3d(bun45.points[int(ind1[i])], 3)\n",
    "    [k, idx, dist] = pt_tree.search_radius_vector_3d(pspcd.points[i], 0.001)\n",
    "    if k!= 0:\n",
    "        count += 1\n",
    "        idxs_pt.append(idx[0])\n",
    "        idxs_ps.append(i)\n",
    "        dists.append(dist[0])\n",
    "count/len(pspcd.points)"
   ]
  },
  {
   "cell_type": "code",
   "execution_count": 44,
   "id": "50a711b8",
   "metadata": {},
   "outputs": [],
   "source": [
    "ptpcd = o3d.geometry.PointCloud()\n",
    "ptpcd.points = o3d.utility.Vector3dVector(tgt.reshape(-1, 3))\n",
    "#ptpcd.estimate_normals(search_param=o3d.geometry.KDTreeSearchParamHybrid(radius=0.1, max_nn=30))\n",
    "#ptpcd.orient_normals_to_align_with_direction()\n",
    "ptpcd.paint_uniform_color([1, 0, 0])\n",
    "\n",
    "pspcd = o3d.geometry.PointCloud()\n",
    "pspcd.points = o3d.utility.Vector3dVector(src.reshape(-1, 3))\n",
    "#pspcd.estimate_normals(search_param=o3d.geometry.KDTreeSearchParamHybrid(radius=0.1, max_nn=30))\n",
    "#pspcd.orient_normals_to_align_with_direction()\n",
    "pspcd.paint_uniform_color([0, 0, 1])\n",
    "\n",
    "o3d.visualization.draw_geometries([ptpcd, pspcd])"
   ]
  },
  {
   "cell_type": "code",
   "execution_count": 40,
   "id": "20a5d297",
   "metadata": {},
   "outputs": [],
   "source": [
    "rot = rotation_ab.numpy().reshape(3, 3)\n",
    "trans = translation_ab.numpy()\n",
    "G = np.concatenate((rot, trans.reshape(3, -1)), axis = 1)\n",
    "G = np.concatenate((G, [[0.,0.,0.,1.]]), axis = 0)"
   ]
  },
  {
   "cell_type": "code",
   "execution_count": 17,
   "id": "4c05799f",
   "metadata": {},
   "outputs": [],
   "source": [
    "#显示真实对应的点\n",
    "ptpcd.paint_uniform_color([0.5, 0.5, 0.5])\n",
    "pspcd.paint_uniform_color([0.5, 0.5, 0.5])\n",
    "np.asarray(ptpcd.colors)[idxs_pt[0:], :] = [255/255, 127/255, 39/255]\n",
    "np.asarray(pspcd.colors)[idxs_ps[0:], :] = [160/255, 255/255, 249/255]\n",
    "o3d.visualization.draw_geometries([ptpcd, pspcd])"
   ]
  },
  {
   "cell_type": "code",
   "execution_count": 36,
   "id": "7325b2ef",
   "metadata": {},
   "outputs": [
    {
     "data": {
      "text/plain": [
       "(torch.Size([1, 1638, 3]), torch.Size([1, 1638, 3]))"
      ]
     },
     "execution_count": 36,
     "metadata": {},
     "output_type": "execute_result"
    }
   ],
   "source": [
    "try_pt = torch.tensor(tgt).unsqueeze(0).contiguous().to(torch.float32)\n",
    "try_ps = torch.tensor(src).unsqueeze(0).contiguous().to(torch.float32)\n",
    "try_pt.shape, try_ps.shape"
   ]
  },
  {
   "cell_type": "markdown",
   "id": "c3fcdda8",
   "metadata": {},
   "source": [
    "### no sampling"
   ]
  },
  {
   "cell_type": "code",
   "execution_count": 37,
   "id": "a7c3c32e",
   "metadata": {},
   "outputs": [],
   "source": [
    "with torch.no_grad():\n",
    "    est_g, r, f_series, feas = act.do_estimate(try_pt, try_ps, model, args.device)"
   ]
  },
  {
   "cell_type": "code",
   "execution_count": 38,
   "id": "f5b9d0d9",
   "metadata": {},
   "outputs": [],
   "source": [
    "g_series = model.g_series"
   ]
  },
  {
   "cell_type": "code",
   "execution_count": 41,
   "id": "b03eaf90",
   "metadata": {},
   "outputs": [
    {
     "data": {
      "text/plain": [
       "(tensor([[[ 0.4037, -0.1294,  0.9057,  0.0459],\n",
       "          [ 0.5931,  0.7908, -0.1514,  0.1883],\n",
       "          [-0.6966,  0.5983,  0.3960,  0.0151],\n",
       "          [ 0.0000,  0.0000,  0.0000,  1.0000]]]),\n",
       " tensor([[[ 0.7512, -0.1052,  0.6516,  0.1032],\n",
       "          [ 0.4259,  0.8315, -0.3568,  0.1865],\n",
       "          [-0.5043,  0.5456,  0.6694,  0.0353],\n",
       "          [ 0.0000,  0.0000,  0.0000,  1.0000]]]),\n",
       " array([[ 0.75326449, -0.38586897,  0.53263289,  0.04488318],\n",
       "        [ 0.6122871 ,  0.70714998, -0.35361478, -0.0763452 ],\n",
       "        [-0.24020238,  0.59248966,  0.76893353,  0.14589411],\n",
       "        [ 0.        ,  0.        ,  0.        ,  1.        ]]))"
      ]
     },
     "execution_count": 41,
     "metadata": {},
     "output_type": "execute_result"
    }
   ],
   "source": [
    "est_g, g_series[9], G"
   ]
  },
  {
   "cell_type": "code",
   "execution_count": 45,
   "id": "4c23127b",
   "metadata": {},
   "outputs": [
    {
     "data": {
      "text/plain": [
       "PointCloud with 1638 points."
      ]
     },
     "execution_count": 45,
     "metadata": {},
     "output_type": "execute_result"
    }
   ],
   "source": [
    "pspcd.transform(g_series[9].numpy().reshape(4,4))"
   ]
  },
  {
   "cell_type": "code",
   "execution_count": 46,
   "id": "44759d20",
   "metadata": {},
   "outputs": [],
   "source": [
    "o3d.visualization.draw_geometries([ptpcd, pspcd])"
   ]
  },
  {
   "cell_type": "code",
   "execution_count": 77,
   "id": "0ad0333e",
   "metadata": {},
   "outputs": [],
   "source": [
    "o3d.visualization.draw_geometries([ptpcd, est_ptpcd])"
   ]
  },
  {
   "cell_type": "code",
   "execution_count": 63,
   "id": "fb7865a3",
   "metadata": {},
   "outputs": [
    {
     "data": {
      "text/plain": [
       "(array([[ 2.38428076e-07, -9.24305869e-08,  2.64178347e-07]]),\n",
       " array([[ 0.04488338, -0.07634532,  0.1458944 ]]))"
      ]
     },
     "execution_count": 63,
     "metadata": {},
     "output_type": "execute_result"
    }
   ],
   "source": [
    "ps_points = np.asarray(pspcd.points)\n",
    "pt_points = np.asarray(ptpcd.points)\n",
    "centroid_ps = np.mean(ps_points, axis=0).reshape(1,3)\n",
    "centroid_pt = np.mean(pt_points, axis=0).reshape(1,3)\n",
    "centroid_ps, centroid_pt"
   ]
  },
  {
   "cell_type": "code",
   "execution_count": 65,
   "id": "6513e19c",
   "metadata": {},
   "outputs": [
    {
     "data": {
      "text/plain": [
       "array([ 2.38428076e-07, -9.24305869e-08,  2.64178347e-07])"
      ]
     },
     "execution_count": 65,
     "metadata": {},
     "output_type": "execute_result"
    }
   ],
   "source": [
    "pts = np.concatenate((pt_points, centroid_pt), axis = 0)\n",
    "pss = np.concatenate((ps_points, centroid_ps), axis = 0)\n",
    "ptpcd.points = o3d.utility.Vector3dVector(pts.reshape(-1, 3))\n",
    "pspcd.points = o3d.utility.Vector3dVector(pss.reshape(-1, 3))\n",
    "np.asarray(pspcd.points)[-1]"
   ]
  },
  {
   "cell_type": "code",
   "execution_count": 66,
   "id": "f1c18e02",
   "metadata": {},
   "outputs": [],
   "source": [
    "ptpcd.paint_uniform_color([0.5, 0.5, 0.5])\n",
    "pspcd.paint_uniform_color([0.5, 0.5, 0.5])\n",
    "ptpcd.colors[-1] = [255/255, 127/255, 39/255]\n",
    "pspcd.colors[-1] = [160/255, 255/255, 249/255]\n",
    "o3d.visualization.draw_geometries([ptpcd, pspcd])"
   ]
  },
  {
   "cell_type": "code",
   "execution_count": null,
   "id": "9cfa1525",
   "metadata": {},
   "outputs": [],
   "source": [
    "A_F = model.ptnet(centroid_A)\n",
    "B_F = model.ptnet(centroid_B)"
   ]
  },
  {
   "cell_type": "code",
   "execution_count": 60,
   "id": "fb1e2de6",
   "metadata": {},
   "outputs": [],
   "source": [
    "points = np.asarray(ptpcd.points)\n",
    "points = torch.tensor(points).unsqueeze(0).contiguous().to(torch.float32)\n",
    "points_F = model.ptnet(points)\n",
    "points_feas = model.ptnet.features"
   ]
  },
  {
   "cell_type": "markdown",
   "id": "3f5319ed",
   "metadata": {},
   "source": [
    "## imaging"
   ]
  },
  {
   "cell_type": "code",
   "execution_count": 56,
   "id": "1e869d89",
   "metadata": {},
   "outputs": [
    {
     "ename": "NameError",
     "evalue": "name 'try_ps' is not defined",
     "output_type": "error",
     "traceback": [
      "\u001b[1;31m---------------------------------------------------------------------------\u001b[0m",
      "\u001b[1;31mNameError\u001b[0m                                 Traceback (most recent call last)",
      "\u001b[1;32m<ipython-input-56-7da0c195d736>\u001b[0m in \u001b[0;36m<module>\u001b[1;34m()\u001b[0m\n\u001b[0;32m      1\u001b[0m \u001b[0mg_hat\u001b[0m \u001b[1;33m=\u001b[0m \u001b[0mest_g\u001b[0m\u001b[1;33m.\u001b[0m\u001b[0mcpu\u001b[0m\u001b[1;33m(\u001b[0m\u001b[1;33m)\u001b[0m\u001b[1;33m.\u001b[0m\u001b[0mcontiguous\u001b[0m\u001b[1;33m(\u001b[0m\u001b[1;33m)\u001b[0m\u001b[1;33m.\u001b[0m\u001b[0mview\u001b[0m\u001b[1;33m(\u001b[0m\u001b[1;33m-\u001b[0m\u001b[1;36m1\u001b[0m\u001b[1;33m,\u001b[0m \u001b[1;36m4\u001b[0m\u001b[1;33m,\u001b[0m \u001b[1;36m4\u001b[0m\u001b[1;33m)\u001b[0m\u001b[1;33m\u001b[0m\u001b[0m\n\u001b[1;32m----> 2\u001b[1;33m \u001b[0mest_trans_pt\u001b[0m \u001b[1;33m=\u001b[0m \u001b[0mptlk\u001b[0m\u001b[1;33m.\u001b[0m\u001b[0mse3\u001b[0m\u001b[1;33m.\u001b[0m\u001b[0mtransform\u001b[0m\u001b[1;33m(\u001b[0m\u001b[0mg_hat\u001b[0m\u001b[1;33m.\u001b[0m\u001b[0mto\u001b[0m\u001b[1;33m(\u001b[0m\u001b[0mtry_ps\u001b[0m\u001b[1;33m)\u001b[0m\u001b[1;33m,\u001b[0m \u001b[0mtry_ps\u001b[0m\u001b[1;33m.\u001b[0m\u001b[0mtranspose\u001b[0m\u001b[1;33m(\u001b[0m\u001b[1;36m1\u001b[0m\u001b[1;33m,\u001b[0m\u001b[1;36m2\u001b[0m\u001b[1;33m)\u001b[0m\u001b[1;33m.\u001b[0m\u001b[0mcontiguous\u001b[0m\u001b[1;33m(\u001b[0m\u001b[1;33m)\u001b[0m\u001b[1;33m)\u001b[0m\u001b[1;33m.\u001b[0m\u001b[0mtranspose\u001b[0m\u001b[1;33m(\u001b[0m\u001b[1;36m1\u001b[0m\u001b[1;33m,\u001b[0m\u001b[1;36m2\u001b[0m\u001b[1;33m)\u001b[0m\u001b[1;33m.\u001b[0m\u001b[0mcontiguous\u001b[0m\u001b[1;33m(\u001b[0m\u001b[1;33m)\u001b[0m\u001b[1;33m\u001b[0m\u001b[0m\n\u001b[0m\u001b[0;32m      3\u001b[0m \u001b[0mest_pt\u001b[0m \u001b[1;33m=\u001b[0m \u001b[0mest_trans_pt\u001b[0m\u001b[1;33m[\u001b[0m\u001b[1;36m0\u001b[0m\u001b[1;33m]\u001b[0m\u001b[1;33m.\u001b[0m\u001b[0mdetach\u001b[0m\u001b[1;33m(\u001b[0m\u001b[1;33m)\u001b[0m\u001b[1;33m.\u001b[0m\u001b[0mnumpy\u001b[0m\u001b[1;33m(\u001b[0m\u001b[1;33m)\u001b[0m\u001b[1;33m\u001b[0m\u001b[0m\n\u001b[0;32m      4\u001b[0m \u001b[0mest_pt\u001b[0m\u001b[1;33m.\u001b[0m\u001b[0mshape\u001b[0m\u001b[1;33m\u001b[0m\u001b[0m\n",
      "\u001b[1;31mNameError\u001b[0m: name 'try_ps' is not defined"
     ]
    }
   ],
   "source": [
    "g_hat = est_g.cpu().contiguous().view(-1, 4, 4)\n",
    "est_trans_pt = ptlk.se3.transform(g_hat.to(try_ps), try_ps.transpose(1,2).contiguous()).transpose(1,2).contiguous()\n",
    "est_pt = est_trans_pt[0].detach().numpy()\n",
    "est_pt.shape"
   ]
  },
  {
   "cell_type": "code",
   "execution_count": 55,
   "id": "3f71ccf5",
   "metadata": {},
   "outputs": [
    {
     "ename": "NameError",
     "evalue": "name 'est_pt' is not defined",
     "output_type": "error",
     "traceback": [
      "\u001b[1;31m---------------------------------------------------------------------------\u001b[0m",
      "\u001b[1;31mNameError\u001b[0m                                 Traceback (most recent call last)",
      "\u001b[1;32m<ipython-input-55-1e6553b0d88b>\u001b[0m in \u001b[0;36m<module>\u001b[1;34m()\u001b[0m\n\u001b[0;32m      1\u001b[0m \u001b[0mest_ptpcd\u001b[0m \u001b[1;33m=\u001b[0m \u001b[0mo3d\u001b[0m\u001b[1;33m.\u001b[0m\u001b[0mgeometry\u001b[0m\u001b[1;33m.\u001b[0m\u001b[0mPointCloud\u001b[0m\u001b[1;33m(\u001b[0m\u001b[1;33m)\u001b[0m\u001b[1;33m\u001b[0m\u001b[0m\n\u001b[1;32m----> 2\u001b[1;33m \u001b[0mest_ptpcd\u001b[0m\u001b[1;33m.\u001b[0m\u001b[0mpoints\u001b[0m \u001b[1;33m=\u001b[0m \u001b[0mo3d\u001b[0m\u001b[1;33m.\u001b[0m\u001b[0mutility\u001b[0m\u001b[1;33m.\u001b[0m\u001b[0mVector3dVector\u001b[0m\u001b[1;33m(\u001b[0m\u001b[0mest_pt\u001b[0m\u001b[1;33m.\u001b[0m\u001b[0mreshape\u001b[0m\u001b[1;33m(\u001b[0m\u001b[1;33m-\u001b[0m\u001b[1;36m1\u001b[0m\u001b[1;33m,\u001b[0m \u001b[1;36m3\u001b[0m\u001b[1;33m)\u001b[0m\u001b[1;33m)\u001b[0m\u001b[1;33m\u001b[0m\u001b[0m\n\u001b[0m\u001b[0;32m      3\u001b[0m \u001b[1;31m#est_ptpcd.estimate_normals(search_param=o3d.geometry.KDTreeSearchParamHybrid(radius=0.1, max_nn=30))\u001b[0m\u001b[1;33m\u001b[0m\u001b[1;33m\u001b[0m\u001b[0m\n\u001b[0;32m      4\u001b[0m \u001b[1;31m#est_ptpcd.orient_normals_to_align_with_direction()\u001b[0m\u001b[1;33m\u001b[0m\u001b[1;33m\u001b[0m\u001b[0m\n\u001b[0;32m      5\u001b[0m \u001b[0mest_ptpcd\u001b[0m\u001b[1;33m.\u001b[0m\u001b[0mpaint_uniform_color\u001b[0m\u001b[1;33m(\u001b[0m\u001b[1;33m[\u001b[0m\u001b[1;36m0\u001b[0m\u001b[1;33m,\u001b[0m \u001b[1;36m0\u001b[0m\u001b[1;33m,\u001b[0m \u001b[1;36m1\u001b[0m\u001b[1;33m]\u001b[0m\u001b[1;33m)\u001b[0m\u001b[1;33m\u001b[0m\u001b[0m\n",
      "\u001b[1;31mNameError\u001b[0m: name 'est_pt' is not defined"
     ]
    }
   ],
   "source": [
    "est_ptpcd = o3d.geometry.PointCloud()\n",
    "est_ptpcd.points = o3d.utility.Vector3dVector(est_pt.reshape(-1, 3))\n",
    "#est_ptpcd.estimate_normals(search_param=o3d.geometry.KDTreeSearchParamHybrid(radius=0.1, max_nn=30))\n",
    "#est_ptpcd.orient_normals_to_align_with_direction()\n",
    "est_ptpcd.paint_uniform_color([0, 0, 1])"
   ]
  },
  {
   "cell_type": "code",
   "execution_count": 54,
   "id": "f0f8189d",
   "metadata": {},
   "outputs": [],
   "source": [
    "o3d.visualization.draw_geometries([ptpcd, est_ptpcd])"
   ]
  },
  {
   "cell_type": "markdown",
   "id": "cf1786b7",
   "metadata": {},
   "source": [
    "## error"
   ]
  },
  {
   "cell_type": "code",
   "execution_count": 23,
   "id": "23907b76",
   "metadata": {},
   "outputs": [],
   "source": [
    "est_rot = est_g[:, 0:3, 0:3].reshape(3, 3).numpy()\n",
    "est_trans = est_g[:, 0:3, 3].reshape(3, 1).numpy()\n",
    "gt_rot = G[0:3, 0:3]\n",
    "gt_trans = G[0:3, 3].reshape(3, 1)"
   ]
  },
  {
   "cell_type": "code",
   "execution_count": 24,
   "id": "0a9df99a",
   "metadata": {},
   "outputs": [],
   "source": [
    "test_r_mse = np.mean((gt_rot - est_rot) ** 2)\n",
    "test_r_rmse = np.sqrt(test_r_mse)\n",
    "test_r_mae = np.mean(np.abs(gt_rot - est_rot))\n",
    "test_t_mse = np.mean((gt_trans - est_trans) ** 2)\n",
    "test_t_rmse = np.sqrt(test_t_mse)\n",
    "test_t_mae = np.mean(np.abs(gt_trans - est_trans))"
   ]
  },
  {
   "cell_type": "code",
   "execution_count": 25,
   "id": "8fb1c536",
   "metadata": {},
   "outputs": [
    {
     "name": "stdout",
     "output_type": "stream",
     "text": [
      "test_r_mse:0.080324,test_r_rmse:0.283415,test_r_mae:0.235490 test_t_mse:0.026601,test_t_rmse:0.163097,test_t_mae:0.153965\n"
     ]
    }
   ],
   "source": [
    "message_r = 'test_r_mse:{:.6f},test_r_rmse:{:.6f},test_r_mae:{:.6f}'.format(test_r_mse, test_r_rmse, test_r_mae)\n",
    "message_t = 'test_t_mse:{:.6f},test_t_rmse:{:.6f},test_t_mae:{:.6f}'.format(test_t_mse, test_t_rmse, test_t_mae)\n",
    "print(message_r, message_t)"
   ]
  },
  {
   "cell_type": "markdown",
   "id": "568c0973",
   "metadata": {},
   "source": [
    "### features"
   ]
  },
  {
   "cell_type": "code",
   "execution_count": 23,
   "id": "4d54f050",
   "metadata": {},
   "outputs": [
    {
     "data": {
      "text/plain": [
       "tensor([[0.0000, 0.0000, 0.1645,  ..., 0.0000, 2.3249, 1.8158],\n",
       "        [0.7780, 0.0000, 0.0000,  ..., 0.0000, 0.0000, 0.0000],\n",
       "        [0.9656, 0.0000, 0.0000,  ..., 0.0000, 1.1518, 1.3219],\n",
       "        ...,\n",
       "        [1.1753, 0.4132, 0.0000,  ..., 0.8117, 0.0000, 0.0466],\n",
       "        [0.0000, 0.0000, 0.0000,  ..., 0.0000, 0.0000, 0.7720],\n",
       "        [1.4908, 1.0571, 0.0000,  ..., 0.0000, 0.5977, 1.1924]])"
      ]
     },
     "execution_count": 23,
     "metadata": {},
     "output_type": "execute_result"
    }
   ],
   "source": [
    "ptfeas, psfeas = feas['pt_feas'], feas['ps_feas']\n",
    "fea_tree = KDTree(ptfeas[0])"
   ]
  },
  {
   "cell_type": "code",
   "execution_count": 23,
   "id": "62ae1757",
   "metadata": {},
   "outputs": [],
   "source": [
    "mo_correspond = []\n",
    "dists = []\n",
    "#K = 3\n",
    "for i, fea in enumerate(psfeas[0]):\n",
    "    idx = fea_tree.query_radius(fea.reshape(1, -1), r=1)\n",
    "#    dist, idx = fea_tree.query(fea.reshape(1, -1), k=1) \n",
    "    #if K is not None:\n",
    "    #    idx = idx[0][:K]\n",
    "    # = tup[0], tup[1]\n",
    "#    dists.append(dist)\n",
    "    for j in range(idx[0].shape[-1]):\n",
    "        mo_correspond.append([i, idx[0][j]])  #, dist[0][j]])\n",
    "    #for j in idx:\n",
    "    #    correspondences.append([i, j]) "
   ]
  },
  {
   "cell_type": "code",
   "execution_count": 25,
   "id": "22b41f5d",
   "metadata": {},
   "outputs": [
    {
     "data": {
      "text/plain": [
       "(29, 25)"
      ]
     },
     "execution_count": 25,
     "metadata": {},
     "output_type": "execute_result"
    }
   ],
   "source": [
    "mo_correspond = np.array(mo_correspond)\n",
    "psidx = list(set(mo_correspond[:,0].tolist()))\n",
    "ptidx = list(set(mo_correspond[:,1].tolist()))\n",
    "len(ptidx), len(psidx)"
   ]
  },
  {
   "cell_type": "code",
   "execution_count": 26,
   "id": "0c862257",
   "metadata": {},
   "outputs": [],
   "source": [
    "ptpcd.paint_uniform_color([0.5, 0.5, 0.5])\n",
    "pspcd.paint_uniform_color([0.5, 0.5, 0.5])\n",
    "np.asarray(ptpcd.colors)[ptidx[0:], :] = [1, 0, 0]\n",
    "np.asarray(pspcd.colors)[psidx[0:], :] = [0, 0, 1]\n",
    "o3d.visualization.draw_geometries([ptpcd, pspcd])"
   ]
  },
  {
   "cell_type": "code",
   "execution_count": 5,
   "id": "15dde3b6",
   "metadata": {},
   "outputs": [],
   "source": [
    "def get_datasets(args):\n",
    "\n",
    "    cinfo = None\n",
    "    if args.categoryfile:\n",
    "        #categories = numpy.loadtxt(args.categoryfile, dtype=str, delimiter=\"\\n\").tolist()\n",
    "        categories = [line.rstrip('\\n') for line in open(args.categoryfile)]\n",
    "        categories.sort()\n",
    "        c_to_idx = {categories[i]: i for i in range(len(categories))}\n",
    "        cinfo = (categories, c_to_idx)\n",
    "\n",
    "    perturbations = None\n",
    "    fmt_trans = False\n",
    "    if args.perturbations:\n",
    "        perturbations = np.loadtxt(args.perturbations, delimiter=',')\n",
    "    if args.format == 'wt':\n",
    "        fmt_trans = True\n",
    "\n",
    "    if args.dataset_type == 'modelnet':\n",
    "        transform = torchvision.transforms.Compose([\\\n",
    "                ptlk.data.transforms.Mesh2Points(),\\\n",
    "                ptlk.data.transforms.OnUnitCube(),\\\n",
    "            ])\n",
    "\n",
    "        testdata = ptlk.data.datasets.ModelNet(args.dataset_path, train=0, transform=transform, classinfo=cinfo)\n",
    "\n",
    "        testset = ptlk.data.datasets.CADset4tracking_fixed_perturbation(testdata,\\\n",
    "                        perturbations, fmt_trans=fmt_trans)\n",
    "\n",
    "    return testset"
   ]
  },
  {
   "cell_type": "code",
   "execution_count": 6,
   "id": "a0732480",
   "metadata": {},
   "outputs": [],
   "source": [
    "testset = get_datasets(args)\n",
    "testloader = torch.utils.data.DataLoader(\n",
    "    testset,\n",
    "    batch_size=1, shuffle=False, num_workers=args.workers)"
   ]
  },
  {
   "cell_type": "code",
   "execution_count": 7,
   "id": "5a999d72",
   "metadata": {},
   "outputs": [],
   "source": [
    "for i, datasets in enumerate(testloader):\n",
    "    tgtpcd, srcpcd, igt = datasets\n",
    "    break"
   ]
  },
  {
   "cell_type": "code",
   "execution_count": 8,
   "id": "8f69337d",
   "metadata": {},
   "outputs": [
    {
     "data": {
      "text/plain": [
       "(torch.Size([1, 1187, 3]), torch.Size([1, 1187, 3]), torch.Size([1, 4, 4]))"
      ]
     },
     "execution_count": 8,
     "metadata": {},
     "output_type": "execute_result"
    }
   ],
   "source": [
    "tgtpcd.shape, srcpcd.shape, igt.shape"
   ]
  },
  {
   "cell_type": "code",
   "execution_count": 9,
   "id": "a6a709dc",
   "metadata": {},
   "outputs": [],
   "source": [
    "ptpcd = o3d.geometry.PointCloud()\n",
    "ptpcd.points = o3d.utility.Vector3dVector(tgtpcd.numpy().reshape(-1, 3))\n",
    "#ptpcd.estimate_normals(search_param=o3d.geometry.KDTreeSearchParamHybrid(radius=0.1, max_nn=30))\n",
    "#ptpcd.orient_normals_to_align_with_direction()\n",
    "ptpcd.paint_uniform_color([1, 0, 0])\n",
    "\n",
    "pspcd = o3d.geometry.PointCloud()\n",
    "pspcd.points = o3d.utility.Vector3dVector(srcpcd.numpy().reshape(-1, 3))\n",
    "#pspcd.estimate_normals(search_param=o3d.geometry.KDTreeSearchParamHybrid(radius=0.1, max_nn=30))\n",
    "#pspcd.orient_normals_to_align_with_direction()\n",
    "pspcd.paint_uniform_color([0, 0, 1])\n",
    "\n",
    "o3d.visualization.draw_geometries([ptpcd, pspcd])"
   ]
  },
  {
   "cell_type": "code",
   "execution_count": 10,
   "id": "d04fe4b3",
   "metadata": {},
   "outputs": [],
   "source": [
    "with torch.no_grad():\n",
    "    est_g, r, f_series, feas = act.do_estimate(tgtpcd, srcpcd, model, args.device)"
   ]
  },
  {
   "cell_type": "code",
   "execution_count": 11,
   "id": "ddaabb61",
   "metadata": {},
   "outputs": [
    {
     "data": {
      "text/plain": [
       "(1187, 3)"
      ]
     },
     "execution_count": 11,
     "metadata": {},
     "output_type": "execute_result"
    }
   ],
   "source": [
    "g_hat = est_g.cpu().contiguous().view(-1, 4, 4)\n",
    "est_trans_pt = ptlk.se3.transform(g_hat.to(srcpcd), srcpcd.transpose(1,2).contiguous()).transpose(1,2).contiguous()\n",
    "est_pt = est_trans_pt[0].detach().numpy()\n",
    "est_pt.shape"
   ]
  },
  {
   "cell_type": "code",
   "execution_count": 12,
   "id": "f6fec8ef",
   "metadata": {},
   "outputs": [
    {
     "data": {
      "text/plain": [
       "PointCloud with 1187 points."
      ]
     },
     "execution_count": 12,
     "metadata": {},
     "output_type": "execute_result"
    }
   ],
   "source": [
    "est_ptpcd = o3d.geometry.PointCloud()\n",
    "est_ptpcd.points = o3d.utility.Vector3dVector(est_pt.reshape(-1, 3))\n",
    "#est_ptpcd.estimate_normals(search_param=o3d.geometry.KDTreeSearchParamHybrid(radius=0.1, max_nn=30))\n",
    "#est_ptpcd.orient_normals_to_align_with_direction()\n",
    "est_ptpcd.paint_uniform_color([0, 0, 1])"
   ]
  },
  {
   "cell_type": "code",
   "execution_count": 41,
   "id": "1fdd03ad",
   "metadata": {},
   "outputs": [
    {
     "name": "stdout",
     "output_type": "stream",
     "text": [
      "[Open3D WARNING] [ViewControl] SetViewPoint() failed because window height and width are not set.\n",
      "[Open3D WARNING] [ViewControl] SetViewPoint() failed because window height and width are not set.\n",
      "[Open3D WARNING] [ViewControl] SetViewPoint() failed because window height and width are not set.\n",
      "[Open3D WARNING] [ViewControl] SetViewPoint() failed because window height and width are not set.\n",
      "[Open3D WARNING] [ViewControl] SetViewPoint() failed because window height and width are not set.\n",
      "[Open3D WARNING] [ViewControl] SetViewPoint() failed because window height and width are not set.\n",
      "[Open3D WARNING] [ViewControl] SetViewPoint() failed because window height and width are not set.\n"
     ]
    }
   ],
   "source": [
    "o3d.visualization.draw_geometries([ptpcd, est_ptpcd])"
   ]
  },
  {
   "cell_type": "code",
   "execution_count": 6,
   "id": "75e1a80b",
   "metadata": {},
   "outputs": [],
   "source": [
    "def unit_cube(vertices):\n",
    "    pcd = np.array(vertices)\n",
    "    c = np.max(pcd, axis=0) - np.min(pcd, axis=0) # [N, D] -> [D]\n",
    "    s = np.max(c) # -> scalar\n",
    "    v = pcd / s\n",
    "    return v - v.mean(axis=0)"
   ]
  },
  {
   "cell_type": "code",
   "execution_count": 7,
   "id": "9f9c6b79",
   "metadata": {},
   "outputs": [],
   "source": [
    "vertices = []\n",
    "mopath = r'D:\\SDXX\\ModelNet40\\car\\test\\car_0209.off'\n",
    "with open(mopath, 'r') as fin:\n",
    "    sig = fin.readline().strip()\n",
    "    line = fin.readline().strip()\n",
    "    num_verts, num_faces, num_edges = tuple([int(s) for s in line.split(' ')])\n",
    "    for v in range(num_verts):\n",
    "        vp = tuple(float(s) for s in fin.readline().strip().split(' '))\n",
    "        vertices.append(vp)\n",
    "tgtpcd = unit_cube(vertices)"
   ]
  },
  {
   "cell_type": "code",
   "execution_count": 66,
   "id": "65fbd91f",
   "metadata": {},
   "outputs": [],
   "source": [
    "anglex = np.random.uniform() * np.pi / 4\n",
    "angley = np.random.uniform() * np.pi / 4\n",
    "anglez = np.random.uniform() * np.pi / 4\n",
    "\n",
    "cosx = np.cos(anglex)\n",
    "cosy = np.cos(angley)\n",
    "cosz = np.cos(anglez)\n",
    "sinx = np.sin(anglex)\n",
    "siny = np.sin(angley)\n",
    "sinz = np.sin(anglez)\n",
    "Rx = np.array([[1, 0, 0],\n",
    "         [0, cosx, -sinx],\n",
    "         [0, sinx, cosx]])\n",
    "Ry = np.array([[cosy, 0, siny],\n",
    "         [0, 1, 0],\n",
    "         [-siny, 0, cosy]])\n",
    "Rz = np.array([[cosz, -sinz, 0],\n",
    "         [sinz, cosz, 0],\n",
    "         [0, 0, 1]])\n",
    "R = Rx.dot(Ry).dot(Rz)\n",
    "translation = np.array([np.random.uniform(0, 0.1), np.random.uniform(0, 0.1),\n",
    "                                   np.random.uniform(0, 0.1)])\n",
    "\n",
    "rotation = Rotation.from_euler('zyx', [anglez, angley, anglex])\n",
    "srcpcd = rotation.apply(tgtpcd) + translation\n",
    "\n",
    "src = crop(srcpcd, 0.9)\n",
    "tgt = crop(tgtpcd, 0.9)"
   ]
  },
  {
   "cell_type": "code",
   "execution_count": 81,
   "id": "30526b4d",
   "metadata": {},
   "outputs": [],
   "source": [
    "def writef(fname_pt, fname_ps, pt, ps):\n",
    "    with open(fname_pt, 'w') as fout:\n",
    "        print('%d'%pt.shape[0],file=fout)\n",
    "        for i in range(pt.shape[0]):\n",
    "            print(' '.join(map(str, pt[i])),file=fout)   #变换后的源：绿色\n",
    "            \n",
    "    with open(fname_ps, 'w') as fout:\n",
    "        print('%d'%ps.shape[0],file=fout)\n",
    "        for i in range(ps.shape[0]):\n",
    "            print(' '.join(map(str, ps[i])),file=fout)  #模板：黄色\n",
    "            \n",
    "fname_t = r'C:\\Users\\fcky\\Desktop\\3D\\DaiMa\\EBABC_Kuang/car_pt.asc'\n",
    "fname_s = r'C:\\Users\\fcky\\Desktop\\3D\\DaiMa\\EBABC_Kuang/car_ps.asc'\n",
    "\n",
    "writef(fname_t, fname_s, tgt, src)"
   ]
  },
  {
   "cell_type": "code",
   "execution_count": 67,
   "id": "ec2e088f",
   "metadata": {},
   "outputs": [],
   "source": [
    "ptpcd = o3d.geometry.PointCloud()\n",
    "ptpcd.points = o3d.utility.Vector3dVector(tgt.reshape(-1, 3))\n",
    "#ptpcd.estimate_normals(search_param=o3d.geometry.KDTreeSearchParamHybrid(radius=0.1, max_nn=30))\n",
    "#ptpcd.orient_normals_to_align_with_direction()\n",
    "ptpcd.paint_uniform_color([255/255, 127/255, 39/255])\n",
    "\n",
    "pspcd = o3d.geometry.PointCloud()\n",
    "pspcd.points = o3d.utility.Vector3dVector(src.reshape(-1, 3))\n",
    "#pspcd.estimate_normals(search_param=o3d.geometry.KDTreeSearchParamHybrid(radius=0.1, max_nn=30))\n",
    "#pspcd.orient_normals_to_align_with_direction()\n",
    "pspcd.paint_uniform_color([160/255, 255/255, 249/255])\n",
    "\n",
    "o3d.visualization.draw_geometries([ptpcd, pspcd])"
   ]
  },
  {
   "cell_type": "code",
   "execution_count": 68,
   "id": "efa9c087",
   "metadata": {},
   "outputs": [],
   "source": [
    "rot = R.T\n",
    "trans = -rot.dot(translation)\n",
    "G = np.concatenate((rot, trans.reshape(3, -1)), axis = 1)\n",
    "G = np.concatenate((G, [[0.,0.,0.,1.]]), axis = 0)"
   ]
  },
  {
   "cell_type": "code",
   "execution_count": 69,
   "id": "3a8a268b",
   "metadata": {},
   "outputs": [
    {
     "data": {
      "text/plain": [
       "(torch.Size([1, 50077, 3]), torch.Size([1, 50079, 3]))"
      ]
     },
     "execution_count": 69,
     "metadata": {},
     "output_type": "execute_result"
    }
   ],
   "source": [
    "try_pt = torch.tensor(tgt).unsqueeze(0).contiguous().to(torch.float32)\n",
    "try_ps = torch.tensor(src).unsqueeze(0).contiguous().to(torch.float32)\n",
    "try_pt.shape, try_ps.shape"
   ]
  },
  {
   "cell_type": "code",
   "execution_count": 70,
   "id": "63e9b1d6",
   "metadata": {},
   "outputs": [],
   "source": [
    "pt_kwy = int(tgt.shape[0] / 1024)\n",
    "pt_num = np.random.randint(0, pt_kwy, 1)\n",
    "tgtidx = list(range(pt_num[0], tgt.shape[0], int(pt_kwy+1)))\n",
    "ps_kwy = int(src.shape[0] / 1024)\n",
    "ps_num = np.random.randint(0, ps_kwy, 1)\n",
    "scridx = list(range(ps_num[0], src.shape[0], int(ps_kwy+1)))"
   ]
  },
  {
   "cell_type": "code",
   "execution_count": 71,
   "id": "37c2fce6",
   "metadata": {},
   "outputs": [],
   "source": [
    "sampt = try_pt[:, tgtidx, :]\n",
    "samps = try_ps[:, scridx, :]\n",
    "with torch.no_grad():\n",
    "    est_g, r = act.do_estimate(sampt, samps, model, args.device)"
   ]
  },
  {
   "cell_type": "code",
   "execution_count": 72,
   "id": "6da8b53a",
   "metadata": {},
   "outputs": [
    {
     "data": {
      "text/plain": [
       "(50079, 3)"
      ]
     },
     "execution_count": 72,
     "metadata": {},
     "output_type": "execute_result"
    }
   ],
   "source": [
    "g_hat = est_g.cpu().contiguous().view(-1, 4, 4)\n",
    "est_trans_pt = ptlk.se3.transform(g_hat.to(try_ps), try_ps.transpose(1,2).contiguous()).transpose(1,2).contiguous()\n",
    "est_pt = est_trans_pt[0].detach().numpy()\n",
    "est_pt.shape"
   ]
  },
  {
   "cell_type": "code",
   "execution_count": 73,
   "id": "e8eb8e00",
   "metadata": {},
   "outputs": [
    {
     "data": {
      "text/plain": [
       "PointCloud with 50079 points."
      ]
     },
     "execution_count": 73,
     "metadata": {},
     "output_type": "execute_result"
    }
   ],
   "source": [
    "est_ptpcd = o3d.geometry.PointCloud()\n",
    "est_ptpcd.points = o3d.utility.Vector3dVector(est_pt.reshape(-1, 3))\n",
    "est_ptpcd.paint_uniform_color([160/255, 255/255, 249/255])"
   ]
  },
  {
   "cell_type": "code",
   "execution_count": 74,
   "id": "36c1ccb1",
   "metadata": {},
   "outputs": [],
   "source": [
    "o3d.visualization.draw_geometries([ptpcd, est_ptpcd])"
   ]
  },
  {
   "cell_type": "code",
   "execution_count": 75,
   "id": "7a2cea66",
   "metadata": {},
   "outputs": [],
   "source": [
    "est_rot = est_g[:, 0:3, 0:3].reshape(3, 3).numpy()\n",
    "est_trans = est_g[:, 0:3, 3].reshape(3, 1).numpy()\n",
    "gt_rot = G[0:3, 0:3]\n",
    "gt_trans = G[0:3, 3].reshape(3, 1)"
   ]
  },
  {
   "cell_type": "code",
   "execution_count": 76,
   "id": "60c2722b",
   "metadata": {},
   "outputs": [],
   "source": [
    "test_r_mse = np.mean((gt_rot - est_rot) ** 2)\n",
    "test_r_rmse = np.sqrt(test_r_mse)\n",
    "test_r_mae = np.mean(np.abs(gt_rot - est_rot))\n",
    "test_t_mse = np.mean((gt_trans - est_trans) ** 2)\n",
    "test_t_rmse = np.sqrt(test_t_mse)\n",
    "test_t_mae = np.mean(np.abs(gt_trans - est_trans))"
   ]
  },
  {
   "cell_type": "code",
   "execution_count": 77,
   "id": "6eaa7de1",
   "metadata": {},
   "outputs": [
    {
     "name": "stdout",
     "output_type": "stream",
     "text": [
      "test_r_mse:0.003408,test_r_rmse:0.058378,test_r_mae:0.042210 test_t_mse:0.000472,test_t_rmse:0.021717,test_t_mae:0.017952\n"
     ]
    }
   ],
   "source": [
    "message_r = 'test_r_mse:{:.6f},test_r_rmse:{:.6f},test_r_mae:{:.6f}'.format(test_r_mse, test_r_rmse, test_r_mae)\n",
    "message_t = 'test_t_mse:{:.6f},test_t_rmse:{:.6f},test_t_mae:{:.6f}'.format(test_t_mse, test_t_rmse, test_t_mae)\n",
    "print(message_r, message_t)"
   ]
  },
  {
   "cell_type": "code",
   "execution_count": null,
   "id": "2894cc55",
   "metadata": {},
   "outputs": [],
   "source": []
  }
 ],
 "metadata": {
  "kernelspec": {
   "display_name": "python3",
   "language": "python",
   "name": "python3"
  },
  "language_info": {
   "codemirror_mode": {
    "name": "ipython",
    "version": 3
   },
   "file_extension": ".py",
   "mimetype": "text/x-python",
   "name": "python",
   "nbconvert_exporter": "python",
   "pygments_lexer": "ipython3",
   "version": "3.6.5"
  }
 },
 "nbformat": 4,
 "nbformat_minor": 5
}
